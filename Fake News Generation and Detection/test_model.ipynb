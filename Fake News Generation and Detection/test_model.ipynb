{
 "cells": [
  {
   "cell_type": "code",
   "execution_count": 1,
   "id": "1f32a4fc-cc30-4546-90e5-b55d3e158727",
   "metadata": {},
   "outputs": [
    {
     "name": "stdout",
     "output_type": "stream",
     "text": [
      "Looking in indexes: https://pypi.org/simple, https://pypi.ngc.nvidia.com\n",
      "Requirement already satisfied: transformers in /opt/conda/lib/python3.8/site-packages (4.19.4)\n",
      "Requirement already satisfied: packaging>=20.0 in /opt/conda/lib/python3.8/site-packages (from transformers) (21.3)\n",
      "Requirement already satisfied: requests in /opt/conda/lib/python3.8/site-packages (from transformers) (2.26.0)\n",
      "Requirement already satisfied: huggingface-hub<1.0,>=0.1.0 in /opt/conda/lib/python3.8/site-packages (from transformers) (0.7.0)\n",
      "Requirement already satisfied: numpy>=1.17 in /opt/conda/lib/python3.8/site-packages (from transformers) (1.22.2)\n",
      "Requirement already satisfied: filelock in /opt/conda/lib/python3.8/site-packages (from transformers) (3.4.2)\n",
      "Requirement already satisfied: pyyaml>=5.1 in /opt/conda/lib/python3.8/site-packages (from transformers) (5.4.1)\n",
      "Requirement already satisfied: tqdm>=4.27 in /opt/conda/lib/python3.8/site-packages (from transformers) (4.62.3)\n",
      "Requirement already satisfied: tokenizers!=0.11.3,<0.13,>=0.11.1 in /opt/conda/lib/python3.8/site-packages (from transformers) (0.12.1)\n",
      "Requirement already satisfied: regex!=2019.12.17 in /opt/conda/lib/python3.8/site-packages (from transformers) (2022.1.18)\n",
      "Requirement already satisfied: typing-extensions>=3.7.4.3 in /opt/conda/lib/python3.8/site-packages (from huggingface-hub<1.0,>=0.1.0->transformers) (4.0.1)\n",
      "Requirement already satisfied: pyparsing!=3.0.5,>=2.0.2 in /opt/conda/lib/python3.8/site-packages (from packaging>=20.0->transformers) (3.0.7)\n",
      "Requirement already satisfied: charset-normalizer~=2.0.0 in /opt/conda/lib/python3.8/site-packages (from requests->transformers) (2.0.9)\n",
      "Requirement already satisfied: idna<4,>=2.5 in /opt/conda/lib/python3.8/site-packages (from requests->transformers) (3.1)\n",
      "Requirement already satisfied: certifi>=2017.4.17 in /opt/conda/lib/python3.8/site-packages (from requests->transformers) (2021.10.8)\n",
      "Requirement already satisfied: urllib3<1.27,>=1.21.1 in /opt/conda/lib/python3.8/site-packages (from requests->transformers) (1.26.7)\n",
      "\u001b[33mWARNING: Running pip as the 'root' user can result in broken permissions and conflicting behaviour with the system package manager. It is recommended to use a virtual environment instead: https://pip.pypa.io/warnings/venv\u001b[0m\n",
      "Looking in indexes: https://pypi.org/simple, https://pypi.ngc.nvidia.com\n",
      "Requirement already satisfied: seaborn in /opt/conda/lib/python3.8/site-packages (0.11.2)\n",
      "Requirement already satisfied: scipy>=1.0 in /opt/conda/lib/python3.8/site-packages (from seaborn) (1.6.3)\n",
      "Requirement already satisfied: matplotlib>=2.2 in /opt/conda/lib/python3.8/site-packages (from seaborn) (3.5.1)\n",
      "Requirement already satisfied: pandas>=0.23 in /opt/conda/lib/python3.8/site-packages (from seaborn) (1.3.5)\n",
      "Requirement already satisfied: numpy>=1.15 in /opt/conda/lib/python3.8/site-packages (from seaborn) (1.22.2)\n",
      "Requirement already satisfied: python-dateutil>=2.7 in /opt/conda/lib/python3.8/site-packages (from matplotlib>=2.2->seaborn) (2.8.2)\n",
      "Requirement already satisfied: kiwisolver>=1.0.1 in /opt/conda/lib/python3.8/site-packages (from matplotlib>=2.2->seaborn) (1.3.2)\n",
      "Requirement already satisfied: fonttools>=4.22.0 in /opt/conda/lib/python3.8/site-packages (from matplotlib>=2.2->seaborn) (4.29.1)\n",
      "Requirement already satisfied: cycler>=0.10 in /opt/conda/lib/python3.8/site-packages (from matplotlib>=2.2->seaborn) (0.11.0)\n",
      "Requirement already satisfied: pillow>=6.2.0 in /opt/conda/lib/python3.8/site-packages (from matplotlib>=2.2->seaborn) (9.0.0)\n",
      "Requirement already satisfied: packaging>=20.0 in /opt/conda/lib/python3.8/site-packages (from matplotlib>=2.2->seaborn) (21.3)\n",
      "Requirement already satisfied: pyparsing>=2.2.1 in /opt/conda/lib/python3.8/site-packages (from matplotlib>=2.2->seaborn) (3.0.7)\n",
      "Requirement already satisfied: pytz>=2017.3 in /opt/conda/lib/python3.8/site-packages (from pandas>=0.23->seaborn) (2021.3)\n",
      "Requirement already satisfied: six>=1.5 in /opt/conda/lib/python3.8/site-packages (from python-dateutil>=2.7->matplotlib>=2.2->seaborn) (1.16.0)\n",
      "\u001b[33mWARNING: Running pip as the 'root' user can result in broken permissions and conflicting behaviour with the system package manager. It is recommended to use a virtual environment instead: https://pip.pypa.io/warnings/venv\u001b[0m\n"
     ]
    }
   ],
   "source": [
    "!pip install transformers\n",
    "!pip install seaborn"
   ]
  },
  {
   "cell_type": "code",
   "execution_count": 2,
   "id": "817c2e76-c365-450e-abc3-204ed476ac46",
   "metadata": {},
   "outputs": [
    {
     "data": {
      "text/plain": [
       "device(type='cuda')"
      ]
     },
     "execution_count": 2,
     "metadata": {},
     "output_type": "execute_result"
    }
   ],
   "source": [
    "import torch\n",
    "import torch.nn as nn\n",
    "DEVICE = torch.device(\"cuda\") if torch.cuda.is_available() else torch.device(\"cpu\")\n",
    "DEVICE"
   ]
  },
  {
   "cell_type": "code",
   "execution_count": 3,
   "id": "04d8b9d9-f85e-48bf-98e6-911eec74210d",
   "metadata": {},
   "outputs": [],
   "source": [
    "# Importing the libraries needed\n",
    "import pandas as pd\n",
    "import numpy as np\n",
    "from sklearn.model_selection import train_test_split\n",
    "import seaborn as sns\n",
    "import transformers\n",
    "import json\n",
    "# from tqdm import tqdm\n",
    "from torch.utils.data import Dataset, DataLoader\n",
    "# from transformers import RobertaModel, RobertaTokenizer, RobertaForSequenceClassification, AdamW\n",
    "from transformers import RobertaModel, AdamW\n",
    "from transformers import get_linear_schedule_with_warmup\n",
    "from transformers.optimization import AdamW\n",
    "from sys import platform\n",
    "import os\n",
    "import logging\n",
    "logging.basicConfig(level=logging.ERROR)"
   ]
  },
  {
   "cell_type": "code",
   "execution_count": 4,
   "id": "f7108c29-a087-458f-8c06-fe8d659ca0ad",
   "metadata": {},
   "outputs": [],
   "source": [
    "from transformers import (\n",
    "    BertForSequenceClassification, \n",
    "    AlbertForSequenceClassification, \n",
    "    XLNetForSequenceClassification, \n",
    "    RobertaForSequenceClassification, \n",
    "    AutoTokenizer\n",
    ")"
   ]
  },
  {
   "cell_type": "code",
   "execution_count": 5,
   "id": "ce818017-c180-475f-989d-108790fcbddc",
   "metadata": {},
   "outputs": [],
   "source": [
    "max_seq_len = 40"
   ]
  },
  {
   "cell_type": "code",
   "execution_count": 7,
   "id": "4aeb119e-6df1-496d-a17d-6c0bda9efb4c",
   "metadata": {},
   "outputs": [],
   "source": [
    "class RobertModel(nn.Module):\n",
    "    def __init__(self, requires_grad = True):\n",
    "        super(RobertModel, self).__init__()\n",
    "        # config = RobertaForSequenceClassification.from_pretrained( 'roberta-base', output_hidden_states=True, num_labels = 2)    \n",
    "        # self.bert = RobertaForSequenceClassification.from_pretrained(bert_model, output_hidden_states=True, num_labels = 2)\n",
    "        # self.tokenizer = AutoTokenizer.from_pretrained(bert_model, do_lower_case=True)\n",
    "        self.bert = torch.load('../FND/Model/output/Roberta/Roberta-base/model-roberta-base.pth')\n",
    "        self.tokenizer = torch.load('../FND/Model/output/Roberta/Roberta-base/tokenizer-roberta-base.pth')\n",
    "        self.requires_grad = requires_grad\n",
    "        self.device = torch.device(\"cuda\")\n",
    "        for param in self.bert.parameters():\n",
    "            param.requires_grad = requires_grad  # Each parameter requires gradient\n",
    "\n",
    "    def forward(self, batch_seqs, batch_seq_masks, batch_seq_segments, labels = None):\n",
    "\n",
    "        loss, logits = self.bert(input_ids = batch_seqs, attention_mask = batch_seq_masks, \n",
    "                                  token_type_ids=batch_seq_segments, labels = labels)[:2]\n",
    "        # print(logits)\n",
    "        probabilities = nn.functional.softmax(logits, dim=-1)\n",
    "        # print(probabilities)\n",
    "        return loss, logits, probabilities"
   ]
  },
  {
   "cell_type": "code",
   "execution_count": 8,
   "id": "7c64dd56-00ad-4a11-8bbc-ad99b6c3269d",
   "metadata": {},
   "outputs": [],
   "source": [
    "import time\n",
    "from tqdm import tqdm\n",
    "from sklearn.metrics import (\n",
    "    roc_auc_score, \n",
    "    accuracy_score, \n",
    "    precision_score, \n",
    "    recall_score, \n",
    "    f1_score, \n",
    "    classification_report\n",
    ")  "
   ]
  },
  {
   "cell_type": "code",
   "execution_count": 9,
   "id": "a8325c0c-739d-49f8-9190-62e441bedd54",
   "metadata": {},
   "outputs": [
    {
     "data": {
      "text/plain": [
       "device(type='cuda', index=0)"
      ]
     },
     "execution_count": 9,
     "metadata": {},
     "output_type": "execute_result"
    }
   ],
   "source": [
    "device = torch.device(\"cuda:0\")\n",
    "device"
   ]
  },
  {
   "cell_type": "code",
   "execution_count": 31,
   "id": "8d9e1228-1b66-4565-8200-6c101b71e851",
   "metadata": {},
   "outputs": [],
   "source": [
    "PATH = 'Model/roberta-fng-d.pth'\n",
    "\n",
    "model = RobertModel(requires_grad = True)\n",
    "checkpoint = torch.load(PATH)\n",
    "# model.to(device)\n",
    "model.load_state_dict(checkpoint['model'])\n",
    "model = model.eval()"
   ]
  },
  {
   "cell_type": "code",
   "execution_count": 32,
   "id": "100511c5-bc2d-4566-a2af-313b18da55e2",
   "metadata": {},
   "outputs": [
    {
     "name": "stdout",
     "output_type": "stream",
     "text": [
      "epoch\n",
      "model\n",
      "optimizer\n",
      "tokenizer\n",
      "best_score\n",
      "epochs_count\n",
      "train_losses\n",
      "train_accuracy\n",
      "valid_losses\n",
      "valid_accuracy\n",
      "valid_auc\n",
      "epoch_times\n"
     ]
    }
   ],
   "source": [
    "for i in checkpoint:\n",
    "    print(i)"
   ]
  },
  {
   "cell_type": "code",
   "execution_count": 33,
   "id": "0bb582f0-6b16-47ce-b75a-a388098b0e8a",
   "metadata": {},
   "outputs": [
    {
     "data": {
      "text/plain": [
       "([183.3703064918518, 183.68939113616943, 183.57533478736877],\n",
       " [0.6929742412096789,\n",
       "  0.35232970566428257,\n",
       "  0.12376934681628567,\n",
       "  0.08844500306425337],\n",
       " [0.49104859335038364,\n",
       "  0.8224171005755001,\n",
       "  0.9562893943546177,\n",
       "  0.9702658262537681],\n",
       " [0.6929742412096789,\n",
       "  0.15351137345289292,\n",
       "  0.1266853003604274,\n",
       "  0.1309729260608291],\n",
       " [0.49104859335038364,\n",
       "  0.9441602728047741,\n",
       "  0.960997442455243,\n",
       "  0.9631287297527706])"
      ]
     },
     "execution_count": 33,
     "metadata": {},
     "output_type": "execute_result"
    }
   ],
   "source": [
    "checkpoint['epoch_times'],checkpoint['train_losses'],checkpoint['train_accuracy'],checkpoint['valid_losses'],checkpoint['valid_accuracy']"
   ]
  },
  {
   "cell_type": "code",
   "execution_count": 35,
   "id": "50afd8d7-963c-41e2-b7ef-34a9b636a9c4",
   "metadata": {},
   "outputs": [
    {
     "data": {
      "image/png": "[encoded data removed]",
      "text/plain": [
       "<Figure size 432x288 with 1 Axes>"
      ]
     },
     "metadata": {
      "needs_background": "light"
     },
     "output_type": "display_data"
    }
   ],
   "source": [
    "import matplotlib as mpl\n",
    "import matplotlib.pyplot as plt\n",
    "import numpy as np\n",
    "\n",
    "loss_train = checkpoint['train_losses']\n",
    "loss_val = checkpoint['valid_losses']\n",
    "# epochs = checkpoint['epochs_count']\n",
    "epochs = [0,1,2,3]\n",
    "plt.plot(epochs, loss_train, 'g', label='Training loss')\n",
    "plt.plot(epochs, loss_val, 'b', label='Validation loss')\n",
    "plt.title('Training and Validation loss')\n",
    "plt.xlabel('Epochs')\n",
    "plt.ylabel('Loss')\n",
    "plt.legend()\n",
    "plt.show()"
   ]
  },
  {
   "cell_type": "code",
   "execution_count": 37,
   "id": "ed31a526-6ed1-47b8-bb8d-e469bd260457",
   "metadata": {},
   "outputs": [
    {
     "data": {
      "image/png": "[encoded data removed]",
      "text/plain": [
       "<Figure size 432x288 with 1 Axes>"
      ]
     },
     "metadata": {
      "needs_background": "light"
     },
     "output_type": "display_data"
    }
   ],
   "source": [
    "# !pip install matplotlib\n",
    "import matplotlib as mpl\n",
    "import matplotlib.pyplot as plt\n",
    "import numpy as np\n",
    "\n",
    "loss_train = checkpoint['train_accuracy']\n",
    "loss_val = checkpoint['valid_accuracy']\n",
    "# epochs = checkpoint['epochs_count']\n",
    "epochs = [0,1,2,4]\n",
    "plt.plot(epochs, loss_train, 'g', label='Training accuracy')\n",
    "plt.plot(epochs, loss_val, 'b', label='Validation accuracy')\n",
    "plt.title('Training and Validation accuracy')\n",
    "plt.xlabel('Epochs')\n",
    "plt.ylabel('Loss')\n",
    "plt.legend()\n",
    "plt.show()"
   ]
  },
  {
   "cell_type": "code",
   "execution_count": 19,
   "id": "8f88d8f8-c088-4bc0-9cc7-235a1df1dbdc",
   "metadata": {},
   "outputs": [],
   "source": [
    "tokenizer = model.tokenizer\n",
    "# tokenizer1 = model1.tokenizer"
   ]
  },
  {
   "cell_type": "code",
   "execution_count": 20,
   "id": "53a8d7df-1918-438a-890b-23bc79f6ab4d",
   "metadata": {},
   "outputs": [],
   "source": [
    "news = \"Capitol riot hearing: Trump dismisses daughter Ivanka's testimony'\""
   ]
  },
  {
   "cell_type": "code",
   "execution_count": 21,
   "id": "d4ae5fe4-9d03-4a42-a3c4-f225ba10d527",
   "metadata": {},
   "outputs": [
    {
     "data": {
      "text/plain": [
       "8"
      ]
     },
     "execution_count": 21,
     "metadata": {},
     "output_type": "execute_result"
    }
   ],
   "source": [
    "test = len(news.split())\n",
    "if test <= 512:\n",
    "    max_len = test\n",
    "else:\n",
    "    max_len = 512\n",
    "test"
   ]
  },
  {
   "cell_type": "code",
   "execution_count": 23,
   "id": "fdc9026d-b5cd-4807-8c83-1d0e44aade21",
   "metadata": {},
   "outputs": [],
   "source": [
    "encoding = tokenizer(news, \n",
    "                     pad_to_max_length=True,\n",
    "                     truncation=True,\n",
    "                     max_length= max_len ,\n",
    "                     return_tensors='pt',\n",
    "                     return_token_type_ids= True)"
   ]
  },
  {
   "cell_type": "code",
   "execution_count": 24,
   "id": "2a3f7c56-f3ab-4d8b-b75b-09e21ae94306",
   "metadata": {},
   "outputs": [
    {
     "name": "stdout",
     "output_type": "stream",
     "text": [
      "input_ids\n",
      "token_type_ids\n",
      "attention_mask\n"
     ]
    }
   ],
   "source": [
    "for i in encoding:\n",
    "    print(i)"
   ]
  },
  {
   "cell_type": "code",
   "execution_count": 25,
   "id": "299451a2-c066-4cdb-bffc-b974a8a2f76b",
   "metadata": {},
   "outputs": [],
   "source": [
    "\n",
    "input_ids = encoding['input_ids']\n",
    "attention_mask = encoding['attention_mask']\n",
    "token_type_ids = encoding['token_type_ids']\n",
    "labels = torch.tensor([1])\n"
   ]
  },
  {
   "cell_type": "code",
   "execution_count": 29,
   "id": "836e350a-cb43-44fc-a410-10787a130066",
   "metadata": {},
   "outputs": [],
   "source": [
    "model1 = model1.to(device)\n",
    "input_ids = encoding['input_ids'].to(device)\n",
    "attention_mask = encoding['attention_mask'].to(device)\n",
    "token_type_ids = encoding['token_type_ids'].to(device)\n",
    "labels = torch.tensor([1]).to(device)"
   ]
  },
  {
   "cell_type": "code",
   "execution_count": 26,
   "id": "41fb84cd-8696-4c0c-a973-808540113354",
   "metadata": {},
   "outputs": [
    {
     "data": {
      "text/plain": [
       "\"Capitol riot hearing: Trump dismisses daughter Ivanka's testimony'\""
      ]
     },
     "execution_count": 26,
     "metadata": {},
     "output_type": "execute_result"
    }
   ],
   "source": [
    "news"
   ]
  },
  {
   "cell_type": "code",
   "execution_count": 28,
   "id": "d39ec198-e19d-4c06-acbb-ddae36a07413",
   "metadata": {},
   "outputs": [],
   "source": [
    "loss, logits, probabilities = model(input_ids,attention_mask,token_type_ids, labels=labels)"
   ]
  },
  {
   "cell_type": "code",
   "execution_count": 29,
   "id": "6ff74b39-aa3d-4f86-92b9-ccac695b7804",
   "metadata": {},
   "outputs": [
    {
     "name": "stdout",
     "output_type": "stream",
     "text": [
      "This article is: Real\n"
     ]
    }
   ],
   "source": [
    "fake_prob = probabilities[0][0].item()\n",
    "real_prob = probabilities[0][1].item()\n",
    "if real_prob >= 0.5:\n",
    "    print('This article is: Real')\n",
    "else:\n",
    "    print('This article is: Fake')"
   ]
  },
  {
   "cell_type": "code",
   "execution_count": null,
   "id": "3e5ee7e0-6d88-4cb2-804d-3ca5b0791e17",
   "metadata": {},
   "outputs": [
    {
     "data": {
      "text/plain": [
       "tensor([[0.0093, 0.9907]], grad_fn=<SoftmaxBackward0>)"
      ]
     },
     "execution_count": 30,
     "metadata": {},
     "output_type": "execute_result"
    }
   ],
   "source": [
    "probabilities"
   ]
  }
 ],
 "metadata": {
  "kernelspec": {
   "display_name": "Python 3 (ipykernel)",
   "language": "python",
   "name": "python3"
  },
  "language_info": {
   "codemirror_mode": {
    "name": "ipython",
    "version": 3
   },
   "file_extension": ".py",
   "mimetype": "text/x-python",
   "name": "python",
   "nbconvert_exporter": "python",
   "pygments_lexer": "ipython3",
   "version": "3.8.12"
  }
 },
 "nbformat": 4,
 "nbformat_minor": 5
}
