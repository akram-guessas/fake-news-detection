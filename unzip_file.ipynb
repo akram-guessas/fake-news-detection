{
 "cells": [
  {
   "cell_type": "code",
   "execution_count": 1,
   "id": "2f29523d-8cea-4e2d-a71d-c180e53e6d39",
   "metadata": {},
   "outputs": [],
   "source": [
    "from zipfile import ZipFile"
   ]
  },
  {
   "cell_type": "code",
   "execution_count": 2,
   "id": "e2a31aeb-2c01-44b2-be6a-a144428dc3fa",
   "metadata": {},
   "outputs": [],
   "source": [
    "# Create a ZipFile Object and load sample.zip in it\n",
    "with ZipFile('Dataset.zip', 'r') as zipObj:\n",
    "   # Extract all the contents of zip file in current directory\n",
    "   zipObj.extractall()"
   ]
  },
  {
   "cell_type": "code",
   "execution_count": null,
   "id": "35a24cbf-75ec-4772-b85f-c275df62e8ea",
   "metadata": {},
   "outputs": [],
   "source": [
    "\"\"\"\n",
    "                  torch.save({\"epoch\": epoch, \n",
    "                           \"model\": model.state_dict(),\n",
    "                           \"optimizer\": optimizer.state_dict(),\n",
    "                           \"best_score\": best_score,\n",
    "                           \"epochs_count\": epochs_count,\n",
    "                           \"train_losses\": train_losses,\n",
    "                           \"train_accuracy\": train_accuracies,\n",
    "                           \"valid_losses\": valid_losses,\n",
    "                           \"valid_accuracy\": valid_accuracies,\n",
    "                           \"valid_auc\": valid_aucs\n",
    "                           },\n",
    "                           os.path.join(target_dir, \"best.pth\"))\n",
    "                  \"\"\""
   ]
  }
 ],
 "metadata": {
  "kernelspec": {
   "display_name": "Python 3 (ipykernel)",
   "language": "python",
   "name": "python3"
  },
  "language_info": {
   "codemirror_mode": {
    "name": "ipython",
    "version": 3
   },
   "file_extension": ".py",
   "mimetype": "text/x-python",
   "name": "python",
   "nbconvert_exporter": "python",
   "pygments_lexer": "ipython3",
   "version": "3.8.12"
  }
 },
 "nbformat": 4,
 "nbformat_minor": 5
}
