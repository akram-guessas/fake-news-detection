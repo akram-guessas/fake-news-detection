{
 "cells": [
  {
   "cell_type": "markdown",
   "id": "f4f1d930-fdae-4f2a-a081-50d35dbe5cd8",
   "metadata": {},
   "source": [
    "# BERT Model**"
   ]
  },
  {
   "cell_type": "code",
   "execution_count": null,
   "id": "12eb63ee-bc64-46ee-b2bc-cb60bcefd828",
   "metadata": {},
   "outputs": [],
   "source": [
    "class BertModel(nn.Module):\n",
    "    def __init__(self, requires_grad = True):\n",
    "        super(BertModel, self).__init__()\n",
    "        self.bert = BertForSequenceClassification.from_pretrained('textattack/bert-base-uncased-SST-2',num_labels = 2)\n",
    "        self.tokenizer = AutoTokenizer.from_pretrained('textattack/bert-base-uncased-SST-2', do_lower_case=True)\n",
    "        self.requires_grad = requires_grad\n",
    "        self.device = torch.device(\"cuda\")\n",
    "        for param in self.bert.parameters():\n",
    "            param.requires_grad = requires_grad  # Each parameter requires gradient\n",
    "\n",
    "    def forward(self, batch_seqs, batch_seq_masks, batch_seq_segments, labels):\n",
    "        loss, logits = self.bert(input_ids = batch_seqs, attention_mask = batch_seq_masks, \n",
    "                              token_type_ids=batch_seq_segments, labels = labels)[:2]\n",
    "        probabilities = nn.functional.softmax(logits, dim=-1)\n",
    "        return loss, logits, probabilities"
   ]
  },
  {
   "cell_type": "code",
   "execution_count": null,
   "id": "b2964d14-822e-4e9b-855b-3387cb6d296f",
   "metadata": {},
   "outputs": [],
   "source": [
    "class RobertModel(nn.Module):\n",
    "    def __init__(self, requires_grad = True):\n",
    "        super(RobertModel, self).__init__()\n",
    "        self.bert = RobertaForSequenceClassification.from_pretrained('roberta-base', num_labels = 2)\n",
    "        self.tokenizer = AutoTokenizer.from_pretrained('roberta-base', do_lower_case=True)\n",
    "        self.requires_grad = requires_grad\n",
    "        self.device = torch.device(\"cuda\")\n",
    "        for param in self.bert.parameters():\n",
    "            param.requires_grad = requires_grad  # Each parameter requires gradient\n",
    "\n",
    "    def forward(self, batch_seqs, batch_seq_masks, batch_seq_segments, labels):\n",
    "        loss, logits = self.bert(input_ids = batch_seqs, attention_mask = batch_seq_masks, \n",
    "                              token_type_ids=batch_seq_segments, labels = labels)[:2]\n",
    "        probabilities = nn.functional.softmax(logits, dim=-1)\n",
    "        return loss, logits, probabilities"
   ]
  }
 ],
 "metadata": {
  "kernelspec": {
   "display_name": "Python 3 (ipykernel)",
   "language": "python",
   "name": "python3"
  },
  "language_info": {
   "codemirror_mode": {
    "name": "ipython",
    "version": 3
   },
   "file_extension": ".py",
   "mimetype": "text/x-python",
   "name": "python",
   "nbconvert_exporter": "python",
   "pygments_lexer": "ipython3",
   "version": "3.8.12"
  }
 },
 "nbformat": 4,
 "nbformat_minor": 5
}
