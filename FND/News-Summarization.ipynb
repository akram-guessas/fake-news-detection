{
 "cells": [
  {
   "cell_type": "code",
   "execution_count": 1,
   "id": "c6c9f2f2-8dd7-492c-841a-a7254599729b",
   "metadata": {},
   "outputs": [
    {
     "name": "stdout",
     "output_type": "stream",
     "text": [
      "Looking in indexes: https://pypi.org/simple, https://pypi.ngc.nvidia.com\n",
      "Collecting transformers\n",
      "  Downloading transformers-4.19.2-py3-none-any.whl (4.2 MB)\n",
      "\u001b[K     |████████████████████████████████| 4.2 MB 18.3 MB/s eta 0:00:01\n",
      "\u001b[?25hCollecting sentencepiece\n",
      "  Downloading sentencepiece-0.1.96-cp38-cp38-manylinux_2_17_x86_64.manylinux2014_x86_64.whl (1.2 MB)\n",
      "\u001b[K     |████████████████████████████████| 1.2 MB 32.6 MB/s eta 0:00:01\n",
      "\u001b[?25hCollecting huggingface-hub<1.0,>=0.1.0\n",
      "  Downloading huggingface_hub-0.7.0-py3-none-any.whl (86 kB)\n",
      "\u001b[K     |████████████████████████████████| 86 kB 42.1 MB/s eta 0:00:01\n",
      "\u001b[?25hRequirement already satisfied: filelock in /opt/conda/lib/python3.8/site-packages (from transformers) (3.4.2)\n",
      "Collecting tokenizers!=0.11.3,<0.13,>=0.11.1\n",
      "  Downloading tokenizers-0.12.1-cp38-cp38-manylinux_2_12_x86_64.manylinux2010_x86_64.whl (6.6 MB)\n",
      "\u001b[K     |████████████████████████████████| 6.6 MB 21.3 MB/s eta 0:00:01\n",
      "\u001b[?25hRequirement already satisfied: pyyaml>=5.1 in /opt/conda/lib/python3.8/site-packages (from transformers) (5.4.1)\n",
      "Requirement already satisfied: numpy>=1.17 in /opt/conda/lib/python3.8/site-packages (from transformers) (1.22.2)\n",
      "Requirement already satisfied: tqdm>=4.27 in /opt/conda/lib/python3.8/site-packages (from transformers) (4.62.3)\n",
      "Requirement already satisfied: regex!=2019.12.17 in /opt/conda/lib/python3.8/site-packages (from transformers) (2022.1.18)\n",
      "Requirement already satisfied: requests in /opt/conda/lib/python3.8/site-packages (from transformers) (2.26.0)\n",
      "Requirement already satisfied: packaging>=20.0 in /opt/conda/lib/python3.8/site-packages (from transformers) (21.3)\n",
      "Requirement already satisfied: typing-extensions>=3.7.4.3 in /opt/conda/lib/python3.8/site-packages (from huggingface-hub<1.0,>=0.1.0->transformers) (4.0.1)\n",
      "Requirement already satisfied: pyparsing!=3.0.5,>=2.0.2 in /opt/conda/lib/python3.8/site-packages (from packaging>=20.0->transformers) (3.0.7)\n",
      "Requirement already satisfied: idna<4,>=2.5 in /opt/conda/lib/python3.8/site-packages (from requests->transformers) (3.1)\n",
      "Requirement already satisfied: urllib3<1.27,>=1.21.1 in /opt/conda/lib/python3.8/site-packages (from requests->transformers) (1.26.7)\n",
      "Requirement already satisfied: certifi>=2017.4.17 in /opt/conda/lib/python3.8/site-packages (from requests->transformers) (2021.10.8)\n",
      "Requirement already satisfied: charset-normalizer~=2.0.0 in /opt/conda/lib/python3.8/site-packages (from requests->transformers) (2.0.9)\n",
      "Installing collected packages: tokenizers, huggingface-hub, transformers, sentencepiece\n",
      "Successfully installed huggingface-hub-0.7.0 sentencepiece-0.1.96 tokenizers-0.12.1 transformers-4.19.2\n",
      "\u001b[33mWARNING: Running pip as the 'root' user can result in broken permissions and conflicting behaviour with the system package manager. It is recommended to use a virtual environment instead: https://pip.pypa.io/warnings/venv\u001b[0m\n"
     ]
    }
   ],
   "source": [
    "!pip install transformers sentencepiece"
   ]
  },
  {
   "cell_type": "code",
   "execution_count": 12,
   "id": "6772d2ee-a784-4bd0-aeb4-5894d22daef9",
   "metadata": {},
   "outputs": [],
   "source": [
    "\"\"\"\n",
    "import torch\n",
    "from transformers import AutoModelWithLMHead, AutoTokenizer\n",
    "\n",
    "# tokenizer = AutoTokenizer.from_pretrained(\"mrm8488/t5-base-finetuned-summarize-news\")\n",
    "# model = AutoModelWithLMHead.from_pretrained(\"mrm8488/t5-base-finetuned-summarize-news\")\n",
    "PATH_model = '../Model/output/T5 Model/t5-base-finetuned-summarize-news.pth'\n",
    "PATH_tokenizer = '../Model/output/T5 Model/t5-tokenizer-summarize-news.pth'\n",
    "\n",
    "torch.save(model, PATH_model)\n",
    "torch.save(tokenizer, PATH_tokenizer)\n",
    "\"\"\""
   ]
  },
  {
   "cell_type": "code",
   "execution_count": 2,
   "id": "60d6a15c-1f19-46a9-990e-285407fd61fc",
   "metadata": {},
   "outputs": [],
   "source": [
    "import torch\n",
    "\n",
    "PATH_model = '../Model/output/T5 Model/t5-base-finetuned-summarize-news.pth'\n",
    "PATH_tokenizer = '../Model/output/T5 Model/t5-tokenizer-summarize-news.pth'\n",
    "device = torch.device(\"cuda:0\" if torch.cuda.is_available() else \"cpu\")\n",
    "\n",
    "model = torch.load(PATH_model).to(device)\n",
    "tokenizer = torch.load(PATH_tokenizer)\n",
    "\n",
    "def summarize(text, max_length=150):\n",
    "    # input_ids = tokenizer.encode(text, return_tensors=\"pt\", add_special_tokens=True).to(device)\n",
    "    \n",
    "    encoding = tokenizer(\n",
    "    text,\n",
    "    padding=\"longest\",\n",
    "    max_length=1500,\n",
    "    truncation=True,\n",
    "    return_tensors=\"pt\",\n",
    "    )\n",
    "    \n",
    "    # input_ids, attention_mask = encoding.input_ids, encoding.attention_mask\n",
    "    input_ids = encoding.input_ids\n",
    "    input_ids = input_ids.to(device)\n",
    "    generated_ids = model.generate(input_ids=input_ids, num_beams=2, max_length=max_length,  repetition_penalty=2.5, length_penalty=1.0, early_stopping=True)\n",
    "\n",
    "    preds = [tokenizer.decode(g, skip_special_tokens=True, clean_up_tokenization_spaces=True) for g in generated_ids]\n",
    "\n",
    "    return preds[0]"
   ]
  },
  {
   "cell_type": "code",
   "execution_count": 3,
   "id": "4a5375a6-d712-4a30-acfa-52c678cb763c",
   "metadata": {},
   "outputs": [
    {
     "name": "stdout",
     "output_type": "stream",
     "text": [
      "<class 'pandas.core.frame.DataFrame'>\n",
      "RangeIndex: 8078 entries, 0 to 8077\n",
      "Data columns (total 4 columns):\n",
      " #   Column          Non-Null Count  Dtype \n",
      "---  ------          --------------  ----- \n",
      " 0   index           8078 non-null   int64 \n",
      " 1   Real title      8078 non-null   object\n",
      " 2   Generated text  8078 non-null   object\n",
      " 3   label           8078 non-null   int64 \n",
      "dtypes: int64(2), object(2)\n",
      "memory usage: 252.6+ KB\n"
     ]
    }
   ],
   "source": [
    "import pandas as pd\n",
    "df_test = pd.read_csv('Dataset/generated_article_8078.csv') \n",
    "# df = df_test.iloc[:3000]\n",
    "df = df_test\n",
    "df.info()"
   ]
  },
  {
   "cell_type": "code",
   "execution_count": 4,
   "id": "8a0ad69a-b0e5-4ec0-8f3c-c4eddaf2613f",
   "metadata": {},
   "outputs": [
    {
     "name": "stdout",
     "output_type": "stream",
     "text": [
      "2022-06-03 13:07:17.489383\n",
      "300/8078  || Time: 0:11:36.895959 Total steps: 300\n",
      "600/8078  || Time: 0:23:03.539388 Total steps: 600\n",
      "900/8078  || Time: 0:35:27.215656 Total steps: 900\n",
      "1200/8078  || Time: 0:47:38.568674 Total steps: 1200\n",
      "1500/8078  || Time: 1:00:00.856950 Total steps: 1500\n",
      "1800/8078  || Time: 1:12:13.955946 Total steps: 1800\n",
      "2100/8078  || Time: 1:24:32.605471 Total steps: 2100\n",
      "2400/8078  || Time: 1:36:38.241870 Total steps: 2400\n",
      "2700/8078  || Time: 1:48:36.825060 Total steps: 2700\n",
      "3000/8078  || Time: 2:00:40.348127 Total steps: 3000\n",
      "3300/8078  || Time: 2:12:20.275385 Total steps: 3300\n",
      "3600/8078  || Time: 2:24:41.260895 Total steps: 3600\n",
      "3900/8078  || Time: 2:36:57.198686 Total steps: 3900\n",
      "4200/8078  || Time: 2:48:30.719001 Total steps: 4200\n",
      "4500/8078  || Time: 3:00:24.554808 Total steps: 4500\n",
      "4800/8078  || Time: 3:12:35.663935 Total steps: 4800\n",
      "5100/8078  || Time: 3:24:39.890263 Total steps: 5100\n",
      "5400/8078  || Time: 3:36:52.860735 Total steps: 5400\n",
      "5700/8078  || Time: 3:48:40.564272 Total steps: 5700\n",
      "6000/8078  || Time: 4:00:39.363699 Total steps: 6000\n",
      "6300/8078  || Time: 4:11:27.534227 Total steps: 6300\n",
      "6600/8078  || Time: 4:22:58.901595 Total steps: 6600\n",
      "6900/8078  || Time: 4:33:47.811294 Total steps: 6900\n",
      "7200/8078  || Time: 4:45:05.050336 Total steps: 7200\n",
      "7500/8078  || Time: 4:56:33.178407 Total steps: 7500\n",
      "7800/8078  || Time: 5:08:40.015873 Total steps: 7800\n",
      "5:18:43.885255\n"
     ]
    }
   ],
   "source": [
    "from datetime import datetime\n",
    "START = datetime.now()\n",
    "print(START)\n",
    "i = 1\n",
    "c = 0\n",
    "list = []\n",
    "for index, row in df.iterrows():\n",
    "    d = {}\n",
    "    try:\n",
    "        title = row['Real title']\n",
    "        text = row['Generated text'].replace(title, '')\n",
    "        output = summarize(text, max_length=150)\n",
    "        c += 1\n",
    "        if i%300 == 0:\n",
    "            print(str(i)+'/'+str(len(df)),' || Time: ' + str(datetime.now() - START), 'Total steps: ' + str(c))\n",
    "\n",
    "        try:\n",
    "            output = output.split('nnn')[0]\n",
    "        except:\n",
    "            output = output\n",
    "        text = title  + output\n",
    "        d['index'] = row['index']\n",
    "        d['title'] = title\n",
    "        d['text'] = text\n",
    "        d['label'] = row['label']\n",
    "        list.append(d)\n",
    "        i += 1\n",
    "    except:\n",
    "        pass\n",
    "print(datetime.now() - START)"
   ]
  },
  {
   "cell_type": "code",
   "execution_count": null,
   "id": "534f3426-85de-4cf5-9bf4-27cb0c057f59",
   "metadata": {},
   "outputs": [],
   "source": [
    "PATH = 'summarized-article/summarize-gene01.csv'\n",
    "pd.DataFrame(list).to_csv(PATH, index=False)"
   ]
  },
  {
   "cell_type": "code",
   "execution_count": null,
   "id": "84217dee-2827-49c3-bc83-5d1158ff0ffc",
   "metadata": {},
   "outputs": [
    {
     "data": {
      "text/plain": [
       "8078"
      ]
     },
     "execution_count": 6,
     "metadata": {},
     "output_type": "execute_result"
    }
   ],
   "source": [
    "pp = pd.read_csv(PATH)\n",
    "pp"
   ]
  }
 ],
 "metadata": {
  "kernelspec": {
   "display_name": "Python 3 (ipykernel)",
   "language": "python",
   "name": "python3"
  },
  "language_info": {
   "codemirror_mode": {
    "name": "ipython",
    "version": 3
   },
   "file_extension": ".py",
   "mimetype": "text/x-python",
   "name": "python",
   "nbconvert_exporter": "python",
   "pygments_lexer": "ipython3",
   "version": "3.8.12"
  }
 },
 "nbformat": 4,
 "nbformat_minor": 5
}
