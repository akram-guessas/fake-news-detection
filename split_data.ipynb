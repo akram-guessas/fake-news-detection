{
 "cells": [
  {
   "cell_type": "code",
   "execution_count": 1,
   "id": "be591a28-74cd-44e6-b091-f634f6b8c57f",
   "metadata": {},
   "outputs": [],
   "source": [
    "import pandas as pd\n",
    "import numpy as np\n",
    "from sklearn.model_selection import train_test_split"
   ]
  },
  {
   "cell_type": "code",
   "execution_count": 6,
   "id": "f8037971-e2cf-4b51-b4d0-e017a229819e",
   "metadata": {},
   "outputs": [],
   "source": [
    "df_Fake = pd.read_csv('Datasets/Fake.csv').head(21417)\n",
    "df_Real = pd.read_csv('Datasets/True.csv')"
   ]
  },
  {
   "cell_type": "code",
   "execution_count": 7,
   "id": "e1532109-ec59-455e-8408-f92692aa8bed",
   "metadata": {},
   "outputs": [
    {
     "name": "stdout",
     "output_type": "stream",
     "text": [
      "(21417, 4)\n",
      "(21417, 4)\n"
     ]
    }
   ],
   "source": [
    "print(df_Fake.shape)\n",
    "print(df_Real.shape)"
   ]
  },
  {
   "cell_type": "code",
   "execution_count": 8,
   "id": "0ac3c38d-f7bc-4996-901c-6d0682c29bbc",
   "metadata": {},
   "outputs": [
    {
     "data": {
      "text/plain": [
       "Index(['title', 'text', 'subject', 'date'], dtype='object')"
      ]
     },
     "execution_count": 8,
     "metadata": {},
     "output_type": "execute_result"
    }
   ],
   "source": [
    "df_Fake.columns"
   ]
  },
  {
   "cell_type": "code",
   "execution_count": 9,
   "id": "d17fb1cb-d7f1-4b9f-8324-1406dd6d7006",
   "metadata": {},
   "outputs": [
    {
     "data": {
      "text/plain": [
       "(21417, 4)"
      ]
     },
     "execution_count": 9,
     "metadata": {},
     "output_type": "execute_result"
    }
   ],
   "source": [
    "df_Fake_news= df_Fake.head(21417)\n",
    "df_Fake_news.shape"
   ]
  },
  {
   "cell_type": "code",
   "execution_count": 10,
   "id": "058c8eb0-bec2-405a-a9fd-a81a71a94b4a",
   "metadata": {},
   "outputs": [],
   "source": [
    "df_Fake['label'] = 0\n",
    "df_Real['label'] = 1"
   ]
  },
  {
   "cell_type": "code",
   "execution_count": 11,
   "id": "9f31290c-41b5-4012-baf8-dd4ab2f3fe87",
   "metadata": {},
   "outputs": [
    {
     "name": "stdout",
     "output_type": "stream",
     "text": [
      "(21417, 5)\n",
      "(21417, 5)\n"
     ]
    }
   ],
   "source": [
    "print(df_Fake.shape)\n",
    "print(df_Real.shape)"
   ]
  },
  {
   "cell_type": "code",
   "execution_count": 13,
   "id": "93e119cd-095f-449b-8dc2-b970d76e3849",
   "metadata": {},
   "outputs": [
    {
     "data": {
      "text/plain": [
       "(42834, 5)"
      ]
     },
     "execution_count": 13,
     "metadata": {},
     "output_type": "execute_result"
    }
   ],
   "source": [
    "df_dataset = pd.merge(df_Fake,df_Real,how= 'outer')\n",
    "df_dataset.shape"
   ]
  },
  {
   "cell_type": "code",
   "execution_count": 17,
   "id": "fafbf89d-5d24-4822-bafc-e0db6c55cab7",
   "metadata": {},
   "outputs": [
    {
     "data": {
      "text/plain": [
       "((34267, 5), (4283, 5), (4284, 5))"
      ]
     },
     "execution_count": 17,
     "metadata": {},
     "output_type": "execute_result"
    }
   ],
   "source": [
    "df_train, df_test = train_test_split(\n",
    "  df_dataset,\n",
    "  test_size=0.2,\n",
    "  shuffle=True,\n",
    "  random_state=42\n",
    ")\n",
    "df_val, df_test = train_test_split(\n",
    "  df_test,\n",
    "  test_size=0.5,\n",
    "  shuffle=True,\n",
    "  random_state=42\n",
    ")\n",
    "df_train.shape , df_val.shape, df_test.shape"
   ]
  },
  {
   "cell_type": "code",
   "execution_count": 18,
   "id": "45ff26c3-6692-4519-a107-b39ea00c6dfb",
   "metadata": {},
   "outputs": [],
   "source": [
    "df_train.to_csv('Datasets/train.csv', index=False)"
   ]
  },
  {
   "cell_type": "code",
   "execution_count": 19,
   "id": "3c22bb8e-b97f-4445-90bf-82d882f9a008",
   "metadata": {},
   "outputs": [],
   "source": [
    "df_val.to_csv('Datasets/val.csv', index=False)"
   ]
  },
  {
   "cell_type": "code",
   "execution_count": 20,
   "id": "adb85444-4e70-4a15-b43a-4298e213fdb6",
   "metadata": {},
   "outputs": [],
   "source": [
    "df_test.to_csv('Datasets/test.csv', index=False)"
   ]
  },
  {
   "cell_type": "code",
   "execution_count": 5,
   "id": "d99f206a-7925-4669-83b3-fe8141af3936",
   "metadata": {},
   "outputs": [],
   "source": [
    "df = pd.read_csv('Datasets/HuggingFaceDataset/GonzaloA-fake_news/summarized_Dataset/summerized_train.csv')\n",
    "df1 = pd.read_csv('Datasets/HuggingFaceDataset/GonzaloA-fake_news/train.csv')"
   ]
  },
  {
   "cell_type": "code",
   "execution_count": 25,
   "id": "b8e38be9-050d-4c6e-8cf0-77746ab872c2",
   "metadata": {},
   "outputs": [
    {
     "data": {
      "text/plain": [
       "' Trump’s Treasury Secretary Pick Made Money Betting On When Elderly People Would Die'"
      ]
     },
     "execution_count": 25,
     "metadata": {},
     "output_type": "execute_result"
    }
   ],
   "source": [
    "df.title[1]"
   ]
  },
  {
   "cell_type": "code",
   "execution_count": 14,
   "id": "29e3d866-40e9-49de-ba8e-5627098bf85f",
   "metadata": {},
   "outputs": [
    {
     "data": {
      "text/plain": [
       "((24353, 4), (24353, 4))"
      ]
     },
     "execution_count": 14,
     "metadata": {},
     "output_type": "execute_result"
    }
   ],
   "source": [
    "df.shape, df1.shape"
   ]
  },
  {
   "cell_type": "code",
   "execution_count": 43,
   "id": "75816de0-e6e5-4f42-8cc2-cb6772ecad93",
   "metadata": {},
   "outputs": [
    {
     "data": {
      "text/plain": [
       "859"
      ]
     },
     "execution_count": 43,
     "metadata": {},
     "output_type": "execute_result"
    }
   ],
   "source": [
    "test = df1.title[50]\n",
    "len(df1.text[50].split())"
   ]
  },
  {
   "cell_type": "code",
   "execution_count": 42,
   "id": "273baf5d-9e5f-450b-8b30-34704fb36f5a",
   "metadata": {},
   "outputs": [
    {
     "name": "stdout",
     "output_type": "stream",
     "text": [
      "BREAKING BAD: John McCain’s Campaign Rocked by Meth Lab ScandalFormer Arizona Republican Senator John McCain's campaign fundraiser Emily Pitha was arrested for narcotics distribution and manufacturing at her residence in Phoenix on Tuesday. Pitha, along with her boyfriend Christopher Hustrulid, has been involved in political fundraising for nearly 3 years. The police were alerted to criminal activity at the residence after a package containing 250 grams of MDMA was found inside the lab. Notably, Senator McCain is currently serving as Chairman of the Senate Armed Services Committee.\n"
     ]
    }
   ],
   "source": [
    "for index, row in df.iterrows():\n",
    "    if row['title'] == test:\n",
    "        print(row.text)\n",
    "        break"
   ]
  },
  {
   "cell_type": "code",
   "execution_count": 37,
   "id": "16f1cd2e-9330-41ee-a331-fa26d1526a55",
   "metadata": {},
   "outputs": [
    {
     "data": {
      "text/plain": [
       "'Outrageous! Apparently $68 Billion Isn’t Enough For A Cali Train Projecta tunnel project in California will require 36 miles of high-speed rail track, 300 miles of track, and high-voltage electrical systems to carry passengers between Burbank and Merced. The project will be completed by 2022 along with 300 miles of track, dozens of bridges or viaducts, and as many as six stations. However, experts said the deadline and budget targets will almost certainly be missed. Public opinion polls have shown support for the project has ebbed. At $68 billion, the budget is already more than double'"
      ]
     },
     "execution_count": 37,
     "metadata": {},
     "output_type": "execute_result"
    }
   ],
   "source": [
    "df.text[0]"
   ]
  },
  {
   "cell_type": "code",
   "execution_count": 39,
   "id": "f1bd21fe-0c82-4e2d-a890-eb058bc25bda",
   "metadata": {},
   "outputs": [
    {
     "data": {
      "text/plain": [
       "' ‘Maury’ Show Official Facebook Posts F*CKED UP Caption On Guest That Looks Like Ted Cruz (IMAGE)'"
      ]
     },
     "execution_count": 39,
     "metadata": {},
     "output_type": "execute_result"
    }
   ],
   "source": [
    "df1.title[0]"
   ]
  }
 ],
 "metadata": {
  "kernelspec": {
   "display_name": "Python 3 (ipykernel)",
   "language": "python",
   "name": "python3"
  },
  "language_info": {
   "codemirror_mode": {
    "name": "ipython",
    "version": 3
   },
   "file_extension": ".py",
   "mimetype": "text/x-python",
   "name": "python",
   "nbconvert_exporter": "python",
   "pygments_lexer": "ipython3",
   "version": "3.8.12"
  },
  "widgets": {
   "application/vnd.jupyter.widget-state+json": {
    "state": {},
    "version_major": 2,
    "version_minor": 0
   }
  }
 },
 "nbformat": 4,
 "nbformat_minor": 5
}
