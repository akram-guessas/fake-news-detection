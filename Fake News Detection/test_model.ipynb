{
 "cells": [
  {
   "cell_type": "code",
   "execution_count": null,
   "id": "1f32a4fc-cc30-4546-90e5-b55d3e158727",
   "metadata": {},
   "outputs": [],
   "source": [
    "!pip install transformers\n",
    "!pip install seaborn"
   ]
  },
  {
   "cell_type": "code",
   "execution_count": 2,
   "id": "817c2e76-c365-450e-abc3-204ed476ac46",
   "metadata": {},
   "outputs": [
    {
     "data": {
      "text/plain": [
       "device(type='cpu')"
      ]
     },
     "execution_count": 2,
     "metadata": {},
     "output_type": "execute_result"
    }
   ],
   "source": [
    "import torch\n",
    "import torch.nn as nn\n",
    "DEVICE = torch.device(\"cuda\") if torch.cuda.is_available() else torch.device(\"cpu\")\n",
    "DEVICE"
   ]
  },
  {
   "cell_type": "code",
   "execution_count": null,
   "id": "1f3b871f",
   "metadata": {},
   "outputs": [],
   "source": [
    "\"\"\"\n",
    "# Importing the libraries needed\n",
    "import pandas as pd\n",
    "import numpy as np\n",
    "from sklearn.model_selection import train_test_split\n",
    "import seaborn as sns\n",
    "import transformers\n",
    "import json\n",
    "# from tqdm import tqdm\n",
    "from torch.utils.data import Dataset, DataLoader\n",
    "# from transformers import RobertaModel, RobertaTokenizer, RobertaForSequenceClassification, AdamW\n",
    "from transformers import RobertaModel, AdamW\n",
    "from transformers import get_linear_schedule_with_warmup\n",
    "from transformers.optimization import AdamW\n",
    "from sys import platform\n",
    "import os\n",
    "import logging\n",
    "logging.basicConfig(level=logging.ERROR)\n",
    "\"\"\"\"\"\""
   ]
  },
  {
   "cell_type": "code",
   "execution_count": 3,
   "id": "04d8b9d9-f85e-48bf-98e6-911eec74210d",
   "metadata": {},
   "outputs": [
    {
     "name": "stderr",
     "output_type": "stream",
     "text": [
      "2022-06-14 18:54:06.978135: W tensorflow/stream_executor/platform/default/dso_loader.cc:64] Could not load dynamic library 'libcudart.so.11.0'; dlerror: libcudart.so.11.0: cannot open shared object file: No such file or directory\n",
      "2022-06-14 18:54:06.978166: I tensorflow/stream_executor/cuda/cudart_stub.cc:29] Ignore above cudart dlerror if you do not have a GPU set up on your machine.\n"
     ]
    }
   ],
   "source": [
    "# Importing the libraries needed\n",
    "import pandas as pd\n",
    "import numpy as np\n",
    "from sklearn.model_selection import train_test_split\n",
    "import seaborn as sns\n",
    "import transformers\n",
    "import json\n",
    "# from tqdm import tqdm\n",
    "from torch.utils.data import Dataset, DataLoader\n",
    "# from transformers import RobertaModel, RobertaTokenizer, RobertaForSequenceClassification, AdamW\n",
    "from transformers import RobertaModel, AdamW\n",
    "from transformers import get_linear_schedule_with_warmup\n",
    "from transformers.optimization import AdamW\n",
    "from sys import platform\n",
    "import os\n",
    "import logging\n",
    "logging.basicConfig(level=logging.ERROR)"
   ]
  },
  {
   "cell_type": "code",
   "execution_count": 4,
   "id": "f7108c29-a087-458f-8c06-fe8d659ca0ad",
   "metadata": {},
   "outputs": [],
   "source": [
    "from transformers import (\n",
    "    BertForSequenceClassification, \n",
    "    AlbertForSequenceClassification, \n",
    "    XLNetForSequenceClassification, \n",
    "    RobertaForSequenceClassification, \n",
    "    AutoTokenizer\n",
    ")"
   ]
  },
  {
   "cell_type": "code",
   "execution_count": 5,
   "id": "ce818017-c180-475f-989d-108790fcbddc",
   "metadata": {},
   "outputs": [],
   "source": [
    "max_seq_len = 128"
   ]
  },
  {
   "cell_type": "code",
   "execution_count": 5,
   "id": "f515c571-8004-40e7-8f97-27917e7e8dff",
   "metadata": {},
   "outputs": [
    {
     "data": {
      "text/plain": [
       "\"\\nimport torch\\nbert = RobertaForSequenceClassification.from_pretrained('roberta-base', output_hidden_states=True, num_labels = 2)\\ntokenizer_bert = AutoTokenizer.from_pretrained('roberta-base', do_lower_case=False)\\nPATHModel = 'Model/output/Roberta/Roberta-base/model-roberta-base.pth'\\nPathtok = 'Model/output/Roberta/Roberta-base/tokenizer-roberta-base.pth'\\ntorch.save(bert, PATHModel)\\ntorch.save(tokenizer_bert, Pathtok)\\n\""
      ]
     },
     "execution_count": 5,
     "metadata": {},
     "output_type": "execute_result"
    }
   ],
   "source": [
    "import torch\n",
    "bert = RobertaForSequenceClassification.from_pretrained('roberta-base', output_hidden_states=True, num_labels = 2)\n",
    "tokenizer_bert = AutoTokenizer.from_pretrained('roberta-base', do_lower_case=False)\n",
    "PATHModel = 'Model/output/Roberta/Roberta-base/model-roberta-base.pth'\n",
    "Pathtok = 'Model/output/Roberta/Roberta-base/tokenizer-roberta-base.pth'\n",
    "torch.save(bert, PATHModel)\n",
    "torch.save(tokenizer_bert, Pathtok)\n"
   ]
  },
  {
   "cell_type": "code",
   "execution_count": 28,
   "id": "4aeb119e-6df1-496d-a17d-6c0bda9efb4c",
   "metadata": {},
   "outputs": [],
   "source": [
    "class RobertModel(nn.Module):\n",
    "    def __init__(self, requires_grad = True):\n",
    "        super(RobertModel, self).__init__()\n",
    "        # config = RobertaForSequenceClassification.from_pretrained( 'roberta-base', output_hidden_states=True, num_labels = 2)    \n",
    "        # self.bert = RobertaForSequenceClassification.from_pretrained('roberta-base', output_hidden_states=True, num_labels = 2)\n",
    "        # self.tokenizer = AutoTokenizer.from_pretrained('roberta-base', do_lower_case=False)\n",
    "        self.bert = torch.load(\"Model/output/Roberta/Roberta-base/model-roberta-base.pth.tar\",map_location=device)\n",
    "        self.tokenizer = torch.load('Model/output/Roberta/Roberta-base/tokenizer-roberta-base.pth',map_location=device)\n",
    "        self.requires_grad = requires_grad\n",
    "        self.device = torch.device(\"cuda\")\n",
    "        for param in self.bert.parameters():\n",
    "            param.requires_grad = requires_grad  # Each parameter requires gradient\n",
    "\n",
    "    def forward(self, batch_seqs, batch_seq_masks, batch_seq_segments, labels = None):\n",
    "\n",
    "        loss, logits = self.bert(input_ids = batch_seqs, attention_mask = batch_seq_masks, \n",
    "                                  token_type_ids=batch_seq_segments, labels = labels)[:2]\n",
    "        # print(logits)\n",
    "        probabilities = nn.functional.softmax(logits, dim=-1)\n",
    "        return loss, logits, probabilities"
   ]
  },
  {
   "cell_type": "code",
   "execution_count": 29,
   "id": "7c64dd56-00ad-4a11-8bbc-ad99b6c3269d",
   "metadata": {},
   "outputs": [],
   "source": [
    "import time\n",
    "from tqdm import tqdm\n",
    "from sklearn.metrics import (\n",
    "    roc_auc_score, \n",
    "    accuracy_score, \n",
    "    precision_score, \n",
    "    recall_score, \n",
    "    f1_score, \n",
    "    classification_report\n",
    ")  "
   ]
  },
  {
   "cell_type": "code",
   "execution_count": 30,
   "id": "a8325c0c-739d-49f8-9190-62e441bedd54",
   "metadata": {},
   "outputs": [
    {
     "data": {
      "text/plain": [
       "device(type='cpu')"
      ]
     },
     "execution_count": 30,
     "metadata": {},
     "output_type": "execute_result"
    }
   ],
   "source": [
    "device = torch.device(\"cpu\")\n",
    "device"
   ]
  },
  {
   "cell_type": "code",
   "execution_count": 31,
   "id": "300990cf",
   "metadata": {},
   "outputs": [
    {
     "data": {
      "text/plain": [
       "'1.11.0+cpu'"
      ]
     },
     "execution_count": 31,
     "metadata": {},
     "output_type": "execute_result"
    }
   ],
   "source": [
    "torch.__version__"
   ]
  },
  {
   "cell_type": "code",
   "execution_count": 8,
   "id": "f6ef3333",
   "metadata": {},
   "outputs": [
    {
     "data": {
      "text/plain": [
       "'1.8.2+cu102'"
      ]
     },
     "execution_count": 8,
     "metadata": {},
     "output_type": "execute_result"
    }
   ],
   "source": [
    "torch.__version__"
   ]
  },
  {
   "cell_type": "code",
   "execution_count": 32,
   "id": "8f95e875",
   "metadata": {},
   "outputs": [],
   "source": [
    "PATH = 'Model/output/Roberta/roberta-model2.pth.tar'\n",
    "model = RobertModel(requires_grad = True)\n",
    "model.load_state_dict(torch.load(PATH, map_location=torch.device('cpu')))\n",
    "model = model.eval()"
   ]
  },
  {
   "cell_type": "code",
   "execution_count": 24,
   "id": "6ce35f4b",
   "metadata": {},
   "outputs": [],
   "source": [
    "tokenizer = torch.load('Model/output/Roberta/Roberta-base/tokenizer-roberta-base.pth', map_location=torch.device('cpu'))"
   ]
  },
  {
   "cell_type": "code",
   "execution_count": 26,
   "id": "ba3b8374",
   "metadata": {},
   "outputs": [
    {
     "ename": "RuntimeError",
     "evalue": "[enforce fail at inline_container.cc:145] . PytorchStreamReader failed reading zip archive: failed finding central directory",
     "output_type": "error",
     "traceback": [
      "\u001b[0;31m---------------------------------------------------------------------------\u001b[0m",
      "\u001b[0;31mRuntimeError\u001b[0m                              Traceback (most recent call last)",
      "\u001b[1;32m/home/akram25/Faker news detection PFE/PaperSpace/FND/test_model.ipynb Cell 10'\u001b[0m in \u001b[0;36m<module>\u001b[0;34m\u001b[0m\n\u001b[1;32m      <a href='vscode-notebook-cell:/home/akram25/Faker%20news%20detection%20PFE/PaperSpace/FND/test_model.ipynb#ch0000009?line=0'>1</a>\u001b[0m PATH \u001b[39m=\u001b[39m \u001b[39m'\u001b[39m\u001b[39mModel/output/Roberta/best.state_dict.pth.tar\u001b[39m\u001b[39m'\u001b[39m\n\u001b[1;32m      <a href='vscode-notebook-cell:/home/akram25/Faker%20news%20detection%20PFE/PaperSpace/FND/test_model.ipynb#ch0000009?line=1'>2</a>\u001b[0m \u001b[39m# tokenizer = torch.load()\u001b[39;00m\n\u001b[1;32m      <a href='vscode-notebook-cell:/home/akram25/Faker%20news%20detection%20PFE/PaperSpace/FND/test_model.ipynb#ch0000009?line=2'>3</a>\u001b[0m \u001b[39m# PATH = 'Model/output/Roberta/roberta-model2.pth'\u001b[39;00m\n\u001b[0;32m----> <a href='vscode-notebook-cell:/home/akram25/Faker%20news%20detection%20PFE/PaperSpace/FND/test_model.ipynb#ch0000009?line=3'>4</a>\u001b[0m model \u001b[39m=\u001b[39m RobertModel(requires_grad \u001b[39m=\u001b[39;49m \u001b[39mTrue\u001b[39;49;00m)\n",
      "\u001b[1;32m/home/akram25/Faker news detection PFE/PaperSpace/FND/test_model.ipynb Cell 7'\u001b[0m in \u001b[0;36mRobertModel.__init__\u001b[0;34m(self, requires_grad)\u001b[0m\n\u001b[1;32m      <a href='vscode-notebook-cell:/home/akram25/Faker%20news%20detection%20PFE/PaperSpace/FND/test_model.ipynb#ch0000006?line=2'>3</a>\u001b[0m \u001b[39msuper\u001b[39m(RobertModel, \u001b[39mself\u001b[39m)\u001b[39m.\u001b[39m\u001b[39m__init__\u001b[39m()\n\u001b[1;32m      <a href='vscode-notebook-cell:/home/akram25/Faker%20news%20detection%20PFE/PaperSpace/FND/test_model.ipynb#ch0000006?line=3'>4</a>\u001b[0m \u001b[39m# config = RobertaForSequenceClassification.from_pretrained( 'roberta-base', output_hidden_states=True, num_labels = 2)    \u001b[39;00m\n\u001b[1;32m      <a href='vscode-notebook-cell:/home/akram25/Faker%20news%20detection%20PFE/PaperSpace/FND/test_model.ipynb#ch0000006?line=4'>5</a>\u001b[0m \u001b[39m# self.bert = RobertaForSequenceClassification.from_pretrained('roberta-base', output_hidden_states=True, num_labels = 2)\u001b[39;00m\n\u001b[1;32m      <a href='vscode-notebook-cell:/home/akram25/Faker%20news%20detection%20PFE/PaperSpace/FND/test_model.ipynb#ch0000006?line=5'>6</a>\u001b[0m \u001b[39m# self.tokenizer = AutoTokenizer.from_pretrained('roberta-base', do_lower_case=False)\u001b[39;00m\n\u001b[0;32m----> <a href='vscode-notebook-cell:/home/akram25/Faker%20news%20detection%20PFE/PaperSpace/FND/test_model.ipynb#ch0000006?line=7'>8</a>\u001b[0m \u001b[39mself\u001b[39m\u001b[39m.\u001b[39mbert \u001b[39m=\u001b[39m torch\u001b[39m.\u001b[39;49mload(\u001b[39m\"\u001b[39;49m\u001b[39mModel/output/Roberta/Roberta-base/model-roberta-base.pth\u001b[39;49m\u001b[39m\"\u001b[39;49m,map_location\u001b[39m=\u001b[39;49mdevice)\n\u001b[1;32m      <a href='vscode-notebook-cell:/home/akram25/Faker%20news%20detection%20PFE/PaperSpace/FND/test_model.ipynb#ch0000006?line=8'>9</a>\u001b[0m \u001b[39mself\u001b[39m\u001b[39m.\u001b[39mtokenizer \u001b[39m=\u001b[39m torch\u001b[39m.\u001b[39mload(\u001b[39m'\u001b[39m\u001b[39mModel/output/Roberta/Roberta-base/tokenizer-roberta-base.pth\u001b[39m\u001b[39m'\u001b[39m,map_location\u001b[39m=\u001b[39mdevice)\n\u001b[1;32m     <a href='vscode-notebook-cell:/home/akram25/Faker%20news%20detection%20PFE/PaperSpace/FND/test_model.ipynb#ch0000006?line=9'>10</a>\u001b[0m \u001b[39mself\u001b[39m\u001b[39m.\u001b[39mrequires_grad \u001b[39m=\u001b[39m requires_grad\n",
      "File \u001b[0;32m~/.local/lib/python3.8/site-packages/torch/serialization.py:585\u001b[0m, in \u001b[0;36mload\u001b[0;34m(f, map_location, pickle_module, **pickle_load_args)\u001b[0m\n\u001b[1;32m    <a href='file:///home/akram25/.local/lib/python3.8/site-packages/torch/serialization.py?line=579'>580</a>\u001b[0m \u001b[39mif\u001b[39;00m _is_zipfile(opened_file):\n\u001b[1;32m    <a href='file:///home/akram25/.local/lib/python3.8/site-packages/torch/serialization.py?line=580'>581</a>\u001b[0m     \u001b[39m# The zipfile reader is going to advance the current file position.\u001b[39;00m\n\u001b[1;32m    <a href='file:///home/akram25/.local/lib/python3.8/site-packages/torch/serialization.py?line=581'>582</a>\u001b[0m     \u001b[39m# If we want to actually tail call to torch.jit.load, we need to\u001b[39;00m\n\u001b[1;32m    <a href='file:///home/akram25/.local/lib/python3.8/site-packages/torch/serialization.py?line=582'>583</a>\u001b[0m     \u001b[39m# reset back to the original position.\u001b[39;00m\n\u001b[1;32m    <a href='file:///home/akram25/.local/lib/python3.8/site-packages/torch/serialization.py?line=583'>584</a>\u001b[0m     orig_position \u001b[39m=\u001b[39m opened_file\u001b[39m.\u001b[39mtell()\n\u001b[0;32m--> <a href='file:///home/akram25/.local/lib/python3.8/site-packages/torch/serialization.py?line=584'>585</a>\u001b[0m     \u001b[39mwith\u001b[39;00m _open_zipfile_reader(opened_file) \u001b[39mas\u001b[39;00m opened_zipfile:\n\u001b[1;32m    <a href='file:///home/akram25/.local/lib/python3.8/site-packages/torch/serialization.py?line=585'>586</a>\u001b[0m         \u001b[39mif\u001b[39;00m _is_torchscript_zip(opened_zipfile):\n\u001b[1;32m    <a href='file:///home/akram25/.local/lib/python3.8/site-packages/torch/serialization.py?line=586'>587</a>\u001b[0m             warnings\u001b[39m.\u001b[39mwarn(\u001b[39m\"\u001b[39m\u001b[39m'\u001b[39m\u001b[39mtorch.load\u001b[39m\u001b[39m'\u001b[39m\u001b[39m received a zip file that looks like a TorchScript archive\u001b[39m\u001b[39m\"\u001b[39m\n\u001b[1;32m    <a href='file:///home/akram25/.local/lib/python3.8/site-packages/torch/serialization.py?line=587'>588</a>\u001b[0m                           \u001b[39m\"\u001b[39m\u001b[39m dispatching to \u001b[39m\u001b[39m'\u001b[39m\u001b[39mtorch.jit.load\u001b[39m\u001b[39m'\u001b[39m\u001b[39m (call \u001b[39m\u001b[39m'\u001b[39m\u001b[39mtorch.jit.load\u001b[39m\u001b[39m'\u001b[39m\u001b[39m directly to\u001b[39m\u001b[39m\"\u001b[39m\n\u001b[1;32m    <a href='file:///home/akram25/.local/lib/python3.8/site-packages/torch/serialization.py?line=588'>589</a>\u001b[0m                           \u001b[39m\"\u001b[39m\u001b[39m silence this warning)\u001b[39m\u001b[39m\"\u001b[39m, \u001b[39mUserWarning\u001b[39;00m)\n",
      "File \u001b[0;32m~/.local/lib/python3.8/site-packages/torch/serialization.py:242\u001b[0m, in \u001b[0;36m_open_zipfile_reader.__init__\u001b[0;34m(self, name_or_buffer)\u001b[0m\n\u001b[1;32m    <a href='file:///home/akram25/.local/lib/python3.8/site-packages/torch/serialization.py?line=240'>241</a>\u001b[0m \u001b[39mdef\u001b[39;00m \u001b[39m__init__\u001b[39m(\u001b[39mself\u001b[39m, name_or_buffer) \u001b[39m-\u001b[39m\u001b[39m>\u001b[39m \u001b[39mNone\u001b[39;00m:\n\u001b[0;32m--> <a href='file:///home/akram25/.local/lib/python3.8/site-packages/torch/serialization.py?line=241'>242</a>\u001b[0m     \u001b[39msuper\u001b[39m(_open_zipfile_reader, \u001b[39mself\u001b[39m)\u001b[39m.\u001b[39m\u001b[39m__init__\u001b[39m(torch\u001b[39m.\u001b[39;49m_C\u001b[39m.\u001b[39;49mPyTorchFileReader(name_or_buffer))\n",
      "\u001b[0;31mRuntimeError\u001b[0m: [enforce fail at inline_container.cc:145] . PytorchStreamReader failed reading zip archive: failed finding central directory"
     ]
    }
   ],
   "source": [
    "PATH = 'Model/output/Roberta/best.state_dict.pth.tar'\n",
    "# tokenizer = torch.load()\n",
    "# PATH = 'Model/output/Roberta/roberta-model2.pth'\n",
    "model = RobertModel(requires_grad = True)\n",
    "# model = torch.load(PATH)\n",
    "\n",
    "model.load_state_dict(torch.load(PATH, map_location=device))\n",
    "\n",
    "checkpoint = torch.load(PATH)\n",
    "# model2.to(device)\n",
    "model2.load_state_dict(checkpoint['model'])\n",
    "model2 = model2.eval()"
   ]
  },
  {
   "cell_type": "code",
   "execution_count": 18,
   "id": "c680bad8",
   "metadata": {},
   "outputs": [],
   "source": [
    "model = tokenizer\n",
    "tokenizer = torch.load('Model/output/Roberta/Roberta-base/tokenizer-roberta-base.pth')"
   ]
  },
  {
   "cell_type": "code",
   "execution_count": 22,
   "id": "93482b13",
   "metadata": {},
   "outputs": [
    {
     "ename": "AttributeError",
     "evalue": "'collections.OrderedDict' object has no attribute 'eval'",
     "output_type": "error",
     "traceback": [
      "\u001b[0;31m---------------------------------------------------------------------------\u001b[0m",
      "\u001b[0;31mAttributeError\u001b[0m                            Traceback (most recent call last)",
      "\u001b[1;32m/home/akram25/Faker news detection PFE/PaperSpace/FND/test_model.ipynb Cell 12'\u001b[0m in \u001b[0;36m<module>\u001b[0;34m\u001b[0m\n\u001b[0;32m----> <a href='vscode-notebook-cell:/home/akram25/Faker%20news%20detection%20PFE/PaperSpace/FND/test_model.ipynb#ch0000077?line=0'>1</a>\u001b[0m model \u001b[39m=\u001b[39m model\u001b[39m.\u001b[39;49meval()\n",
      "\u001b[0;31mAttributeError\u001b[0m: 'collections.OrderedDict' object has no attribute 'eval'"
     ]
    }
   ],
   "source": [
    "model = model.eval()"
   ]
  },
  {
   "cell_type": "code",
   "execution_count": 34,
   "id": "32d314cc",
   "metadata": {},
   "outputs": [],
   "source": [
    "encoding = tokenizer(\"I'm the best\", \n",
    "                     pad_to_max_length=True,\n",
    "                     truncation=True,\n",
    "                     max_length= 10 ,\n",
    "                     return_tensors='pt',\n",
    "                     return_token_type_ids= True)"
   ]
  },
  {
   "cell_type": "code",
   "execution_count": 35,
   "id": "b5de17f3",
   "metadata": {},
   "outputs": [],
   "source": [
    "input_ids = encoding['input_ids']\n",
    "attention_mask = encoding['attention_mask']\n",
    "token_type_ids = encoding['token_type_ids']\n",
    "labels = torch.tensor([1])"
   ]
  },
  {
   "cell_type": "code",
   "execution_count": 36,
   "id": "1c2aa983",
   "metadata": {},
   "outputs": [
    {
     "data": {
      "text/plain": [
       "tensor([[0.2753, 0.7247]], grad_fn=<SoftmaxBackward0>)"
      ]
     },
     "execution_count": 36,
     "metadata": {},
     "output_type": "execute_result"
    }
   ],
   "source": [
    "loss, logits, probabilities = model(input_ids,attention_mask,token_type_ids, labels=labels)\n",
    "probabilities"
   ]
  },
  {
   "cell_type": "code",
   "execution_count": null,
   "id": "831be0ab-8dfd-4594-808e-d36faa36367e",
   "metadata": {},
   "outputs": [
    {
     "ename": "NameError",
     "evalue": "name 'model' is not defined",
     "output_type": "error",
     "traceback": [
      "\u001b[0;31m---------------------------------------------------------------------------\u001b[0m",
      "\u001b[0;31mNameError\u001b[0m                                 Traceback (most recent call last)",
      "\u001b[1;32m/home/akram25/Faker news detection PFE/PaperSpace/FND/test_model.ipynb Cell 11'\u001b[0m in \u001b[0;36m<module>\u001b[0;34m\u001b[0m\n\u001b[1;32m      <a href='vscode-notebook-cell:/home/akram25/Faker%20news%20detection%20PFE/PaperSpace/FND/test_model.ipynb#ch0000010?line=0'>1</a>\u001b[0m \u001b[39m# PATH = 'Model/output/Roberta/roberta-large_acc98.5300.pth'\u001b[39;00m\n\u001b[1;32m      <a href='vscode-notebook-cell:/home/akram25/Faker%20news%20detection%20PFE/PaperSpace/FND/test_model.ipynb#ch0000010?line=1'>2</a>\u001b[0m \u001b[39m# PATH = 'Model/output/Roberta/roberta-summerized.pth'\u001b[39;00m\n\u001b[1;32m      <a href='vscode-notebook-cell:/home/akram25/Faker%20news%20detection%20PFE/PaperSpace/FND/test_model.ipynb#ch0000010?line=2'>3</a>\u001b[0m PATH \u001b[39m=\u001b[39m \u001b[39m'\u001b[39m\u001b[39mModel/output/Roberta/roberta-model2.pth\u001b[39m\u001b[39m'\u001b[39m\n\u001b[0;32m----> <a href='vscode-notebook-cell:/home/akram25/Faker%20news%20detection%20PFE/PaperSpace/FND/test_model.ipynb#ch0000010?line=4'>5</a>\u001b[0m model\u001b[39m.\u001b[39mload_state_dict(torch\u001b[39m.\u001b[39mload(PATH, map_location\u001b[39m=\u001b[39mdevice))\n\u001b[1;32m      <a href='vscode-notebook-cell:/home/akram25/Faker%20news%20detection%20PFE/PaperSpace/FND/test_model.ipynb#ch0000010?line=5'>6</a>\u001b[0m model2 \u001b[39m=\u001b[39m RobertModel(requires_grad \u001b[39m=\u001b[39m \u001b[39mTrue\u001b[39;00m)\n\u001b[1;32m      <a href='vscode-notebook-cell:/home/akram25/Faker%20news%20detection%20PFE/PaperSpace/FND/test_model.ipynb#ch0000010?line=6'>7</a>\u001b[0m checkpoint \u001b[39m=\u001b[39m torch\u001b[39m.\u001b[39mload(PATH)\n",
      "\u001b[0;31mNameError\u001b[0m: name 'model' is not defined"
     ]
    }
   ],
   "source": [
    "# PATH = 'Model/output/Roberta/roberta-large_acc98.5300.pth'\n",
    "# PATH = 'Model/output/Roberta/roberta-summerized.pth'\n",
    "PATH = 'Model/output/Roberta/roberta-model2.pth'\n",
    "\n",
    "model.load_state_dict(torch.load(PATH, map_location=device))\n",
    "model2 = RobertModel(requires_grad = True)\n",
    "checkpoint = torch.load(PATH)\n",
    "# model2.to(device)\n",
    "model2.load_state_dict(checkpoint['model'])\n",
    "model2 = model2.eval()"
   ]
  },
  {
   "cell_type": "code",
   "execution_count": null,
   "id": "97eb2153-a89d-40d9-bacd-4fab748e6d2b",
   "metadata": {},
   "outputs": [],
   "source": [
    "# PATH = 'Model/output/Roberta/roberta-large_acc98.5300.pth'\n",
    "# PATH = 'Model/output/Roberta/roberta-summerized.pth'\n",
    "PATH = 'Model/output/Roberta/roberta-model1.pth'\n",
    "\n",
    "model1 = RobertModel(requires_grad = True)\n",
    "checkpoint = torch.load(PATH)\n",
    "model1.to(device)\n",
    "model1.load_state_dict(checkpoint['model'])\n",
    "model1 = model1.eval()"
   ]
  },
  {
   "cell_type": "code",
   "execution_count": null,
   "id": "d76fec74-087d-4323-ab01-cbd1d6a7f53c",
   "metadata": {},
   "outputs": [],
   "source": [
    "# PATH = 'Model/output/Roberta/roberta-large_acc98.5300.pth'\n",
    "# PATH = 'Model/output/Roberta/roberta-summerized.pth'\n",
    "PATH = 'Model/output/Roberta/roberta-summerized.pth'\n",
    "\n",
    "model = RobertModel(requires_grad = True)\n",
    "checkpoint = torch.load(PATH)\n",
    "# model.to(device)\n",
    "model.load_state_dict(checkpoint['model'])\n",
    "model = model.eval()"
   ]
  },
  {
   "cell_type": "code",
   "execution_count": null,
   "id": "8d9e1228-1b66-4565-8200-6c101b71e851",
   "metadata": {},
   "outputs": [],
   "source": [
    "PATH = 'Model/output/Roberta/roberta-loss-test.pth'\n",
    "\n",
    "model = RobertModel(requires_grad = True)\n",
    "checkpoint = torch.load(PATH)\n",
    "model.to(device)\n",
    "model.load_state_dict(checkpoint['model'])\n",
    "model = model.eval()"
   ]
  },
  {
   "cell_type": "code",
   "execution_count": null,
   "id": "100511c5-bc2d-4566-a2af-313b18da55e2",
   "metadata": {},
   "outputs": [
    {
     "name": "stdout",
     "output_type": "stream",
     "text": [
      "epoch\n",
      "model\n",
      "optimizer\n",
      "tokenizer\n",
      "best_score\n",
      "epochs_count\n",
      "train_losses\n",
      "train_accuracy\n",
      "valid_losses\n",
      "valid_accuracy\n",
      "valid_auc\n",
      "epoch_times\n"
     ]
    }
   ],
   "source": [
    "for i in checkpoint:\n",
    "    print(i)"
   ]
  },
  {
   "cell_type": "code",
   "execution_count": null,
   "id": "0bb582f0-6b16-47ce-b75a-a388098b0e8a",
   "metadata": {},
   "outputs": [
    {
     "data": {
      "text/plain": [
       "([1089.6042909622192, 1088.863294839859],\n",
       " [0.6909487224000646, 0.10974822881342923, 0.027955373397272953],\n",
       " [0.5415794012566219, 0.9496160637293146, 0.9859154929577465],\n",
       " [0.6909487224000646, 0.03481446524191002, 0.030145805955991218],\n",
       " [0.5415794012566219, 0.9783171122335839, 0.98423062707897])"
      ]
     },
     "execution_count": 12,
     "metadata": {},
     "output_type": "execute_result"
    }
   ],
   "source": [
    "checkpoint['epoch_times'],checkpoint['train_losses'],checkpoint['train_accuracy'],checkpoint['valid_losses'],checkpoint['valid_accuracy']"
   ]
  },
  {
   "cell_type": "code",
   "execution_count": null,
   "id": "f66bb740-b920-490f-b1e5-074aad25f2c2",
   "metadata": {},
   "outputs": [
    {
     "data": {
      "text/plain": [
       "12"
      ]
     },
     "execution_count": 41,
     "metadata": {},
     "output_type": "execute_result"
    }
   ],
   "source": [
    "len(checkpoint['train_accuracy']), len(checkpoint['val_loss_list'])\n",
    "trainf_len = [i for i in range(len(checkpoint['train_loss_list']))]\n",
    "val_len = [i for i in range(len(checkpoint['val_loss_list']))]"
   ]
  },
  {
   "cell_type": "code",
   "execution_count": null,
   "id": "50afd8d7-963c-41e2-b7ef-34a9b636a9c4",
   "metadata": {},
   "outputs": [
    {
     "data": {
      "image/png": "[encoded data removed]",
      "text/plain": [
       "<Figure size 432x288 with 1 Axes>"
      ]
     },
     "metadata": {
      "needs_background": "light"
     },
     "output_type": "display_data"
    }
   ],
   "source": [
    "import matplotlib as mpl\n",
    "import matplotlib.pyplot as plt\n",
    "import numpy as np\n",
    "\n",
    "loss_train = checkpoint['train_losses']\n",
    "loss_val = checkpoint['valid_losses']\n",
    "# epochs = checkpoint['epochs_count']\n",
    "epochs = [0,1,2]\n",
    "plt.plot(epochs, loss_train, 'g', label='Training loss')\n",
    "plt.plot(epochs, loss_val, 'b', label='Validation loss')\n",
    "plt.title('Training and Validation loss')\n",
    "plt.xlabel('Epochs')\n",
    "plt.ylabel('Loss')\n",
    "plt.legend()\n",
    "plt.show()"
   ]
  },
  {
   "cell_type": "code",
   "execution_count": null,
   "id": "ed31a526-6ed1-47b8-bb8d-e469bd260457",
   "metadata": {},
   "outputs": [
    {
     "data": {
      "image/png": "[encoded data removed]",
      "text/plain": [
       "<Figure size 432x288 with 1 Axes>"
      ]
     },
     "metadata": {
      "needs_background": "light"
     },
     "output_type": "display_data"
    }
   ],
   "source": [
    "# !pip install matplotlib\n",
    "import matplotlib as mpl\n",
    "import matplotlib.pyplot as plt\n",
    "import numpy as np\n",
    "\n",
    "loss_train = checkpoint['train_accuracy']\n",
    "loss_val = checkpoint['valid_accuracy']\n",
    "# epochs = checkpoint['epochs_count']\n",
    "epochs = [0,1,2]\n",
    "plt.plot(epochs, loss_train, 'g', label='Training accuracy')\n",
    "plt.plot(epochs, loss_val, 'b', label='Validation accuracy')\n",
    "plt.title('Training and Validation accuracy')\n",
    "plt.xlabel('Epochs')\n",
    "plt.ylabel('Loss')\n",
    "plt.legend()\n",
    "plt.show()"
   ]
  },
  {
   "cell_type": "code",
   "execution_count": null,
   "id": "7270a12c-e7a5-4925-a4c9-cf33650beebd",
   "metadata": {},
   "outputs": [
    {
     "data": {
      "image/png": "[encoded data removed]",
      "text/plain": [
       "<Figure size 432x288 with 1 Axes>"
      ]
     },
     "metadata": {
      "needs_background": "light"
     },
     "output_type": "display_data"
    }
   ],
   "source": [
    "loss_train = checkpoint['valid_losses']\n",
    "loss_val = checkpoint['train_losses']\n",
    "epochs = checkpoint['epochs_count']\n",
    "plt.plot(epochs, loss_train, 'g', label='Validation loss')\n",
    "plt.plot(epochs, loss_val, 'b', label='Training loss')\n",
    "plt.title('Training and Validation loss')\n",
    "plt.xlabel('Epochs')\n",
    "plt.ylabel('Loss')\n",
    "plt.legend()\n",
    "plt.show()"
   ]
  },
  {
   "cell_type": "code",
   "execution_count": null,
   "id": "11a64571-be17-431f-b021-da20d91b3ce2",
   "metadata": {},
   "outputs": [
    {
     "data": {
      "text/plain": [
       "[0.9549952777891841, 0.9852995524165401]"
      ]
     },
     "execution_count": 489,
     "metadata": {},
     "output_type": "execute_result"
    }
   ],
   "source": [
    "loss_train"
   ]
  },
  {
   "cell_type": "code",
   "execution_count": null,
   "id": "839bab19-b1cc-4ff3-bc2c-447548a6a19b",
   "metadata": {},
   "outputs": [],
   "source": [
    "PATH = 'Model/output/Roberta/roberta-large_acc98.5300.pth'\n",
    "\n",
    "model1 = RobertModel(requires_grad = True)\n",
    "checkpoint1 = torch.load(PATH)\n",
    "model1.to(device)\n",
    "model1.load_state_dict(checkpoint1['model'])\n",
    "model1 = model1.eval()"
   ]
  },
  {
   "cell_type": "code",
   "execution_count": null,
   "id": "e6860a23-5c62-43bc-ad38-9ff5b762ec60",
   "metadata": {},
   "outputs": [
    {
     "data": {
      "image/png": "[encoded data removed]",
      "text/plain": [
       "<Figure size 432x288 with 1 Axes>"
      ]
     },
     "metadata": {
      "needs_background": "light"
     },
     "output_type": "display_data"
    }
   ],
   "source": [
    "loss_train = checkpoint1['train_accuracy']\n",
    "loss_val = checkpoint1['valid_accuracy']\n",
    "epochs = checkpoint1['epochs_count']\n",
    "plt.plot(epochs, loss_train, 'g', label='Training accuracy')\n",
    "plt.plot(epochs, loss_val, 'b', label='Validation accuracy')\n",
    "plt.title('Training loss and accuracy')\n",
    "plt.xlabel('Epochs')\n",
    "plt.ylabel('Loss')\n",
    "plt.legend()\n",
    "plt.show()"
   ]
  },
  {
   "cell_type": "code",
   "execution_count": null,
   "id": "8f88d8f8-c088-4bc0-9cc7-235a1df1dbdc",
   "metadata": {},
   "outputs": [],
   "source": [
    "tokenizer = model1.tokenizer\n",
    "# tokenizer1 = model1.tokenizer"
   ]
  },
  {
   "cell_type": "code",
   "execution_count": null,
   "id": "58da5d7c-0717-4290-9a4d-3bf8b81a69ba",
   "metadata": {},
   "outputs": [],
   "source": [
    "df_fake = pd.read_csv('spark/Generated-data/generated_article.csv')\n",
    "news = df_fake.iloc[12].text"
   ]
  },
  {
   "cell_type": "code",
   "execution_count": null,
   "id": "1a0a1583-7a9c-4a62-9ea0-d480e136d165",
   "metadata": {},
   "outputs": [],
   "source": [
    "news = \"Donald Trump says the US is preparing its armies for a war against Russia's aggressive attack on Ukraine\"\n",
    "news = \"\"\"\n",
    "An Iranian ex-police commander due to be deported from the UK to Rwanda under a controversial scheme says he fears being killed by Iranian agents there.\n",
    "\n",
    "The man previously gave testimony to a UK-based rights groups' tribunal investigating alleged Iranian atrocities during protests in 2019.\n",
    "\n",
    "He has been held at a detention centre near Gatwick Airport after arriving in the UK from Turkey in May.\n",
    "\n",
    "The first asylum seekers are set to be deported under the scheme on Tuesday.\n",
    "\n",
    "Their applications will be processed in Rwanda, where they will be given accommodation and help. If successful, they will be able to remain in Rwanda with up to five years' access to education and support.\n",
    "\n",
    "However the plan has been criticised by politicians and charities, who have raised concerns about the African nation's human rights record.\n",
    "\n",
    "The former commander, who is not being named in order to protect his identity, was sentenced by an Iranian military court to almost five years in jail in Iran and a demotion for refusing to shoot protesters during anti-government demonstrations triggered by a sharp rise in petrol prices. The former commander was in charge of 60 police officers at the time.\n",
    "\"\"\""
   ]
  },
  {
   "cell_type": "code",
   "execution_count": null,
   "id": "57c47158-5164-4eb2-b6ee-7df7014c9221",
   "metadata": {},
   "outputs": [],
   "source": [
    "news = 'Illinois high school to implement race-based grading system in 2022-2023 school year'"
   ]
  },
  {
   "cell_type": "code",
   "execution_count": null,
   "id": "cd140ab6-150b-4f00-818e-0da03d2e3940",
   "metadata": {},
   "outputs": [
    {
     "data": {
      "text/plain": [
       "'President Joe Biden and his administration are once again revisiting the idea of student loan forgiveness, a controversial idea that could allow for some – or even all – student debt to be erased.While some have pushed for debt forgiveness, seeing it as a potential injection of money into the economy, others – including U.S. Rep. Glenn Grothman, R-Wisconsin – have questioned the idea.\\n\"Nearly 60% of all student loan debt is held by the rich and upper-middle class,\" he said in a May 21, 2022 newsletter. \"So, by forgiving student loan debt, we would be handing the wealthy a financial windfall while low income Americans suffer further from inflation and rising costs.\" \\nFor the purposes of this fact-check, we’re going to look at the portion of the claim about who holds student loan debt, and whether or not forgiveness would help low-income people. \\nWealthier majors tend to make more money after college, spend more on degrees \\nWhen asked for backup for the claim, Grothman’s office shared a couple of sources of information with us.The first was an analysis from EducationData.org, a group of researchers who collect data and statistics about U.S. education. According to the May 8, 2022 report, Americans with income over $74,000 hold about 60% of the total public student loan debt, while households that earn $35,000 or less a year hold about 20% of the total public student loan debt.According to the group, those earning $74,000 or more are considered middle to upper-middle class, while those earning $35,000 or less are considered lower-middle class or poor.\\nSo, Grothman is mischaracterizing the data a bit, inasmuch as he’s labeling that group the \"rich and upper-middle class.\"Looking further at who has student debt, many of those who pursue graduate degrees owe more money, according to a Jan. 21, 2022 article from Forbes. That’s perfectly logical,in that there is more education to pay for.For example, a young doctor may owe about $200,000 in medical student debt, but medicine is also one of the best-paid professions in the U.S. That means the student’s lifetime income prospects would allow them to pay off their loans.Grothman’s office also shared a Brookings article from February 2022, which outlined how those who stand to see the most money forgiven would be higher income, better educated and white.\"Beneficiaries of across-the-board student loan forgiveness would be higher income, better educated, and more likely to be white than beneficiaries of just about all other programs designed to reduce hardship and promote opportunity and targeted to those who need help,\" the article said. \"Prioritizing spending on targeted programs would therefore be a more effective way to achieve progressive goals.\"The article then highlights the child tax-credit program as an example of a program that might directly benefit more people living in poverty than student loan debt forgiveness.In any case, Grothman is largely right on the numbers.But he misfires a bit in suggesting that loan forgiveness would not matter much to low-income people. For college graduates in lesser-paying jobs, it might make a huge difference in terms of their finances.Adam Looney, executive director of the Marriner S. Eccles Institute at the University of Utah and a nonresident fellow in economic studies for the Brookings Institute, noted that wealthy people aren’t the only ones to attend college.\"Some low-income people also have student debt, so they would also be helped by forgiveness. It’s just that they are less likely to have debt at all (because they are less likely to have been able to go to college in the first place) and have less debt if they go to college (often because they haven’t finished a degree or went to a low-cost community college,)\" he said in an email. \"So I think poor people do not benefit as much as higher-income households from across-the-board debt forgiveness policies.\" \\n'"
      ]
     },
     "execution_count": 15,
     "metadata": {},
     "output_type": "execute_result"
    }
   ],
   "source": [
    "with open('news.txt') as f:\n",
    "    news = f.read()\n",
    "news"
   ]
  },
  {
   "cell_type": "code",
   "execution_count": null,
   "id": "53a8d7df-1918-438a-890b-23bc79f6ab4d",
   "metadata": {},
   "outputs": [],
   "source": [
    "news = \"Capitol riot hearing: Trump dismisses daughter Ivanka's testimony'\""
   ]
  },
  {
   "cell_type": "code",
   "execution_count": null,
   "id": "d4ae5fe4-9d03-4a42-a3c4-f225ba10d527",
   "metadata": {},
   "outputs": [
    {
     "data": {
      "text/plain": [
       "635"
      ]
     },
     "execution_count": 23,
     "metadata": {},
     "output_type": "execute_result"
    }
   ],
   "source": [
    "test = len(news.split())\n",
    "if test <= 512:\n",
    "    max_len = test\n",
    "else:\n",
    "    max_len = 512\n",
    "test"
   ]
  },
  {
   "cell_type": "code",
   "execution_count": null,
   "id": "fdc9026d-b5cd-4807-8c83-1d0e44aade21",
   "metadata": {},
   "outputs": [],
   "source": [
    "encoding = tokenizer(news, \n",
    "                     pad_to_max_length=True,\n",
    "                     truncation=True,\n",
    "                     max_length= max_len ,\n",
    "                     return_tensors='pt',\n",
    "                     return_token_type_ids= True)"
   ]
  },
  {
   "cell_type": "code",
   "execution_count": null,
   "id": "2a3f7c56-f3ab-4d8b-b75b-09e21ae94306",
   "metadata": {},
   "outputs": [
    {
     "name": "stdout",
     "output_type": "stream",
     "text": [
      "input_ids\n",
      "token_type_ids\n",
      "attention_mask\n"
     ]
    }
   ],
   "source": [
    "for i in encoding:\n",
    "    print(i)"
   ]
  },
  {
   "cell_type": "code",
   "execution_count": null,
   "id": "299451a2-c066-4cdb-bffc-b974a8a2f76b",
   "metadata": {},
   "outputs": [],
   "source": [
    "\n",
    "input_ids = encoding['input_ids']\n",
    "attention_mask = encoding['attention_mask']\n",
    "token_type_ids = encoding['token_type_ids']\n",
    "labels = torch.tensor([1])\n"
   ]
  },
  {
   "cell_type": "code",
   "execution_count": null,
   "id": "836e350a-cb43-44fc-a410-10787a130066",
   "metadata": {},
   "outputs": [],
   "source": [
    "model1 = model1.to(device)\n",
    "input_ids = encoding['input_ids'].to(device)\n",
    "attention_mask = encoding['attention_mask'].to(device)\n",
    "token_type_ids = encoding['token_type_ids'].to(device)\n",
    "labels = torch.tensor([1]).to(device)"
   ]
  },
  {
   "cell_type": "code",
   "execution_count": null,
   "id": "41fb84cd-8696-4c0c-a973-808540113354",
   "metadata": {},
   "outputs": [
    {
     "data": {
      "text/plain": [
       "'President Joe Biden and his administration are once again revisiting the idea of student loan forgiveness, a controversial idea that could allow for some – or even all – student debt to be erased.While some have pushed for debt forgiveness, seeing it as a potential injection of money into the economy, others – including U.S. Rep. Glenn Grothman, R-Wisconsin – have questioned the idea.\\n\"Nearly 60% of all student loan debt is held by the rich and upper-middle class,\" he said in a May 21, 2022 newsletter. \"So, by forgiving student loan debt, we would be handing the wealthy a financial windfall while low income Americans suffer further from inflation and rising costs.\" \\nFor the purposes of this fact-check, we’re going to look at the portion of the claim about who holds student loan debt, and whether or not forgiveness would help low-income people. \\nWealthier majors tend to make more money after college, spend more on degrees \\nWhen asked for backup for the claim, Grothman’s office shared a couple of sources of information with us.The first was an analysis from EducationData.org, a group of researchers who collect data and statistics about U.S. education. According to the May 8, 2022 report, Americans with income over $74,000 hold about 60% of the total public student loan debt, while households that earn $35,000 or less a year hold about 20% of the total public student loan debt.According to the group, those earning $74,000 or more are considered middle to upper-middle class, while those earning $35,000 or less are considered lower-middle class or poor.\\nSo, Grothman is mischaracterizing the data a bit, inasmuch as he’s labeling that group the \"rich and upper-middle class.\"Looking further at who has student debt, many of those who pursue graduate degrees owe more money, according to a Jan. 21, 2022 article from Forbes. That’s perfectly logical,in that there is more education to pay for.For example, a young doctor may owe about $200,000 in medical student debt, but medicine is also one of the best-paid professions in the U.S. That means the student’s lifetime income prospects would allow them to pay off their loans.Grothman’s office also shared a Brookings article from February 2022, which outlined how those who stand to see the most money forgiven would be higher income, better educated and white.\"Beneficiaries of across-the-board student loan forgiveness would be higher income, better educated, and more likely to be white than beneficiaries of just about all other programs designed to reduce hardship and promote opportunity and targeted to those who need help,\" the article said. \"Prioritizing spending on targeted programs would therefore be a more effective way to achieve progressive goals.\"The article then highlights the child tax-credit program as an example of a program that might directly benefit more people living in poverty than student loan debt forgiveness.In any case, Grothman is largely right on the numbers.But he misfires a bit in suggesting that loan forgiveness would not matter much to low-income people. For college graduates in lesser-paying jobs, it might make a huge difference in terms of their finances.Adam Looney, executive director of the Marriner S. Eccles Institute at the University of Utah and a nonresident fellow in economic studies for the Brookings Institute, noted that wealthy people aren’t the only ones to attend college.\"Some low-income people also have student debt, so they would also be helped by forgiveness. It’s just that they are less likely to have debt at all (because they are less likely to have been able to go to college in the first place) and have less debt if they go to college (often because they haven’t finished a degree or went to a low-cost community college,)\" he said in an email. \"So I think poor people do not benefit as much as higher-income households from across-the-board debt forgiveness policies.\" \\n'"
      ]
     },
     "execution_count": 30,
     "metadata": {},
     "output_type": "execute_result"
    }
   ],
   "source": [
    "news"
   ]
  },
  {
   "cell_type": "code",
   "execution_count": null,
   "id": "d39ec198-e19d-4c06-acbb-ddae36a07413",
   "metadata": {},
   "outputs": [
    {
     "ename": "RuntimeError",
     "evalue": "CUDA out of memory. Tried to allocate 12.00 MiB (GPU 0; 15.75 GiB total capacity; 1.96 GiB already allocated; 12.31 MiB free; 2.06 GiB reserved in total by PyTorch) If reserved memory is >> allocated memory try setting max_split_size_mb to avoid fragmentation.  See documentation for Memory Management and PYTORCH_CUDA_ALLOC_CONF",
     "output_type": "error",
     "traceback": [
      "\u001b[0;31m---------------------------------------------------------------------------\u001b[0m",
      "\u001b[0;31mRuntimeError\u001b[0m                              Traceback (most recent call last)",
      "Input \u001b[0;32mIn [31]\u001b[0m, in \u001b[0;36m<module>\u001b[0;34m\u001b[0m\n\u001b[0;32m----> 1\u001b[0m loss, logits, probabilities \u001b[38;5;241m=\u001b[39m \u001b[43mmodel1\u001b[49m\u001b[43m(\u001b[49m\u001b[43minput_ids\u001b[49m\u001b[43m,\u001b[49m\u001b[43mattention_mask\u001b[49m\u001b[43m,\u001b[49m\u001b[43mtoken_type_ids\u001b[49m\u001b[43m,\u001b[49m\u001b[43m \u001b[49m\u001b[43mlabels\u001b[49m\u001b[38;5;241;43m=\u001b[39;49m\u001b[43mlabels\u001b[49m\u001b[43m)\u001b[49m\n",
      "File \u001b[0;32m/opt/conda/lib/python3.8/site-packages/torch/nn/modules/module.py:1110\u001b[0m, in \u001b[0;36mModule._call_impl\u001b[0;34m(self, *input, **kwargs)\u001b[0m\n\u001b[1;32m   1106\u001b[0m \u001b[38;5;66;03m# If we don't have any hooks, we want to skip the rest of the logic in\u001b[39;00m\n\u001b[1;32m   1107\u001b[0m \u001b[38;5;66;03m# this function, and just call forward.\u001b[39;00m\n\u001b[1;32m   1108\u001b[0m \u001b[38;5;28;01mif\u001b[39;00m \u001b[38;5;129;01mnot\u001b[39;00m (\u001b[38;5;28mself\u001b[39m\u001b[38;5;241m.\u001b[39m_backward_hooks \u001b[38;5;129;01mor\u001b[39;00m \u001b[38;5;28mself\u001b[39m\u001b[38;5;241m.\u001b[39m_forward_hooks \u001b[38;5;129;01mor\u001b[39;00m \u001b[38;5;28mself\u001b[39m\u001b[38;5;241m.\u001b[39m_forward_pre_hooks \u001b[38;5;129;01mor\u001b[39;00m _global_backward_hooks\n\u001b[1;32m   1109\u001b[0m         \u001b[38;5;129;01mor\u001b[39;00m _global_forward_hooks \u001b[38;5;129;01mor\u001b[39;00m _global_forward_pre_hooks):\n\u001b[0;32m-> 1110\u001b[0m     \u001b[38;5;28;01mreturn\u001b[39;00m \u001b[43mforward_call\u001b[49m\u001b[43m(\u001b[49m\u001b[38;5;241;43m*\u001b[39;49m\u001b[38;5;28;43minput\u001b[39;49m\u001b[43m,\u001b[49m\u001b[43m \u001b[49m\u001b[38;5;241;43m*\u001b[39;49m\u001b[38;5;241;43m*\u001b[39;49m\u001b[43mkwargs\u001b[49m\u001b[43m)\u001b[49m\n\u001b[1;32m   1111\u001b[0m \u001b[38;5;66;03m# Do not call functions when jit is used\u001b[39;00m\n\u001b[1;32m   1112\u001b[0m full_backward_hooks, non_full_backward_hooks \u001b[38;5;241m=\u001b[39m [], []\n",
      "Input \u001b[0;32mIn [7]\u001b[0m, in \u001b[0;36mRobertModel.forward\u001b[0;34m(self, batch_seqs, batch_seq_masks, batch_seq_segments, labels)\u001b[0m\n\u001b[1;32m     14\u001b[0m \u001b[38;5;28;01mdef\u001b[39;00m \u001b[38;5;21mforward\u001b[39m(\u001b[38;5;28mself\u001b[39m, batch_seqs, batch_seq_masks, batch_seq_segments, labels \u001b[38;5;241m=\u001b[39m \u001b[38;5;28;01mNone\u001b[39;00m):\n\u001b[0;32m---> 16\u001b[0m     loss, logits \u001b[38;5;241m=\u001b[39m \u001b[38;5;28;43mself\u001b[39;49m\u001b[38;5;241;43m.\u001b[39;49m\u001b[43mbert\u001b[49m\u001b[43m(\u001b[49m\u001b[43minput_ids\u001b[49m\u001b[43m \u001b[49m\u001b[38;5;241;43m=\u001b[39;49m\u001b[43m \u001b[49m\u001b[43mbatch_seqs\u001b[49m\u001b[43m,\u001b[49m\u001b[43m \u001b[49m\u001b[43mattention_mask\u001b[49m\u001b[43m \u001b[49m\u001b[38;5;241;43m=\u001b[39;49m\u001b[43m \u001b[49m\u001b[43mbatch_seq_masks\u001b[49m\u001b[43m,\u001b[49m\u001b[43m \u001b[49m\n\u001b[1;32m     17\u001b[0m \u001b[43m                              \u001b[49m\u001b[43mtoken_type_ids\u001b[49m\u001b[38;5;241;43m=\u001b[39;49m\u001b[43mbatch_seq_segments\u001b[49m\u001b[43m,\u001b[49m\u001b[43m \u001b[49m\u001b[43mlabels\u001b[49m\u001b[43m \u001b[49m\u001b[38;5;241;43m=\u001b[39;49m\u001b[43m \u001b[49m\u001b[43mlabels\u001b[49m\u001b[43m)\u001b[49m[:\u001b[38;5;241m2\u001b[39m]\n\u001b[1;32m     18\u001b[0m     \u001b[38;5;66;03m# print(logits)\u001b[39;00m\n\u001b[1;32m     19\u001b[0m     probabilities \u001b[38;5;241m=\u001b[39m nn\u001b[38;5;241m.\u001b[39mfunctional\u001b[38;5;241m.\u001b[39msoftmax(logits, dim\u001b[38;5;241m=\u001b[39m\u001b[38;5;241m-\u001b[39m\u001b[38;5;241m1\u001b[39m)\n",
      "File \u001b[0;32m/opt/conda/lib/python3.8/site-packages/torch/nn/modules/module.py:1110\u001b[0m, in \u001b[0;36mModule._call_impl\u001b[0;34m(self, *input, **kwargs)\u001b[0m\n\u001b[1;32m   1106\u001b[0m \u001b[38;5;66;03m# If we don't have any hooks, we want to skip the rest of the logic in\u001b[39;00m\n\u001b[1;32m   1107\u001b[0m \u001b[38;5;66;03m# this function, and just call forward.\u001b[39;00m\n\u001b[1;32m   1108\u001b[0m \u001b[38;5;28;01mif\u001b[39;00m \u001b[38;5;129;01mnot\u001b[39;00m (\u001b[38;5;28mself\u001b[39m\u001b[38;5;241m.\u001b[39m_backward_hooks \u001b[38;5;129;01mor\u001b[39;00m \u001b[38;5;28mself\u001b[39m\u001b[38;5;241m.\u001b[39m_forward_hooks \u001b[38;5;129;01mor\u001b[39;00m \u001b[38;5;28mself\u001b[39m\u001b[38;5;241m.\u001b[39m_forward_pre_hooks \u001b[38;5;129;01mor\u001b[39;00m _global_backward_hooks\n\u001b[1;32m   1109\u001b[0m         \u001b[38;5;129;01mor\u001b[39;00m _global_forward_hooks \u001b[38;5;129;01mor\u001b[39;00m _global_forward_pre_hooks):\n\u001b[0;32m-> 1110\u001b[0m     \u001b[38;5;28;01mreturn\u001b[39;00m \u001b[43mforward_call\u001b[49m\u001b[43m(\u001b[49m\u001b[38;5;241;43m*\u001b[39;49m\u001b[38;5;28;43minput\u001b[39;49m\u001b[43m,\u001b[49m\u001b[43m \u001b[49m\u001b[38;5;241;43m*\u001b[39;49m\u001b[38;5;241;43m*\u001b[39;49m\u001b[43mkwargs\u001b[49m\u001b[43m)\u001b[49m\n\u001b[1;32m   1111\u001b[0m \u001b[38;5;66;03m# Do not call functions when jit is used\u001b[39;00m\n\u001b[1;32m   1112\u001b[0m full_backward_hooks, non_full_backward_hooks \u001b[38;5;241m=\u001b[39m [], []\n",
      "File \u001b[0;32m/opt/conda/lib/python3.8/site-packages/transformers/models/roberta/modeling_roberta.py:1205\u001b[0m, in \u001b[0;36mRobertaForSequenceClassification.forward\u001b[0;34m(self, input_ids, attention_mask, token_type_ids, position_ids, head_mask, inputs_embeds, labels, output_attentions, output_hidden_states, return_dict)\u001b[0m\n\u001b[1;32m   1197\u001b[0m \u001b[38;5;124mr\u001b[39m\u001b[38;5;124;03m\"\"\"\u001b[39;00m\n\u001b[1;32m   1198\u001b[0m \u001b[38;5;124;03mlabels (`torch.LongTensor` of shape `(batch_size,)`, *optional*):\u001b[39;00m\n\u001b[1;32m   1199\u001b[0m \u001b[38;5;124;03m    Labels for computing the sequence classification/regression loss. Indices should be in `[0, ...,\u001b[39;00m\n\u001b[1;32m   1200\u001b[0m \u001b[38;5;124;03m    config.num_labels - 1]`. If `config.num_labels == 1` a regression loss is computed (Mean-Square loss), If\u001b[39;00m\n\u001b[1;32m   1201\u001b[0m \u001b[38;5;124;03m    `config.num_labels > 1` a classification loss is computed (Cross-Entropy).\u001b[39;00m\n\u001b[1;32m   1202\u001b[0m \u001b[38;5;124;03m\"\"\"\u001b[39;00m\n\u001b[1;32m   1203\u001b[0m return_dict \u001b[38;5;241m=\u001b[39m return_dict \u001b[38;5;28;01mif\u001b[39;00m return_dict \u001b[38;5;129;01mis\u001b[39;00m \u001b[38;5;129;01mnot\u001b[39;00m \u001b[38;5;28;01mNone\u001b[39;00m \u001b[38;5;28;01melse\u001b[39;00m \u001b[38;5;28mself\u001b[39m\u001b[38;5;241m.\u001b[39mconfig\u001b[38;5;241m.\u001b[39muse_return_dict\n\u001b[0;32m-> 1205\u001b[0m outputs \u001b[38;5;241m=\u001b[39m \u001b[38;5;28;43mself\u001b[39;49m\u001b[38;5;241;43m.\u001b[39;49m\u001b[43mroberta\u001b[49m\u001b[43m(\u001b[49m\n\u001b[1;32m   1206\u001b[0m \u001b[43m    \u001b[49m\u001b[43minput_ids\u001b[49m\u001b[43m,\u001b[49m\n\u001b[1;32m   1207\u001b[0m \u001b[43m    \u001b[49m\u001b[43mattention_mask\u001b[49m\u001b[38;5;241;43m=\u001b[39;49m\u001b[43mattention_mask\u001b[49m\u001b[43m,\u001b[49m\n\u001b[1;32m   1208\u001b[0m \u001b[43m    \u001b[49m\u001b[43mtoken_type_ids\u001b[49m\u001b[38;5;241;43m=\u001b[39;49m\u001b[43mtoken_type_ids\u001b[49m\u001b[43m,\u001b[49m\n\u001b[1;32m   1209\u001b[0m \u001b[43m    \u001b[49m\u001b[43mposition_ids\u001b[49m\u001b[38;5;241;43m=\u001b[39;49m\u001b[43mposition_ids\u001b[49m\u001b[43m,\u001b[49m\n\u001b[1;32m   1210\u001b[0m \u001b[43m    \u001b[49m\u001b[43mhead_mask\u001b[49m\u001b[38;5;241;43m=\u001b[39;49m\u001b[43mhead_mask\u001b[49m\u001b[43m,\u001b[49m\n\u001b[1;32m   1211\u001b[0m \u001b[43m    \u001b[49m\u001b[43minputs_embeds\u001b[49m\u001b[38;5;241;43m=\u001b[39;49m\u001b[43minputs_embeds\u001b[49m\u001b[43m,\u001b[49m\n\u001b[1;32m   1212\u001b[0m \u001b[43m    \u001b[49m\u001b[43moutput_attentions\u001b[49m\u001b[38;5;241;43m=\u001b[39;49m\u001b[43moutput_attentions\u001b[49m\u001b[43m,\u001b[49m\n\u001b[1;32m   1213\u001b[0m \u001b[43m    \u001b[49m\u001b[43moutput_hidden_states\u001b[49m\u001b[38;5;241;43m=\u001b[39;49m\u001b[43moutput_hidden_states\u001b[49m\u001b[43m,\u001b[49m\n\u001b[1;32m   1214\u001b[0m \u001b[43m    \u001b[49m\u001b[43mreturn_dict\u001b[49m\u001b[38;5;241;43m=\u001b[39;49m\u001b[43mreturn_dict\u001b[49m\u001b[43m,\u001b[49m\n\u001b[1;32m   1215\u001b[0m \u001b[43m\u001b[49m\u001b[43m)\u001b[49m\n\u001b[1;32m   1216\u001b[0m sequence_output \u001b[38;5;241m=\u001b[39m outputs[\u001b[38;5;241m0\u001b[39m]\n\u001b[1;32m   1217\u001b[0m logits \u001b[38;5;241m=\u001b[39m \u001b[38;5;28mself\u001b[39m\u001b[38;5;241m.\u001b[39mclassifier(sequence_output)\n",
      "File \u001b[0;32m/opt/conda/lib/python3.8/site-packages/torch/nn/modules/module.py:1110\u001b[0m, in \u001b[0;36mModule._call_impl\u001b[0;34m(self, *input, **kwargs)\u001b[0m\n\u001b[1;32m   1106\u001b[0m \u001b[38;5;66;03m# If we don't have any hooks, we want to skip the rest of the logic in\u001b[39;00m\n\u001b[1;32m   1107\u001b[0m \u001b[38;5;66;03m# this function, and just call forward.\u001b[39;00m\n\u001b[1;32m   1108\u001b[0m \u001b[38;5;28;01mif\u001b[39;00m \u001b[38;5;129;01mnot\u001b[39;00m (\u001b[38;5;28mself\u001b[39m\u001b[38;5;241m.\u001b[39m_backward_hooks \u001b[38;5;129;01mor\u001b[39;00m \u001b[38;5;28mself\u001b[39m\u001b[38;5;241m.\u001b[39m_forward_hooks \u001b[38;5;129;01mor\u001b[39;00m \u001b[38;5;28mself\u001b[39m\u001b[38;5;241m.\u001b[39m_forward_pre_hooks \u001b[38;5;129;01mor\u001b[39;00m _global_backward_hooks\n\u001b[1;32m   1109\u001b[0m         \u001b[38;5;129;01mor\u001b[39;00m _global_forward_hooks \u001b[38;5;129;01mor\u001b[39;00m _global_forward_pre_hooks):\n\u001b[0;32m-> 1110\u001b[0m     \u001b[38;5;28;01mreturn\u001b[39;00m \u001b[43mforward_call\u001b[49m\u001b[43m(\u001b[49m\u001b[38;5;241;43m*\u001b[39;49m\u001b[38;5;28;43minput\u001b[39;49m\u001b[43m,\u001b[49m\u001b[43m \u001b[49m\u001b[38;5;241;43m*\u001b[39;49m\u001b[38;5;241;43m*\u001b[39;49m\u001b[43mkwargs\u001b[49m\u001b[43m)\u001b[49m\n\u001b[1;32m   1111\u001b[0m \u001b[38;5;66;03m# Do not call functions when jit is used\u001b[39;00m\n\u001b[1;32m   1112\u001b[0m full_backward_hooks, non_full_backward_hooks \u001b[38;5;241m=\u001b[39m [], []\n",
      "File \u001b[0;32m/opt/conda/lib/python3.8/site-packages/transformers/models/roberta/modeling_roberta.py:847\u001b[0m, in \u001b[0;36mRobertaModel.forward\u001b[0;34m(self, input_ids, attention_mask, token_type_ids, position_ids, head_mask, inputs_embeds, encoder_hidden_states, encoder_attention_mask, past_key_values, use_cache, output_attentions, output_hidden_states, return_dict)\u001b[0m\n\u001b[1;32m    838\u001b[0m head_mask \u001b[38;5;241m=\u001b[39m \u001b[38;5;28mself\u001b[39m\u001b[38;5;241m.\u001b[39mget_head_mask(head_mask, \u001b[38;5;28mself\u001b[39m\u001b[38;5;241m.\u001b[39mconfig\u001b[38;5;241m.\u001b[39mnum_hidden_layers)\n\u001b[1;32m    840\u001b[0m embedding_output \u001b[38;5;241m=\u001b[39m \u001b[38;5;28mself\u001b[39m\u001b[38;5;241m.\u001b[39membeddings(\n\u001b[1;32m    841\u001b[0m     input_ids\u001b[38;5;241m=\u001b[39minput_ids,\n\u001b[1;32m    842\u001b[0m     position_ids\u001b[38;5;241m=\u001b[39mposition_ids,\n\u001b[0;32m   (...)\u001b[0m\n\u001b[1;32m    845\u001b[0m     past_key_values_length\u001b[38;5;241m=\u001b[39mpast_key_values_length,\n\u001b[1;32m    846\u001b[0m )\n\u001b[0;32m--> 847\u001b[0m encoder_outputs \u001b[38;5;241m=\u001b[39m \u001b[38;5;28;43mself\u001b[39;49m\u001b[38;5;241;43m.\u001b[39;49m\u001b[43mencoder\u001b[49m\u001b[43m(\u001b[49m\n\u001b[1;32m    848\u001b[0m \u001b[43m    \u001b[49m\u001b[43membedding_output\u001b[49m\u001b[43m,\u001b[49m\n\u001b[1;32m    849\u001b[0m \u001b[43m    \u001b[49m\u001b[43mattention_mask\u001b[49m\u001b[38;5;241;43m=\u001b[39;49m\u001b[43mextended_attention_mask\u001b[49m\u001b[43m,\u001b[49m\n\u001b[1;32m    850\u001b[0m \u001b[43m    \u001b[49m\u001b[43mhead_mask\u001b[49m\u001b[38;5;241;43m=\u001b[39;49m\u001b[43mhead_mask\u001b[49m\u001b[43m,\u001b[49m\n\u001b[1;32m    851\u001b[0m \u001b[43m    \u001b[49m\u001b[43mencoder_hidden_states\u001b[49m\u001b[38;5;241;43m=\u001b[39;49m\u001b[43mencoder_hidden_states\u001b[49m\u001b[43m,\u001b[49m\n\u001b[1;32m    852\u001b[0m \u001b[43m    \u001b[49m\u001b[43mencoder_attention_mask\u001b[49m\u001b[38;5;241;43m=\u001b[39;49m\u001b[43mencoder_extended_attention_mask\u001b[49m\u001b[43m,\u001b[49m\n\u001b[1;32m    853\u001b[0m \u001b[43m    \u001b[49m\u001b[43mpast_key_values\u001b[49m\u001b[38;5;241;43m=\u001b[39;49m\u001b[43mpast_key_values\u001b[49m\u001b[43m,\u001b[49m\n\u001b[1;32m    854\u001b[0m \u001b[43m    \u001b[49m\u001b[43muse_cache\u001b[49m\u001b[38;5;241;43m=\u001b[39;49m\u001b[43muse_cache\u001b[49m\u001b[43m,\u001b[49m\n\u001b[1;32m    855\u001b[0m \u001b[43m    \u001b[49m\u001b[43moutput_attentions\u001b[49m\u001b[38;5;241;43m=\u001b[39;49m\u001b[43moutput_attentions\u001b[49m\u001b[43m,\u001b[49m\n\u001b[1;32m    856\u001b[0m \u001b[43m    \u001b[49m\u001b[43moutput_hidden_states\u001b[49m\u001b[38;5;241;43m=\u001b[39;49m\u001b[43moutput_hidden_states\u001b[49m\u001b[43m,\u001b[49m\n\u001b[1;32m    857\u001b[0m \u001b[43m    \u001b[49m\u001b[43mreturn_dict\u001b[49m\u001b[38;5;241;43m=\u001b[39;49m\u001b[43mreturn_dict\u001b[49m\u001b[43m,\u001b[49m\n\u001b[1;32m    858\u001b[0m \u001b[43m\u001b[49m\u001b[43m)\u001b[49m\n\u001b[1;32m    859\u001b[0m sequence_output \u001b[38;5;241m=\u001b[39m encoder_outputs[\u001b[38;5;241m0\u001b[39m]\n\u001b[1;32m    860\u001b[0m pooled_output \u001b[38;5;241m=\u001b[39m \u001b[38;5;28mself\u001b[39m\u001b[38;5;241m.\u001b[39mpooler(sequence_output) \u001b[38;5;28;01mif\u001b[39;00m \u001b[38;5;28mself\u001b[39m\u001b[38;5;241m.\u001b[39mpooler \u001b[38;5;129;01mis\u001b[39;00m \u001b[38;5;129;01mnot\u001b[39;00m \u001b[38;5;28;01mNone\u001b[39;00m \u001b[38;5;28;01melse\u001b[39;00m \u001b[38;5;28;01mNone\u001b[39;00m\n",
      "File \u001b[0;32m/opt/conda/lib/python3.8/site-packages/torch/nn/modules/module.py:1110\u001b[0m, in \u001b[0;36mModule._call_impl\u001b[0;34m(self, *input, **kwargs)\u001b[0m\n\u001b[1;32m   1106\u001b[0m \u001b[38;5;66;03m# If we don't have any hooks, we want to skip the rest of the logic in\u001b[39;00m\n\u001b[1;32m   1107\u001b[0m \u001b[38;5;66;03m# this function, and just call forward.\u001b[39;00m\n\u001b[1;32m   1108\u001b[0m \u001b[38;5;28;01mif\u001b[39;00m \u001b[38;5;129;01mnot\u001b[39;00m (\u001b[38;5;28mself\u001b[39m\u001b[38;5;241m.\u001b[39m_backward_hooks \u001b[38;5;129;01mor\u001b[39;00m \u001b[38;5;28mself\u001b[39m\u001b[38;5;241m.\u001b[39m_forward_hooks \u001b[38;5;129;01mor\u001b[39;00m \u001b[38;5;28mself\u001b[39m\u001b[38;5;241m.\u001b[39m_forward_pre_hooks \u001b[38;5;129;01mor\u001b[39;00m _global_backward_hooks\n\u001b[1;32m   1109\u001b[0m         \u001b[38;5;129;01mor\u001b[39;00m _global_forward_hooks \u001b[38;5;129;01mor\u001b[39;00m _global_forward_pre_hooks):\n\u001b[0;32m-> 1110\u001b[0m     \u001b[38;5;28;01mreturn\u001b[39;00m \u001b[43mforward_call\u001b[49m\u001b[43m(\u001b[49m\u001b[38;5;241;43m*\u001b[39;49m\u001b[38;5;28;43minput\u001b[39;49m\u001b[43m,\u001b[49m\u001b[43m \u001b[49m\u001b[38;5;241;43m*\u001b[39;49m\u001b[38;5;241;43m*\u001b[39;49m\u001b[43mkwargs\u001b[49m\u001b[43m)\u001b[49m\n\u001b[1;32m   1111\u001b[0m \u001b[38;5;66;03m# Do not call functions when jit is used\u001b[39;00m\n\u001b[1;32m   1112\u001b[0m full_backward_hooks, non_full_backward_hooks \u001b[38;5;241m=\u001b[39m [], []\n",
      "File \u001b[0;32m/opt/conda/lib/python3.8/site-packages/transformers/models/roberta/modeling_roberta.py:523\u001b[0m, in \u001b[0;36mRobertaEncoder.forward\u001b[0;34m(self, hidden_states, attention_mask, head_mask, encoder_hidden_states, encoder_attention_mask, past_key_values, use_cache, output_attentions, output_hidden_states, return_dict)\u001b[0m\n\u001b[1;32m    514\u001b[0m     layer_outputs \u001b[38;5;241m=\u001b[39m torch\u001b[38;5;241m.\u001b[39mutils\u001b[38;5;241m.\u001b[39mcheckpoint\u001b[38;5;241m.\u001b[39mcheckpoint(\n\u001b[1;32m    515\u001b[0m         create_custom_forward(layer_module),\n\u001b[1;32m    516\u001b[0m         hidden_states,\n\u001b[0;32m   (...)\u001b[0m\n\u001b[1;32m    520\u001b[0m         encoder_attention_mask,\n\u001b[1;32m    521\u001b[0m     )\n\u001b[1;32m    522\u001b[0m \u001b[38;5;28;01melse\u001b[39;00m:\n\u001b[0;32m--> 523\u001b[0m     layer_outputs \u001b[38;5;241m=\u001b[39m \u001b[43mlayer_module\u001b[49m\u001b[43m(\u001b[49m\n\u001b[1;32m    524\u001b[0m \u001b[43m        \u001b[49m\u001b[43mhidden_states\u001b[49m\u001b[43m,\u001b[49m\n\u001b[1;32m    525\u001b[0m \u001b[43m        \u001b[49m\u001b[43mattention_mask\u001b[49m\u001b[43m,\u001b[49m\n\u001b[1;32m    526\u001b[0m \u001b[43m        \u001b[49m\u001b[43mlayer_head_mask\u001b[49m\u001b[43m,\u001b[49m\n\u001b[1;32m    527\u001b[0m \u001b[43m        \u001b[49m\u001b[43mencoder_hidden_states\u001b[49m\u001b[43m,\u001b[49m\n\u001b[1;32m    528\u001b[0m \u001b[43m        \u001b[49m\u001b[43mencoder_attention_mask\u001b[49m\u001b[43m,\u001b[49m\n\u001b[1;32m    529\u001b[0m \u001b[43m        \u001b[49m\u001b[43mpast_key_value\u001b[49m\u001b[43m,\u001b[49m\n\u001b[1;32m    530\u001b[0m \u001b[43m        \u001b[49m\u001b[43moutput_attentions\u001b[49m\u001b[43m,\u001b[49m\n\u001b[1;32m    531\u001b[0m \u001b[43m    \u001b[49m\u001b[43m)\u001b[49m\n\u001b[1;32m    533\u001b[0m hidden_states \u001b[38;5;241m=\u001b[39m layer_outputs[\u001b[38;5;241m0\u001b[39m]\n\u001b[1;32m    534\u001b[0m \u001b[38;5;28;01mif\u001b[39;00m use_cache:\n",
      "File \u001b[0;32m/opt/conda/lib/python3.8/site-packages/torch/nn/modules/module.py:1110\u001b[0m, in \u001b[0;36mModule._call_impl\u001b[0;34m(self, *input, **kwargs)\u001b[0m\n\u001b[1;32m   1106\u001b[0m \u001b[38;5;66;03m# If we don't have any hooks, we want to skip the rest of the logic in\u001b[39;00m\n\u001b[1;32m   1107\u001b[0m \u001b[38;5;66;03m# this function, and just call forward.\u001b[39;00m\n\u001b[1;32m   1108\u001b[0m \u001b[38;5;28;01mif\u001b[39;00m \u001b[38;5;129;01mnot\u001b[39;00m (\u001b[38;5;28mself\u001b[39m\u001b[38;5;241m.\u001b[39m_backward_hooks \u001b[38;5;129;01mor\u001b[39;00m \u001b[38;5;28mself\u001b[39m\u001b[38;5;241m.\u001b[39m_forward_hooks \u001b[38;5;129;01mor\u001b[39;00m \u001b[38;5;28mself\u001b[39m\u001b[38;5;241m.\u001b[39m_forward_pre_hooks \u001b[38;5;129;01mor\u001b[39;00m _global_backward_hooks\n\u001b[1;32m   1109\u001b[0m         \u001b[38;5;129;01mor\u001b[39;00m _global_forward_hooks \u001b[38;5;129;01mor\u001b[39;00m _global_forward_pre_hooks):\n\u001b[0;32m-> 1110\u001b[0m     \u001b[38;5;28;01mreturn\u001b[39;00m \u001b[43mforward_call\u001b[49m\u001b[43m(\u001b[49m\u001b[38;5;241;43m*\u001b[39;49m\u001b[38;5;28;43minput\u001b[39;49m\u001b[43m,\u001b[49m\u001b[43m \u001b[49m\u001b[38;5;241;43m*\u001b[39;49m\u001b[38;5;241;43m*\u001b[39;49m\u001b[43mkwargs\u001b[49m\u001b[43m)\u001b[49m\n\u001b[1;32m   1111\u001b[0m \u001b[38;5;66;03m# Do not call functions when jit is used\u001b[39;00m\n\u001b[1;32m   1112\u001b[0m full_backward_hooks, non_full_backward_hooks \u001b[38;5;241m=\u001b[39m [], []\n",
      "File \u001b[0;32m/opt/conda/lib/python3.8/site-packages/transformers/models/roberta/modeling_roberta.py:409\u001b[0m, in \u001b[0;36mRobertaLayer.forward\u001b[0;34m(self, hidden_states, attention_mask, head_mask, encoder_hidden_states, encoder_attention_mask, past_key_value, output_attentions)\u001b[0m\n\u001b[1;32m    397\u001b[0m \u001b[38;5;28;01mdef\u001b[39;00m \u001b[38;5;21mforward\u001b[39m(\n\u001b[1;32m    398\u001b[0m     \u001b[38;5;28mself\u001b[39m,\n\u001b[1;32m    399\u001b[0m     hidden_states: torch\u001b[38;5;241m.\u001b[39mTensor,\n\u001b[0;32m   (...)\u001b[0m\n\u001b[1;32m    406\u001b[0m ) \u001b[38;5;241m-\u001b[39m\u001b[38;5;241m>\u001b[39m Tuple[torch\u001b[38;5;241m.\u001b[39mTensor]:\n\u001b[1;32m    407\u001b[0m     \u001b[38;5;66;03m# decoder uni-directional self-attention cached key/values tuple is at positions 1,2\u001b[39;00m\n\u001b[1;32m    408\u001b[0m     self_attn_past_key_value \u001b[38;5;241m=\u001b[39m past_key_value[:\u001b[38;5;241m2\u001b[39m] \u001b[38;5;28;01mif\u001b[39;00m past_key_value \u001b[38;5;129;01mis\u001b[39;00m \u001b[38;5;129;01mnot\u001b[39;00m \u001b[38;5;28;01mNone\u001b[39;00m \u001b[38;5;28;01melse\u001b[39;00m \u001b[38;5;28;01mNone\u001b[39;00m\n\u001b[0;32m--> 409\u001b[0m     self_attention_outputs \u001b[38;5;241m=\u001b[39m \u001b[38;5;28;43mself\u001b[39;49m\u001b[38;5;241;43m.\u001b[39;49m\u001b[43mattention\u001b[49m\u001b[43m(\u001b[49m\n\u001b[1;32m    410\u001b[0m \u001b[43m        \u001b[49m\u001b[43mhidden_states\u001b[49m\u001b[43m,\u001b[49m\n\u001b[1;32m    411\u001b[0m \u001b[43m        \u001b[49m\u001b[43mattention_mask\u001b[49m\u001b[43m,\u001b[49m\n\u001b[1;32m    412\u001b[0m \u001b[43m        \u001b[49m\u001b[43mhead_mask\u001b[49m\u001b[43m,\u001b[49m\n\u001b[1;32m    413\u001b[0m \u001b[43m        \u001b[49m\u001b[43moutput_attentions\u001b[49m\u001b[38;5;241;43m=\u001b[39;49m\u001b[43moutput_attentions\u001b[49m\u001b[43m,\u001b[49m\n\u001b[1;32m    414\u001b[0m \u001b[43m        \u001b[49m\u001b[43mpast_key_value\u001b[49m\u001b[38;5;241;43m=\u001b[39;49m\u001b[43mself_attn_past_key_value\u001b[49m\u001b[43m,\u001b[49m\n\u001b[1;32m    415\u001b[0m \u001b[43m    \u001b[49m\u001b[43m)\u001b[49m\n\u001b[1;32m    416\u001b[0m     attention_output \u001b[38;5;241m=\u001b[39m self_attention_outputs[\u001b[38;5;241m0\u001b[39m]\n\u001b[1;32m    418\u001b[0m     \u001b[38;5;66;03m# if decoder, the last output is tuple of self-attn cache\u001b[39;00m\n",
      "File \u001b[0;32m/opt/conda/lib/python3.8/site-packages/torch/nn/modules/module.py:1110\u001b[0m, in \u001b[0;36mModule._call_impl\u001b[0;34m(self, *input, **kwargs)\u001b[0m\n\u001b[1;32m   1106\u001b[0m \u001b[38;5;66;03m# If we don't have any hooks, we want to skip the rest of the logic in\u001b[39;00m\n\u001b[1;32m   1107\u001b[0m \u001b[38;5;66;03m# this function, and just call forward.\u001b[39;00m\n\u001b[1;32m   1108\u001b[0m \u001b[38;5;28;01mif\u001b[39;00m \u001b[38;5;129;01mnot\u001b[39;00m (\u001b[38;5;28mself\u001b[39m\u001b[38;5;241m.\u001b[39m_backward_hooks \u001b[38;5;129;01mor\u001b[39;00m \u001b[38;5;28mself\u001b[39m\u001b[38;5;241m.\u001b[39m_forward_hooks \u001b[38;5;129;01mor\u001b[39;00m \u001b[38;5;28mself\u001b[39m\u001b[38;5;241m.\u001b[39m_forward_pre_hooks \u001b[38;5;129;01mor\u001b[39;00m _global_backward_hooks\n\u001b[1;32m   1109\u001b[0m         \u001b[38;5;129;01mor\u001b[39;00m _global_forward_hooks \u001b[38;5;129;01mor\u001b[39;00m _global_forward_pre_hooks):\n\u001b[0;32m-> 1110\u001b[0m     \u001b[38;5;28;01mreturn\u001b[39;00m \u001b[43mforward_call\u001b[49m\u001b[43m(\u001b[49m\u001b[38;5;241;43m*\u001b[39;49m\u001b[38;5;28;43minput\u001b[39;49m\u001b[43m,\u001b[49m\u001b[43m \u001b[49m\u001b[38;5;241;43m*\u001b[39;49m\u001b[38;5;241;43m*\u001b[39;49m\u001b[43mkwargs\u001b[49m\u001b[43m)\u001b[49m\n\u001b[1;32m   1111\u001b[0m \u001b[38;5;66;03m# Do not call functions when jit is used\u001b[39;00m\n\u001b[1;32m   1112\u001b[0m full_backward_hooks, non_full_backward_hooks \u001b[38;5;241m=\u001b[39m [], []\n",
      "File \u001b[0;32m/opt/conda/lib/python3.8/site-packages/transformers/models/roberta/modeling_roberta.py:336\u001b[0m, in \u001b[0;36mRobertaAttention.forward\u001b[0;34m(self, hidden_states, attention_mask, head_mask, encoder_hidden_states, encoder_attention_mask, past_key_value, output_attentions)\u001b[0m\n\u001b[1;32m    326\u001b[0m \u001b[38;5;28;01mdef\u001b[39;00m \u001b[38;5;21mforward\u001b[39m(\n\u001b[1;32m    327\u001b[0m     \u001b[38;5;28mself\u001b[39m,\n\u001b[1;32m    328\u001b[0m     hidden_states: torch\u001b[38;5;241m.\u001b[39mTensor,\n\u001b[0;32m   (...)\u001b[0m\n\u001b[1;32m    334\u001b[0m     output_attentions: Optional[\u001b[38;5;28mbool\u001b[39m] \u001b[38;5;241m=\u001b[39m \u001b[38;5;28;01mFalse\u001b[39;00m,\n\u001b[1;32m    335\u001b[0m ) \u001b[38;5;241m-\u001b[39m\u001b[38;5;241m>\u001b[39m Tuple[torch\u001b[38;5;241m.\u001b[39mTensor]:\n\u001b[0;32m--> 336\u001b[0m     self_outputs \u001b[38;5;241m=\u001b[39m \u001b[38;5;28;43mself\u001b[39;49m\u001b[38;5;241;43m.\u001b[39;49m\u001b[43mself\u001b[49m\u001b[43m(\u001b[49m\n\u001b[1;32m    337\u001b[0m \u001b[43m        \u001b[49m\u001b[43mhidden_states\u001b[49m\u001b[43m,\u001b[49m\n\u001b[1;32m    338\u001b[0m \u001b[43m        \u001b[49m\u001b[43mattention_mask\u001b[49m\u001b[43m,\u001b[49m\n\u001b[1;32m    339\u001b[0m \u001b[43m        \u001b[49m\u001b[43mhead_mask\u001b[49m\u001b[43m,\u001b[49m\n\u001b[1;32m    340\u001b[0m \u001b[43m        \u001b[49m\u001b[43mencoder_hidden_states\u001b[49m\u001b[43m,\u001b[49m\n\u001b[1;32m    341\u001b[0m \u001b[43m        \u001b[49m\u001b[43mencoder_attention_mask\u001b[49m\u001b[43m,\u001b[49m\n\u001b[1;32m    342\u001b[0m \u001b[43m        \u001b[49m\u001b[43mpast_key_value\u001b[49m\u001b[43m,\u001b[49m\n\u001b[1;32m    343\u001b[0m \u001b[43m        \u001b[49m\u001b[43moutput_attentions\u001b[49m\u001b[43m,\u001b[49m\n\u001b[1;32m    344\u001b[0m \u001b[43m    \u001b[49m\u001b[43m)\u001b[49m\n\u001b[1;32m    345\u001b[0m     attention_output \u001b[38;5;241m=\u001b[39m \u001b[38;5;28mself\u001b[39m\u001b[38;5;241m.\u001b[39moutput(self_outputs[\u001b[38;5;241m0\u001b[39m], hidden_states)\n\u001b[1;32m    346\u001b[0m     outputs \u001b[38;5;241m=\u001b[39m (attention_output,) \u001b[38;5;241m+\u001b[39m self_outputs[\u001b[38;5;241m1\u001b[39m:]  \u001b[38;5;66;03m# add attentions if we output them\u001b[39;00m\n",
      "File \u001b[0;32m/opt/conda/lib/python3.8/site-packages/torch/nn/modules/module.py:1110\u001b[0m, in \u001b[0;36mModule._call_impl\u001b[0;34m(self, *input, **kwargs)\u001b[0m\n\u001b[1;32m   1106\u001b[0m \u001b[38;5;66;03m# If we don't have any hooks, we want to skip the rest of the logic in\u001b[39;00m\n\u001b[1;32m   1107\u001b[0m \u001b[38;5;66;03m# this function, and just call forward.\u001b[39;00m\n\u001b[1;32m   1108\u001b[0m \u001b[38;5;28;01mif\u001b[39;00m \u001b[38;5;129;01mnot\u001b[39;00m (\u001b[38;5;28mself\u001b[39m\u001b[38;5;241m.\u001b[39m_backward_hooks \u001b[38;5;129;01mor\u001b[39;00m \u001b[38;5;28mself\u001b[39m\u001b[38;5;241m.\u001b[39m_forward_hooks \u001b[38;5;129;01mor\u001b[39;00m \u001b[38;5;28mself\u001b[39m\u001b[38;5;241m.\u001b[39m_forward_pre_hooks \u001b[38;5;129;01mor\u001b[39;00m _global_backward_hooks\n\u001b[1;32m   1109\u001b[0m         \u001b[38;5;129;01mor\u001b[39;00m _global_forward_hooks \u001b[38;5;129;01mor\u001b[39;00m _global_forward_pre_hooks):\n\u001b[0;32m-> 1110\u001b[0m     \u001b[38;5;28;01mreturn\u001b[39;00m \u001b[43mforward_call\u001b[49m\u001b[43m(\u001b[49m\u001b[38;5;241;43m*\u001b[39;49m\u001b[38;5;28;43minput\u001b[39;49m\u001b[43m,\u001b[49m\u001b[43m \u001b[49m\u001b[38;5;241;43m*\u001b[39;49m\u001b[38;5;241;43m*\u001b[39;49m\u001b[43mkwargs\u001b[49m\u001b[43m)\u001b[49m\n\u001b[1;32m   1111\u001b[0m \u001b[38;5;66;03m# Do not call functions when jit is used\u001b[39;00m\n\u001b[1;32m   1112\u001b[0m full_backward_hooks, non_full_backward_hooks \u001b[38;5;241m=\u001b[39m [], []\n",
      "File \u001b[0;32m/opt/conda/lib/python3.8/site-packages/transformers/models/roberta/modeling_roberta.py:256\u001b[0m, in \u001b[0;36mRobertaSelfAttention.forward\u001b[0;34m(self, hidden_states, attention_mask, head_mask, encoder_hidden_states, encoder_attention_mask, past_key_value, output_attentions)\u001b[0m\n\u001b[1;32m    253\u001b[0m         relative_position_scores_key \u001b[38;5;241m=\u001b[39m torch\u001b[38;5;241m.\u001b[39meinsum(\u001b[38;5;124m\"\u001b[39m\u001b[38;5;124mbhrd,lrd->bhlr\u001b[39m\u001b[38;5;124m\"\u001b[39m, key_layer, positional_embedding)\n\u001b[1;32m    254\u001b[0m         attention_scores \u001b[38;5;241m=\u001b[39m attention_scores \u001b[38;5;241m+\u001b[39m relative_position_scores_query \u001b[38;5;241m+\u001b[39m relative_position_scores_key\n\u001b[0;32m--> 256\u001b[0m attention_scores \u001b[38;5;241m=\u001b[39m \u001b[43mattention_scores\u001b[49m\u001b[43m \u001b[49m\u001b[38;5;241;43m/\u001b[39;49m\u001b[43m \u001b[49m\u001b[43mmath\u001b[49m\u001b[38;5;241;43m.\u001b[39;49m\u001b[43msqrt\u001b[49m\u001b[43m(\u001b[49m\u001b[38;5;28;43mself\u001b[39;49m\u001b[38;5;241;43m.\u001b[39;49m\u001b[43mattention_head_size\u001b[49m\u001b[43m)\u001b[49m\n\u001b[1;32m    257\u001b[0m \u001b[38;5;28;01mif\u001b[39;00m attention_mask \u001b[38;5;129;01mis\u001b[39;00m \u001b[38;5;129;01mnot\u001b[39;00m \u001b[38;5;28;01mNone\u001b[39;00m:\n\u001b[1;32m    258\u001b[0m     \u001b[38;5;66;03m# Apply the attention mask is (precomputed for all layers in RobertaModel forward() function)\u001b[39;00m\n\u001b[1;32m    259\u001b[0m     attention_scores \u001b[38;5;241m=\u001b[39m attention_scores \u001b[38;5;241m+\u001b[39m attention_mask\n",
      "\u001b[0;31mRuntimeError\u001b[0m: CUDA out of memory. Tried to allocate 12.00 MiB (GPU 0; 15.75 GiB total capacity; 1.96 GiB already allocated; 12.31 MiB free; 2.06 GiB reserved in total by PyTorch) If reserved memory is >> allocated memory try setting max_split_size_mb to avoid fragmentation.  See documentation for Memory Management and PYTORCH_CUDA_ALLOC_CONF"
     ]
    }
   ],
   "source": [
    "loss, logits, probabilities = model1(input_ids,attention_mask,token_type_ids, labels=labels)"
   ]
  },
  {
   "cell_type": "code",
   "execution_count": null,
   "id": "88e92454-411c-4754-a2d8-c29ea802bf47",
   "metadata": {},
   "outputs": [],
   "source": [
    "loss, logits, probabilities1 = model1(input_ids,attention_mask,token_type_ids, labels=labels)"
   ]
  },
  {
   "cell_type": "code",
   "execution_count": null,
   "id": "6ff74b39-aa3d-4f86-92b9-ccac695b7804",
   "metadata": {},
   "outputs": [
    {
     "ename": "NameError",
     "evalue": "name 'probabilities' is not defined",
     "output_type": "error",
     "traceback": [
      "\u001b[0;31m---------------------------------------------------------------------------\u001b[0m",
      "\u001b[0;31mNameError\u001b[0m                                 Traceback (most recent call last)",
      "Input \u001b[0;32mIn [28]\u001b[0m, in \u001b[0;36m<module>\u001b[0;34m\u001b[0m\n\u001b[0;32m----> 1\u001b[0m fake_prob \u001b[38;5;241m=\u001b[39m \u001b[43mprobabilities\u001b[49m[\u001b[38;5;241m0\u001b[39m][\u001b[38;5;241m0\u001b[39m]\u001b[38;5;241m.\u001b[39mitem()\n\u001b[1;32m      2\u001b[0m real_prob \u001b[38;5;241m=\u001b[39m probabilities[\u001b[38;5;241m0\u001b[39m][\u001b[38;5;241m1\u001b[39m]\u001b[38;5;241m.\u001b[39mitem()\n\u001b[1;32m      3\u001b[0m \u001b[38;5;28;01mif\u001b[39;00m real_prob \u001b[38;5;241m>\u001b[39m\u001b[38;5;241m=\u001b[39m \u001b[38;5;241m0.5\u001b[39m:\n",
      "\u001b[0;31mNameError\u001b[0m: name 'probabilities' is not defined"
     ]
    }
   ],
   "source": [
    "fake_prob = probabilities[0][0].item()\n",
    "real_prob = probabilities[0][1].item()\n",
    "if real_prob >= 0.5:\n",
    "    print('This article is: Real')\n",
    "else:\n",
    "    print('This article is: Fake')"
   ]
  },
  {
   "cell_type": "code",
   "execution_count": null,
   "id": "3e5ee7e0-6d88-4cb2-804d-3ca5b0791e17",
   "metadata": {},
   "outputs": [
    {
     "data": {
      "text/plain": [
       "tensor([[0.0070, 0.9930]], grad_fn=<SoftmaxBackward0>)"
      ]
     },
     "execution_count": 243,
     "metadata": {},
     "output_type": "execute_result"
    }
   ],
   "source": [
    "probabilities"
   ]
  },
  {
   "cell_type": "code",
   "execution_count": null,
   "id": "dce4ada6-a08e-4795-b846-a6cfe7f657df",
   "metadata": {},
   "outputs": [
    {
     "name": "stdout",
     "output_type": "stream",
     "text": [
      "File is unzipped in Datasets folder\n"
     ]
    }
   ],
   "source": [
    "\"\"\"\n",
    "from zipfile import ZipFile\n",
    "\n",
    "with ZipFile('Datasets/Fake.zip', 'r') as zipObj:\n",
    "    # Extract all the contents of zip file in different directory\n",
    "    zipObj.extractall('Datasets')\n",
    "    print('File is unzipped in Datasets folder') \n",
    "\"\"\""
   ]
  },
  {
   "cell_type": "code",
   "execution_count": null,
   "id": "4e000633-861b-435e-8d6c-d555b61d36a7",
   "metadata": {},
   "outputs": [
    {
     "data": {
      "text/plain": [
       "(6105, 226)"
      ]
     },
     "execution_count": 270,
     "metadata": {},
     "output_type": "execute_result"
    }
   ],
   "source": [
    "import pandas as pd\n",
    "df = pd.read_csv('spark/news_for_generation.csv')\n",
    "c = 0\n",
    "list = []\n",
    "for t in df.description:\n",
    "    try:\n",
    "        if len(t.split()) > 10:\n",
    "            c += 1\n",
    "            list.append(len(t.split()))\n",
    "    except:\n",
    "        pass\n",
    "len(list), max(list)"
   ]
  },
  {
   "cell_type": "code",
   "execution_count": null,
   "id": "54720f55-354f-4996-9551-404ef25db4cd",
   "metadata": {},
   "outputs": [
    {
     "data": {
      "text/html": [
       "<div>\n",
       "<style scoped>\n",
       "    .dataframe tbody tr th:only-of-type {\n",
       "        vertical-align: middle;\n",
       "    }\n",
       "\n",
       "    .dataframe tbody tr th {\n",
       "        vertical-align: top;\n",
       "    }\n",
       "\n",
       "    .dataframe thead th {\n",
       "        text-align: right;\n",
       "    }\n",
       "</style>\n",
       "<table border=\"1\" class=\"dataframe\">\n",
       "  <thead>\n",
       "    <tr style=\"text-align: right;\">\n",
       "      <th></th>\n",
       "      <th>author</th>\n",
       "      <th>statement</th>\n",
       "      <th>source</th>\n",
       "      <th>date</th>\n",
       "      <th>target</th>\n",
       "    </tr>\n",
       "  </thead>\n",
       "  <tbody>\n",
       "    <tr>\n",
       "      <th>5539</th>\n",
       "      <td>Analisa Trofimuk</td>\n",
       "      <td>\"We need to realize that people who think that...</td>\n",
       "      <td>Greg Abbott</td>\n",
       "      <td>June 3, 2022</td>\n",
       "      <td>barely-true</td>\n",
       "    </tr>\n",
       "    <tr>\n",
       "      <th>5540</th>\n",
       "      <td>Analisa Trofimuk</td>\n",
       "      <td>\"We need to realize that people who think that...</td>\n",
       "      <td>Greg Abbott</td>\n",
       "      <td>June 3, 2022</td>\n",
       "      <td>barely-true</td>\n",
       "    </tr>\n",
       "    <tr>\n",
       "      <th>5541</th>\n",
       "      <td>Maria Ramirez</td>\n",
       "      <td>Increased encounters at the southwest border i...</td>\n",
       "      <td>Mark Brnovich</td>\n",
       "      <td>• June 2,</td>\n",
       "      <td>barely-true</td>\n",
       "    </tr>\n",
       "    <tr>\n",
       "      <th>5542</th>\n",
       "      <td>Maria Ramirez</td>\n",
       "      <td>Increased encounters at the southwest border i...</td>\n",
       "      <td>Mark Brnovich</td>\n",
       "      <td>• June 2,</td>\n",
       "      <td>barely-true</td>\n",
       "    </tr>\n",
       "    <tr>\n",
       "      <th>5543</th>\n",
       "      <td>D.L. Davis</td>\n",
       "      <td>In the immediate wake of a fire and vandalism ...</td>\n",
       "      <td>Ron Johnson</td>\n",
       "      <td>May 31, 2022</td>\n",
       "      <td>barely-true</td>\n",
       "    </tr>\n",
       "    <tr>\n",
       "      <th>...</th>\n",
       "      <td>...</td>\n",
       "      <td>...</td>\n",
       "      <td>...</td>\n",
       "      <td>...</td>\n",
       "      <td>...</td>\n",
       "    </tr>\n",
       "    <tr>\n",
       "      <th>8907</th>\n",
       "      <td>Angie Drobnic</td>\n",
       "      <td>\"No, I did not (have illegal immigrants workin...</td>\n",
       "      <td>Mitt Romney</td>\n",
       "      <td>• May 30,</td>\n",
       "      <td>barely-true</td>\n",
       "    </tr>\n",
       "    <tr>\n",
       "      <th>8908</th>\n",
       "      <td>Angie Drobnic</td>\n",
       "      <td>\"Gov. Romney's own health care plan in Massach...</td>\n",
       "      <td>Fred Thompson</td>\n",
       "      <td>• May 23,</td>\n",
       "      <td>barely-true</td>\n",
       "    </tr>\n",
       "    <tr>\n",
       "      <th>8909</th>\n",
       "      <td>Alexander Lane</td>\n",
       "      <td>Obama says his health care plan is \"universal.\"</td>\n",
       "      <td>Barack Obama</td>\n",
       "      <td>May 21, 2008</td>\n",
       "      <td>barely-true</td>\n",
       "    </tr>\n",
       "    <tr>\n",
       "      <th>8910</th>\n",
       "      <td>Robert Farley</td>\n",
       "      <td>\"People were hopeless. Sixty percent of the po...</td>\n",
       "      <td>Rudy Giuliani</td>\n",
       "      <td>May 19, 2008</td>\n",
       "      <td>barely-true</td>\n",
       "    </tr>\n",
       "    <tr>\n",
       "      <th>8911</th>\n",
       "      <td>Bill Adair</td>\n",
       "      <td>\"All of the records, as far as I know, about w...</td>\n",
       "      <td>Hillary Clinton</td>\n",
       "      <td>April 17, 2008</td>\n",
       "      <td>barely-true</td>\n",
       "    </tr>\n",
       "  </tbody>\n",
       "</table>\n",
       "<p>3373 rows × 5 columns</p>\n",
       "</div>"
      ],
      "text/plain": [
       "                author                                          statement  \\\n",
       "5539  Analisa Trofimuk  \"We need to realize that people who think that...   \n",
       "5540  Analisa Trofimuk  \"We need to realize that people who think that...   \n",
       "5541     Maria Ramirez  Increased encounters at the southwest border i...   \n",
       "5542     Maria Ramirez  Increased encounters at the southwest border i...   \n",
       "5543        D.L. Davis  In the immediate wake of a fire and vandalism ...   \n",
       "...                ...                                                ...   \n",
       "8907     Angie Drobnic  \"No, I did not (have illegal immigrants workin...   \n",
       "8908     Angie Drobnic  \"Gov. Romney's own health care plan in Massach...   \n",
       "8909    Alexander Lane    Obama says his health care plan is \"universal.\"   \n",
       "8910     Robert Farley  \"People were hopeless. Sixty percent of the po...   \n",
       "8911        Bill Adair  \"All of the records, as far as I know, about w...   \n",
       "\n",
       "               source            date       target  \n",
       "5539      Greg Abbott    June 3, 2022  barely-true  \n",
       "5540      Greg Abbott    June 3, 2022  barely-true  \n",
       "5541    Mark Brnovich       • June 2,  barely-true  \n",
       "5542    Mark Brnovich       • June 2,  barely-true  \n",
       "5543      Ron Johnson    May 31, 2022  barely-true  \n",
       "...               ...             ...          ...  \n",
       "8907      Mitt Romney       • May 30,  barely-true  \n",
       "8908    Fred Thompson       • May 23,  barely-true  \n",
       "8909     Barack Obama    May 21, 2008  barely-true  \n",
       "8910    Rudy Giuliani    May 19, 2008  barely-true  \n",
       "8911  Hillary Clinton  April 17, 2008  barely-true  \n",
       "\n",
       "[3373 rows x 5 columns]"
      ]
     },
     "execution_count": 48,
     "metadata": {},
     "output_type": "execute_result"
    }
   ],
   "source": [
    "df = pd.read_csv('Politi Fact/politifact_data.csv')\n",
    "df_fake = df.loc[df.target == 'false']\n",
    "df_barely_true= df.loc[df.target == 'barely-true']\n",
    "df_pants_fire= df.loc[df.target == 'pants-fire']\n",
    "df_fake = pd.merge(df_fake,df_barely_true,how= 'outer')\n",
    "df_fake = pd.merge(df_fake,df_pants_fire,how= 'outer')\n",
    "df_fake.loc[df_fake.target == 'barely-true']"
   ]
  },
  {
   "cell_type": "code",
   "execution_count": null,
   "id": "8d7a39a9-0213-4c80-ad0d-a15f3a6d1957",
   "metadata": {},
   "outputs": [
    {
     "data": {
      "text/html": [
       "<div>\n",
       "<style scoped>\n",
       "    .dataframe tbody tr th:only-of-type {\n",
       "        vertical-align: middle;\n",
       "    }\n",
       "\n",
       "    .dataframe tbody tr th {\n",
       "        vertical-align: top;\n",
       "    }\n",
       "\n",
       "    .dataframe thead th {\n",
       "        text-align: right;\n",
       "    }\n",
       "</style>\n",
       "<table border=\"1\" class=\"dataframe\">\n",
       "  <thead>\n",
       "    <tr style=\"text-align: right;\">\n",
       "      <th></th>\n",
       "      <th>index</th>\n",
       "      <th>title</th>\n",
       "      <th>text</th>\n",
       "      <th>label</th>\n",
       "    </tr>\n",
       "  </thead>\n",
       "  <tbody>\n",
       "    <tr>\n",
       "      <th>3</th>\n",
       "      <td>3</td>\n",
       "      <td>Nepal votes in final round of polls at the end...</td>\n",
       "      <td>Nepal votes in final round of polls at the end...</td>\n",
       "      <td>1</td>\n",
       "    </tr>\n",
       "    <tr>\n",
       "      <th>4</th>\n",
       "      <td>4</td>\n",
       "      <td>More Americans think wealthy, not middle class...</td>\n",
       "      <td>More Americans think wealthy, not middle class...</td>\n",
       "      <td>1</td>\n",
       "    </tr>\n",
       "    <tr>\n",
       "      <th>5</th>\n",
       "      <td>5</td>\n",
       "      <td>Average of polls puts New Zealand's ruling Nat...</td>\n",
       "      <td>Average of polls puts New Zealand's ruling Nat...</td>\n",
       "      <td>1</td>\n",
       "    </tr>\n",
       "    <tr>\n",
       "      <th>6</th>\n",
       "      <td>6</td>\n",
       "      <td>Russia probe counsel wants to interview senior...</td>\n",
       "      <td>Russia probe counsel wants to interview senior...</td>\n",
       "      <td>1</td>\n",
       "    </tr>\n",
       "    <tr>\n",
       "      <th>7</th>\n",
       "      <td>7</td>\n",
       "      <td>London's Canary Wharf Docklands Light Railway ...</td>\n",
       "      <td>London's Canary Wharf Docklands Light Railway ...</td>\n",
       "      <td>1</td>\n",
       "    </tr>\n",
       "    <tr>\n",
       "      <th>...</th>\n",
       "      <td>...</td>\n",
       "      <td>...</td>\n",
       "      <td>...</td>\n",
       "      <td>...</td>\n",
       "    </tr>\n",
       "    <tr>\n",
       "      <th>3777</th>\n",
       "      <td>3777</td>\n",
       "      <td>Energy market affected decision on Atlantic dr...</td>\n",
       "      <td>Energy market affected decision on Atlantic dr...</td>\n",
       "      <td>1</td>\n",
       "    </tr>\n",
       "    <tr>\n",
       "      <th>3778</th>\n",
       "      <td>3778</td>\n",
       "      <td>Factbox: Price resignation is latest Trump adm...</td>\n",
       "      <td>Factbox: Price resignation is latest Trump adm...</td>\n",
       "      <td>1</td>\n",
       "    </tr>\n",
       "    <tr>\n",
       "      <th>3781</th>\n",
       "      <td>3781</td>\n",
       "      <td>U.S. to propose Obama visit Hiroshima in late ...</td>\n",
       "      <td>U.S. to propose Obama visit Hiroshima in late ...</td>\n",
       "      <td>1</td>\n",
       "    </tr>\n",
       "    <tr>\n",
       "      <th>3782</th>\n",
       "      <td>3782</td>\n",
       "      <td>London sky turns yellow as storm blows in Saha...</td>\n",
       "      <td>London sky turns yellow as storm blows in Saha...</td>\n",
       "      <td>1</td>\n",
       "    </tr>\n",
       "    <tr>\n",
       "      <th>3783</th>\n",
       "      <td>3783</td>\n",
       "      <td>Colombia's Senate approves peace tribunals for...</td>\n",
       "      <td>Colombia's Senate approves peace tribunals for...</td>\n",
       "      <td>1</td>\n",
       "    </tr>\n",
       "  </tbody>\n",
       "</table>\n",
       "<p>2000 rows × 4 columns</p>\n",
       "</div>"
      ],
      "text/plain": [
       "      index                                              title  \\\n",
       "3         3  Nepal votes in final round of polls at the end...   \n",
       "4         4  More Americans think wealthy, not middle class...   \n",
       "5         5  Average of polls puts New Zealand's ruling Nat...   \n",
       "6         6  Russia probe counsel wants to interview senior...   \n",
       "7         7  London's Canary Wharf Docklands Light Railway ...   \n",
       "...     ...                                                ...   \n",
       "3777   3777  Energy market affected decision on Atlantic dr...   \n",
       "3778   3778  Factbox: Price resignation is latest Trump adm...   \n",
       "3781   3781  U.S. to propose Obama visit Hiroshima in late ...   \n",
       "3782   3782  London sky turns yellow as storm blows in Saha...   \n",
       "3783   3783  Colombia's Senate approves peace tribunals for...   \n",
       "\n",
       "                                                   text  label  \n",
       "3     Nepal votes in final round of polls at the end...      1  \n",
       "4     More Americans think wealthy, not middle class...      1  \n",
       "5     Average of polls puts New Zealand's ruling Nat...      1  \n",
       "6     Russia probe counsel wants to interview senior...      1  \n",
       "7     London's Canary Wharf Docklands Light Railway ...      1  \n",
       "...                                                 ...    ...  \n",
       "3777  Energy market affected decision on Atlantic dr...      1  \n",
       "3778  Factbox: Price resignation is latest Trump adm...      1  \n",
       "3781  U.S. to propose Obama visit Hiroshima in late ...      1  \n",
       "3782  London sky turns yellow as storm blows in Saha...      1  \n",
       "3783  Colombia's Senate approves peace tribunals for...      1  \n",
       "\n",
       "[2000 rows x 4 columns]"
      ]
     },
     "execution_count": 96,
     "metadata": {},
     "output_type": "execute_result"
    }
   ],
   "source": [
    "# df = pd.read_csv('Datasets/Real_news_for_test.csv').head(2000)\n",
    "df = pd.read_csv('Datasets/HuggingFaceDataset/GonzaloA-fake_news/test.csv')\n",
    "df = df.loc[df.label == 1]\n",
    "df = df\n",
    "# df = df.dropna()\n",
    "\n",
    "\"\"\"\n",
    "df_real = df.loc[df.target == 'true']\n",
    "df_mostly_true= df.loc[df.target == 'mostly-true']\n",
    "df_real = pd.merge(df_real,df_mostly_true,how= 'outer')\n",
    "df_real\n",
    "\"\"\"\n",
    "df\n",
    "# d = df_fake.loc[target.Prediction == 0]"
   ]
  },
  {
   "cell_type": "code",
   "execution_count": null,
   "id": "d5861e07-62cc-45b7-968b-2921004d09a1",
   "metadata": {},
   "outputs": [],
   "source": [
    "def test_model(model1, tokenizer, df,list):\n",
    "    model = model1.to(device)\n",
    "    for text in df.title:\n",
    "        d = {}\n",
    "        test = len(text.split())\n",
    "        if test <= 512:\n",
    "            max_len = test\n",
    "        else:\n",
    "            max_len = 512\n",
    "        encoding = tokenizer(text, \n",
    "                         pad_to_max_length=True,\n",
    "                         truncation=True,\n",
    "                         max_length= max_len ,\n",
    "                         return_tensors='pt',\n",
    "                         return_token_type_ids= True)\n",
    "        input_ids = encoding['input_ids'].to(device)\n",
    "        attention_mask = encoding['attention_mask'].to(device)\n",
    "        token_type_ids = encoding['token_type_ids'].to(device)\n",
    "        labels = torch.tensor([1]).to(device)\n",
    "        _, _, probabilities = model(input_ids,attention_mask,token_type_ids, labels=labels)\n",
    "        fake_prob = probabilities[0][0].item()\n",
    "        real_prob = probabilities[0][1].item()\n",
    "        if real_prob >= 0.5:\n",
    "            pred = 1\n",
    "        else:\n",
    "            pred = 0\n",
    "        d['Fake_pred'] = fake_prob\n",
    "        d['Real_pred'] = real_prob\n",
    "        d['Prediction'] = pred\n",
    "        list.append(d)\n",
    "    return list"
   ]
  },
  {
   "cell_type": "code",
   "execution_count": null,
   "id": "0692d179-3b10-4f2d-bc3c-190459cf93b7",
   "metadata": {},
   "outputs": [
    {
     "name": "stderr",
     "output_type": "stream",
     "text": [
      "/opt/conda/lib/python3.8/site-packages/transformers/tokenization_utils_base.py:2285: FutureWarning: The `pad_to_max_length` argument is deprecated and will be removed in a future version, use `padding=True` or `padding='longest'` to pad to the longest sequence in the batch, or use `padding='max_length'` to pad to a max length. In this case, you can give a specific length with `max_length` (e.g. `max_length=45`) or leave max_length to None to pad to the maximal input size of the model (e.g. 512 for Bert).\n",
      "  warnings.warn(\n"
     ]
    },
    {
     "name": "stdout",
     "output_type": "stream",
     "text": [
      "CPU times: user 24.9 s, sys: 62.3 ms, total: 25 s\n",
      "Wall time: 25 s\n"
     ]
    }
   ],
   "source": [
    "%%time\n",
    "list = []\n",
    "list = test_model(model1, tokenizer1, df,list)"
   ]
  },
  {
   "cell_type": "code",
   "execution_count": null,
   "id": "d07335f1-76ff-4d97-950a-8e5604b8bf99",
   "metadata": {},
   "outputs": [
    {
     "name": "stdout",
     "output_type": "stream",
     "text": [
      "CPU times: user 24.8 s, sys: 21.2 ms, total: 24.8 s\n",
      "Wall time: 24.8 s\n"
     ]
    }
   ],
   "source": [
    "%%time\n",
    "list1 = []\n",
    "list1 = test_model(model, tokenizer, df,list1)"
   ]
  },
  {
   "cell_type": "code",
   "execution_count": null,
   "id": "620da9ff-0643-4d4e-808e-99a844e77b67",
   "metadata": {},
   "outputs": [],
   "source": [
    "pd.DataFrame(list).to_csv('Datasets/model1-pred_politifact_BBC.csv', index=False)"
   ]
  },
  {
   "cell_type": "code",
   "execution_count": null,
   "id": "ebcd6270-4e17-4714-9d81-864848c8a159",
   "metadata": {},
   "outputs": [],
   "source": [
    "df_model1 = pd.DataFrame(list)"
   ]
  },
  {
   "cell_type": "code",
   "execution_count": null,
   "id": "760bfcf9-25b2-4d2f-bb34-6a2293b36cc8",
   "metadata": {},
   "outputs": [],
   "source": [
    "df_model2 = pd.DataFrame(list1)"
   ]
  },
  {
   "cell_type": "code",
   "execution_count": null,
   "id": "fc513303-3659-4394-8ea9-963cfd4bc8bd",
   "metadata": {},
   "outputs": [],
   "source": [
    "df_model1 = pd.read_csv('Datasets/model1-pred_politifact_fake_most11536.csv')\n",
    "df_model2 = pd.read_csv('Datasets/model2-pred_politifact_fake_most11536.csv')"
   ]
  },
  {
   "cell_type": "code",
   "execution_count": null,
   "id": "13fc3493-04a5-4d55-9f39-3431a5f6a126",
   "metadata": {},
   "outputs": [
    {
     "data": {
      "text/html": [
       "<div>\n",
       "<style scoped>\n",
       "    .dataframe tbody tr th:only-of-type {\n",
       "        vertical-align: middle;\n",
       "    }\n",
       "\n",
       "    .dataframe tbody tr th {\n",
       "        vertical-align: top;\n",
       "    }\n",
       "\n",
       "    .dataframe thead th {\n",
       "        text-align: right;\n",
       "    }\n",
       "</style>\n",
       "<table border=\"1\" class=\"dataframe\">\n",
       "  <thead>\n",
       "    <tr style=\"text-align: right;\">\n",
       "      <th></th>\n",
       "      <th>Fake_pred</th>\n",
       "      <th>Real_pred</th>\n",
       "      <th>Prediction</th>\n",
       "    </tr>\n",
       "  </thead>\n",
       "  <tbody>\n",
       "    <tr>\n",
       "      <th>0</th>\n",
       "      <td>0.000537</td>\n",
       "      <td>0.999463</td>\n",
       "      <td>1</td>\n",
       "    </tr>\n",
       "    <tr>\n",
       "      <th>1</th>\n",
       "      <td>0.004603</td>\n",
       "      <td>0.995396</td>\n",
       "      <td>1</td>\n",
       "    </tr>\n",
       "    <tr>\n",
       "      <th>2</th>\n",
       "      <td>0.152706</td>\n",
       "      <td>0.847294</td>\n",
       "      <td>1</td>\n",
       "    </tr>\n",
       "    <tr>\n",
       "      <th>3</th>\n",
       "      <td>0.014871</td>\n",
       "      <td>0.985129</td>\n",
       "      <td>1</td>\n",
       "    </tr>\n",
       "    <tr>\n",
       "      <th>4</th>\n",
       "      <td>0.446234</td>\n",
       "      <td>0.553766</td>\n",
       "      <td>1</td>\n",
       "    </tr>\n",
       "    <tr>\n",
       "      <th>...</th>\n",
       "      <td>...</td>\n",
       "      <td>...</td>\n",
       "      <td>...</td>\n",
       "    </tr>\n",
       "    <tr>\n",
       "      <th>1995</th>\n",
       "      <td>0.000560</td>\n",
       "      <td>0.999440</td>\n",
       "      <td>1</td>\n",
       "    </tr>\n",
       "    <tr>\n",
       "      <th>1996</th>\n",
       "      <td>0.993765</td>\n",
       "      <td>0.006235</td>\n",
       "      <td>0</td>\n",
       "    </tr>\n",
       "    <tr>\n",
       "      <th>1997</th>\n",
       "      <td>0.014770</td>\n",
       "      <td>0.985230</td>\n",
       "      <td>1</td>\n",
       "    </tr>\n",
       "    <tr>\n",
       "      <th>1998</th>\n",
       "      <td>0.897066</td>\n",
       "      <td>0.102934</td>\n",
       "      <td>0</td>\n",
       "    </tr>\n",
       "    <tr>\n",
       "      <th>1999</th>\n",
       "      <td>0.001209</td>\n",
       "      <td>0.998791</td>\n",
       "      <td>1</td>\n",
       "    </tr>\n",
       "  </tbody>\n",
       "</table>\n",
       "<p>2000 rows × 3 columns</p>\n",
       "</div>"
      ],
      "text/plain": [
       "      Fake_pred  Real_pred  Prediction\n",
       "0      0.000537   0.999463           1\n",
       "1      0.004603   0.995396           1\n",
       "2      0.152706   0.847294           1\n",
       "3      0.014871   0.985129           1\n",
       "4      0.446234   0.553766           1\n",
       "...         ...        ...         ...\n",
       "1995   0.000560   0.999440           1\n",
       "1996   0.993765   0.006235           0\n",
       "1997   0.014770   0.985230           1\n",
       "1998   0.897066   0.102934           0\n",
       "1999   0.001209   0.998791           1\n",
       "\n",
       "[2000 rows x 3 columns]"
      ]
     },
     "execution_count": 37,
     "metadata": {},
     "output_type": "execute_result"
    }
   ],
   "source": [
    "df_model1"
   ]
  },
  {
   "cell_type": "code",
   "execution_count": null,
   "id": "d991e2a1-b7cb-4dfb-a1ba-d598cb4000b8",
   "metadata": {},
   "outputs": [
    {
     "name": "stdout",
     "output_type": "stream",
     "text": [
      "Model 01:\n"
     ]
    },
    {
     "data": {
      "text/plain": [
       "(('Fake', 381), ('Real', 1619), ('Correct Pred', 1619))"
      ]
     },
     "execution_count": 114,
     "metadata": {},
     "output_type": "execute_result"
    }
   ],
   "source": [
    "#df_plot = pd.read_csv('Datasets/model2-pred_text.csv')\n",
    "d = df_model1.loc[df_model1.Prediction == 0]\n",
    "d1 = df_model1.loc[df_model1.Prediction == 1]\n",
    "print('Model 01:')\n",
    "('Fake',len(d)), ('Real',len(d1)), ('Correct Pred', len(d1))"
   ]
  },
  {
   "cell_type": "code",
   "execution_count": null,
   "id": "bfc51805-24e4-44dd-96dd-8f88e52f6ffe",
   "metadata": {},
   "outputs": [
    {
     "name": "stdout",
     "output_type": "stream",
     "text": [
      "Model 02:\n"
     ]
    },
    {
     "data": {
      "text/plain": [
       "(('Fake', 111), ('Real', 1889), ('Correct Pred', 1889))"
      ]
     },
     "execution_count": 115,
     "metadata": {},
     "output_type": "execute_result"
    }
   ],
   "source": [
    "#df_plot = pd.read_csv('Datasets/model2-pred_text.csv')\n",
    "d2 = df_model2.loc[df_model2.Prediction == 0]\n",
    "d3 = df_model2.loc[df_model2.Prediction == 1]\n",
    "print('Model 02:')\n",
    "('Fake',len(d2)), ('Real',len(d3)), ('Correct Pred', len(d3))"
   ]
  },
  {
   "cell_type": "code",
   "execution_count": null,
   "id": "eb623a08-5df1-416e-90c7-2bb83316a923",
   "metadata": {},
   "outputs": [
    {
     "name": "stdout",
     "output_type": "stream",
     "text": [
      "Model 01:\n"
     ]
    },
    {
     "data": {
      "text/plain": [
       "(('Fake', 2163), ('Real', 2448), ('Correct Pred', 2448))"
      ]
     },
     "execution_count": 257,
     "metadata": {},
     "output_type": "execute_result"
    }
   ],
   "source": [
    "#df_plot = pd.read_csv('Datasets/model2-pred_text.csv')\n",
    "d = df_model1.loc[df_model1.Prediction == 0]\n",
    "d1 = df_model1.loc[df_model1.Prediction == 1]\n",
    "print('Model 01:')\n",
    "('Fake',len(d)), ('Real',len(d1)), ('Correct Pred', len(d1))"
   ]
  },
  {
   "cell_type": "code",
   "execution_count": null,
   "id": "d9369e15-43d8-4922-a8c4-6fd677bb3218",
   "metadata": {},
   "outputs": [
    {
     "name": "stdout",
     "output_type": "stream",
     "text": [
      "Model 02:\n"
     ]
    },
    {
     "data": {
      "text/plain": [
       "(('Fake', 1651), ('Real', 2960), ('Correct Pred', 2960))"
      ]
     },
     "execution_count": 258,
     "metadata": {},
     "output_type": "execute_result"
    }
   ],
   "source": [
    "#df_plot = pd.read_csv('Datasets/model2-pred_text.csv')\n",
    "d2 = df_model2.loc[df_model2.Prediction == 0]\n",
    "d3 = df_model2.loc[df_model2.Prediction == 1]\n",
    "print('Model 02:')\n",
    "('Fake',len(d2)), ('Real',len(d3)), ('Correct Pred', len(d3))"
   ]
  },
  {
   "cell_type": "code",
   "execution_count": null,
   "id": "92e6c5fb-5b5c-49a7-bcfa-6414ab7205e7",
   "metadata": {},
   "outputs": [
    {
     "data": {
      "image/png": "[encoded data removed]",
      "text/plain": [
       "<Figure size 432x288 with 1 Axes>"
      ]
     },
     "metadata": {
      "needs_background": "light"
     },
     "output_type": "display_data"
    }
   ],
   "source": [
    "import matplotlib.pyplot as plt\n",
    "x = ['Model01', 'Model02']\n",
    "y = [len(d1), len(d3)]\n",
    "plt.barh(x, y)\n",
    "\n",
    "for index, value in enumerate(y):\n",
    "    plt.text(value, index, str(value))"
   ]
  },
  {
   "cell_type": "code",
   "execution_count": null,
   "id": "1716fb16-02d1-4cfb-a7ec-805ea5a83bb5",
   "metadata": {},
   "outputs": [
    {
     "data": {
      "image/png": "[encoded data removed]",
      "text/plain": [
       "<Figure size 432x288 with 1 Axes>"
      ]
     },
     "metadata": {
      "needs_background": "light"
     },
     "output_type": "display_data"
    }
   ],
   "source": [
    "import matplotlib.pyplot as plt\n",
    "x = ['Model01', 'Model02']\n",
    "y = [len(d1), len(d3)]\n",
    "plt.barh(x, y)\n",
    "\n",
    "for index, value in enumerate(y):\n",
    "    plt.text(value, index, str(value))"
   ]
  },
  {
   "cell_type": "code",
   "execution_count": null,
   "id": "4e933dd3-2f98-4218-8b3d-e77add9f3a7d",
   "metadata": {},
   "outputs": [
    {
     "data": {
      "image/png": "[encoded data removed]",
      "text/plain": [
       "<Figure size 432x288 with 1 Axes>"
      ]
     },
     "metadata": {
      "needs_background": "light"
     },
     "output_type": "display_data"
    }
   ],
   "source": [
    "import matplotlib.pyplot as plt\n",
    "x = ['Model01','Model02']\n",
    "y = [len(d1), len(d3)]\n",
    "plt.barh(x, y)\n",
    "\n",
    "for index, value in enumerate(y):\n",
    "    plt.text(value, index, str(value))"
   ]
  },
  {
   "cell_type": "code",
   "execution_count": null,
   "id": "28ffb7d6-fc1b-4869-88de-0c4d812ccd05",
   "metadata": {},
   "outputs": [
    {
     "data": {
      "text/plain": [
       "<AxesSubplot:ylabel='Frequency'>"
      ]
     },
     "execution_count": 81,
     "metadata": {},
     "output_type": "execute_result"
    },
    {
     "data": {
      "image/png": "[encoded data removed]",
      "text/plain": [
       "<Figure size 432x288 with 1 Axes>"
      ]
     },
     "metadata": {
      "needs_background": "light"
     },
     "output_type": "display_data"
    }
   ],
   "source": [
    "# df_plot.plot(x=[0,1,2,3], y=[\"Real_pred\", \"Fake_pred\"])\n",
    "import matplotlib.pyplot as plt\n",
    "\n",
    "# plt.plot(df_plot[\"Real_pred\"], df_plot[\"Fake_pred\"])\n",
    "median_column = df_plot[\"Fake_pred\"]\n",
    "median_column.plot(kind=\"hist\")"
   ]
  },
  {
   "cell_type": "code",
   "execution_count": null,
   "id": "74d20a07-37a7-4359-ae4b-d17c3ebaf67f",
   "metadata": {},
   "outputs": [
    {
     "data": {
      "text/plain": [
       "<AxesSubplot:ylabel='Frequency'>"
      ]
     },
     "execution_count": 93,
     "metadata": {},
     "output_type": "execute_result"
    },
    {
     "data": {
      "image/png": "[encoded data removed]",
      "text/plain": [
       "<Figure size 432x288 with 1 Axes>"
      ]
     },
     "metadata": {
      "needs_background": "light"
     },
     "output_type": "display_data"
    }
   ],
   "source": [
    "df_plot[df_plot[\"Prediction\"] == 0][\"Fake_pred\"].plot(kind=\"hist\")"
   ]
  },
  {
   "cell_type": "code",
   "execution_count": null,
   "id": "718c4f3d-fc36-4782-b1bc-2b2ba26337d5",
   "metadata": {},
   "outputs": [
    {
     "name": "stdout",
     "output_type": "stream",
     "text": [
      "200\n"
     ]
    }
   ],
   "source": [
    "# test NYT Apis\n",
    "import requests\n",
    "link = 'https://api.nytimes.com/svc/archive/v1/2019/1.json?api-key='\n",
    "api_key = '1tgiSpMocgV00Nq8gav3OG9dXiLYgMHt'\n",
    "# https://api.nytimes.com/svc/archive/v1/{year}/{month}.json\n",
    "\n",
    "year_month = f'/{2020}/{5}.json'\n",
    "url = link + api_key\n",
    "resp = requests.get(url)\n",
    "\n",
    "print(resp.status_code)"
   ]
  },
  {
   "cell_type": "code",
   "execution_count": null,
   "id": "544fabc6-5241-458b-93fc-e6a067c35fd5",
   "metadata": {},
   "outputs": [
    {
     "name": "stdout",
     "output_type": "stream",
     "text": [
      "Year:  2011\n",
      "8478\n",
      "8478\n",
      "8478\n",
      "8478\n",
      "8478\n",
      "8478\n",
      "8478\n",
      "8478\n",
      "8478\n",
      "8478\n",
      "Year:  2012\n",
      "Year:  2013\n",
      "Year:  2014\n",
      "Year:  2015\n",
      "Year:  2016\n",
      "Year:  2017\n",
      "4757\n",
      "4757\n",
      "4757\n",
      "4757\n",
      "4757\n",
      "4757\n",
      "4757\n",
      "Year:  2018\n",
      "6381\n",
      "6381\n",
      "6381\n",
      "Year:  2019\n",
      "Year:  2020\n",
      "Year:  2021\n",
      "Year:  2022\n",
      "Year:  2023\n",
      "Year:  2024\n",
      "Year:  2025\n",
      "Year:  2026\n",
      "Year:  2027\n",
      "Year:  2028\n",
      "Year:  2029\n",
      "Year:  2030\n",
      "Year:  2031\n"
     ]
    }
   ],
   "source": [
    "# Demo code sample. Not indended for production use.\n",
    "\n",
    "# See instructions for installing Requests module for Python\n",
    "# https://requests.readthedocs.io/en/master/user/install/#install\n",
    "\n",
    "import requests\n",
    "api_key = '1tgiSpMocgV00Nq8gav3OG9dXiLYgMHt'\n",
    "\n",
    "def execute(api_key,list,i):\n",
    "    year = 2010 + i\n",
    "    print('Year: ', year)\n",
    "    for j in range(1,13):\n",
    "        month = i\n",
    "        requestUrl = f\"https://api.nytimes.com/svc/archive/v1/{year}/{month}.json?api-key={api_key}\"\n",
    "        requestHeaders = {\n",
    "        \"Accept\": \"application/json\"\n",
    "        }\n",
    "\n",
    "        response = requests.get(requestUrl, headers=requestHeaders)\n",
    "        statement = response.json()\n",
    "        try:\n",
    "            articles = statement['response']['docs']\n",
    "            for article in articles:\n",
    "                d = {}\n",
    "                web_url = article['web_url']\n",
    "                source = article['source']\n",
    "                headline = article['headline']['main']\n",
    "                lead_paragraph = article['lead_paragraph']\n",
    "                d['source'] = source\n",
    "                d['title'] = headline\n",
    "                d['description'] = lead_paragraph\n",
    "                d['web_url'] = web_url\n",
    "                list.append(d)\n",
    "            print(len(articles))\n",
    "        except:\n",
    "            pass\n",
    "    \n",
    "\n",
    "if __name__ == \"__main__\":\n",
    "    list = []\n",
    "    n = 13\n",
    "    for i in range(1,22):\n",
    "        execute(api_key,list,i)"
   ]
  },
  {
   "cell_type": "code",
   "execution_count": null,
   "id": "12054808-a148-4d3b-bf5f-28e68c466c45",
   "metadata": {},
   "outputs": [
    {
     "data": {
      "text/plain": [
       "137222"
      ]
     },
     "execution_count": 63,
     "metadata": {},
     "output_type": "execute_result"
    }
   ],
   "source": [
    "len(list)"
   ]
  },
  {
   "cell_type": "code",
   "execution_count": null,
   "id": "da2cc114-916b-4b49-9545-83ed3e7632bd",
   "metadata": {},
   "outputs": [],
   "source": [
    "pd.DataFrame(list).to_csv('Datasets/NYW.csv', index=False)"
   ]
  },
  {
   "cell_type": "code",
   "execution_count": null,
   "id": "81b612b6-b88a-4b03-9530-a90166f7304c",
   "metadata": {},
   "outputs": [
    {
     "name": "stdout",
     "output_type": "stream",
     "text": [
      "CPU times: user 13.4 s, sys: 353 ms, total: 13.8 s\n",
      "Wall time: 3min 20s\n"
     ]
    }
   ],
   "source": [
    "%%time\n",
    "from bs4 import BeautifulSoup as bs\n",
    "import requests\n",
    "list = []\n",
    "for i in range(1,30):\n",
    "    url = \"https://www.bbc.co.uk/search?q=Business&page=\" + str(i)\n",
    "    r = requests.get(url)\n",
    "    soup = bs(r.content, 'html.parser')\n",
    "    lis = soup.find('ul',{'class':'ssrcss-1020bd1-Stack e1y4nx260'}).find_all('li')\n",
    "    try:\n",
    "        for li in lis:\n",
    "            d = {}\n",
    "            div_content = li.find('div',{'class':'ssrcss-1f3bvyz-Stack e1y4nx260'})\n",
    "            title = div_content.find('a').text.strip()\n",
    "            description = div_content.find('p',{'class':'ssrcss-1q0x1qg-Paragraph eq5iqo00'}).text.strip()\n",
    "            link = div_content.find('a').get('href')\n",
    "            r = requests.get(link)\n",
    "            soup = bs(r.content, 'html.parser')\n",
    "            div_list = soup.find_all('div',{'class':'ssrcss-uf6wea-RichTextComponentWrapper e1xue1i86'})\n",
    "            text = ''\n",
    "            for t in div_list:\n",
    "                text = text + t.text.strip() + ' '\n",
    "            if str(type(i)) != \"<class 'float'>\":\n",
    "                d['title'] = title\n",
    "                d['description'] = description\n",
    "                d['text'] = text\n",
    "                d['link'] = link\n",
    "                list.append(d)\n",
    "    except:\n",
    "        pass\n",
    "        "
   ]
  },
  {
   "cell_type": "code",
   "execution_count": null,
   "id": "19d1ca78-4ef7-4e8a-9a43-c3675cab3562",
   "metadata": {},
   "outputs": [],
   "source": [
    "pd.DataFrame(list).to_csv('Datasets/BBC-Business.csv', index=False)"
   ]
  },
  {
   "cell_type": "code",
   "execution_count": null,
   "id": "7f1bd837-749e-4b19-9c18-3f44aed2459a",
   "metadata": {},
   "outputs": [
    {
     "name": "stderr",
     "output_type": "stream",
     "text": [
      "/opt/conda/lib/python3.8/site-packages/IPython/core/interactiveshell.py:3251: DtypeWarning: Columns (0,1,2,3) have mixed types.Specify dtype option on import or set low_memory=False.\n",
      "  exec(code_obj, self.user_global_ns, self.user_ns)\n"
     ]
    }
   ],
   "source": [
    "df = pd.read_csv('Datasets/HuggingFaceDataset/cc_news/Real_news.csv')"
   ]
  },
  {
   "cell_type": "code",
   "execution_count": null,
   "id": "19abef54-9db5-4e86-9a2f-67e2811bf072",
   "metadata": {},
   "outputs": [
    {
     "data": {
      "text/html": [
       "<div>\n",
       "<style scoped>\n",
       "    .dataframe tbody tr th:only-of-type {\n",
       "        vertical-align: middle;\n",
       "    }\n",
       "\n",
       "    .dataframe tbody tr th {\n",
       "        vertical-align: top;\n",
       "    }\n",
       "\n",
       "    .dataframe thead th {\n",
       "        text-align: right;\n",
       "    }\n",
       "</style>\n",
       "<table border=\"1\" class=\"dataframe\">\n",
       "  <thead>\n",
       "    <tr style=\"text-align: right;\">\n",
       "      <th></th>\n",
       "      <th>index</th>\n",
       "      <th>title</th>\n",
       "      <th>text</th>\n",
       "      <th>description</th>\n",
       "    </tr>\n",
       "  </thead>\n",
       "  <tbody>\n",
       "    <tr>\n",
       "      <th>0</th>\n",
       "      <td>0</td>\n",
       "      <td>Daughter Duo is Dancing in The Same Company</td>\n",
       "      <td>Daughter Duo is Dancing in The Same Company\\n\\...</td>\n",
       "      <td>There's a surprising twist to Regina Willoughb...</td>\n",
       "    </tr>\n",
       "    <tr>\n",
       "      <th>1</th>\n",
       "      <td>1</td>\n",
       "      <td>New York City Ballet Announces Interim Leaders...</td>\n",
       "      <td>New York City Ballet Announces Interim Leaders...</td>\n",
       "      <td>NYCB has announced an interim leadership team ...</td>\n",
       "    </tr>\n",
       "    <tr>\n",
       "      <th>2</th>\n",
       "      <td>2</td>\n",
       "      <td>Watch Pennsylvania Ballet &amp; Boston Ballet Face...</td>\n",
       "      <td>Watch Pennsylvania Ballet &amp; Boston Ballet Face...</td>\n",
       "      <td>The Philadelphia Eagles and the New England Pa...</td>\n",
       "    </tr>\n",
       "    <tr>\n",
       "      <th>3</th>\n",
       "      <td>3</td>\n",
       "      <td>dance shoes</td>\n",
       "      <td>dance shoes\\n\\n\\nLooking for your next auditio...</td>\n",
       "      <td>Looking for your next audition shoe? Shot at a...</td>\n",
       "    </tr>\n",
       "    <tr>\n",
       "      <th>4</th>\n",
       "      <td>4</td>\n",
       "      <td>Rebecca Krohn on Her Retirement from New York ...</td>\n",
       "      <td>Rebecca Krohn on Her Retirement from New York ...</td>\n",
       "      <td>We interviewed New York City Ballet principal ...</td>\n",
       "    </tr>\n",
       "    <tr>\n",
       "      <th>...</th>\n",
       "      <td>...</td>\n",
       "      <td>...</td>\n",
       "      <td>...</td>\n",
       "      <td>...</td>\n",
       "    </tr>\n",
       "    <tr>\n",
       "      <th>1065432</th>\n",
       "      <td>708233</td>\n",
       "      <td>East Midlands residents ‘illegally stream and ...</td>\n",
       "      <td>East Midlands residents ‘illegally stream and ...</td>\n",
       "      <td>A brand new study undertaken by a broadband co...</td>\n",
       "    </tr>\n",
       "    <tr>\n",
       "      <th>1065433</th>\n",
       "      <td>708234</td>\n",
       "      <td>Musical maverick opens Jockey Club Live season...</td>\n",
       "      <td>Musical maverick opens Jockey Club Live season...</td>\n",
       "      <td>Excitement is growing ahead of the opening Joc...</td>\n",
       "    </tr>\n",
       "    <tr>\n",
       "      <th>1065434</th>\n",
       "      <td>708235</td>\n",
       "      <td>LINCS LEAGUE: Fixtures</td>\n",
       "      <td>LINCS LEAGUE: Fixtures\\n\\n\\nToday’s matches......</td>\n",
       "      <td>Today’s matches...</td>\n",
       "    </tr>\n",
       "    <tr>\n",
       "      <th>1065435</th>\n",
       "      <td>708236</td>\n",
       "      <td>Louth police investigate Boyes theft</td>\n",
       "      <td>Louth police investigate Boyes theft\\n\\n\\nPoli...</td>\n",
       "      <td>Police are appealing for information that coul...</td>\n",
       "    </tr>\n",
       "    <tr>\n",
       "      <th>1065436</th>\n",
       "      <td>708237</td>\n",
       "      <td>Jewellery stolen in Marshchapel burglary</td>\n",
       "      <td>Jewellery stolen in Marshchapel burglary\\n\\n\\n...</td>\n",
       "      <td>Police are appealing for information following...</td>\n",
       "    </tr>\n",
       "  </tbody>\n",
       "</table>\n",
       "<p>517852 rows × 4 columns</p>\n",
       "</div>"
      ],
      "text/plain": [
       "          index                                              title  \\\n",
       "0             0        Daughter Duo is Dancing in The Same Company   \n",
       "1             1  New York City Ballet Announces Interim Leaders...   \n",
       "2             2  Watch Pennsylvania Ballet & Boston Ballet Face...   \n",
       "3             3                                        dance shoes   \n",
       "4             4  Rebecca Krohn on Her Retirement from New York ...   \n",
       "...         ...                                                ...   \n",
       "1065432  708233  East Midlands residents ‘illegally stream and ...   \n",
       "1065433  708234  Musical maverick opens Jockey Club Live season...   \n",
       "1065434  708235                             LINCS LEAGUE: Fixtures   \n",
       "1065435  708236               Louth police investigate Boyes theft   \n",
       "1065436  708237           Jewellery stolen in Marshchapel burglary   \n",
       "\n",
       "                                                      text  \\\n",
       "0        Daughter Duo is Dancing in The Same Company\\n\\...   \n",
       "1        New York City Ballet Announces Interim Leaders...   \n",
       "2        Watch Pennsylvania Ballet & Boston Ballet Face...   \n",
       "3        dance shoes\\n\\n\\nLooking for your next auditio...   \n",
       "4        Rebecca Krohn on Her Retirement from New York ...   \n",
       "...                                                    ...   \n",
       "1065432  East Midlands residents ‘illegally stream and ...   \n",
       "1065433  Musical maverick opens Jockey Club Live season...   \n",
       "1065434  LINCS LEAGUE: Fixtures\\n\\n\\nToday’s matches......   \n",
       "1065435  Louth police investigate Boyes theft\\n\\n\\nPoli...   \n",
       "1065436  Jewellery stolen in Marshchapel burglary\\n\\n\\n...   \n",
       "\n",
       "                                               description  \n",
       "0        There's a surprising twist to Regina Willoughb...  \n",
       "1        NYCB has announced an interim leadership team ...  \n",
       "2        The Philadelphia Eagles and the New England Pa...  \n",
       "3        Looking for your next audition shoe? Shot at a...  \n",
       "4        We interviewed New York City Ballet principal ...  \n",
       "...                                                    ...  \n",
       "1065432  A brand new study undertaken by a broadband co...  \n",
       "1065433  Excitement is growing ahead of the opening Joc...  \n",
       "1065434                                 Today’s matches...  \n",
       "1065435  Police are appealing for information that coul...  \n",
       "1065436  Police are appealing for information following...  \n",
       "\n",
       "[517852 rows x 4 columns]"
      ]
     },
     "execution_count": 92,
     "metadata": {},
     "output_type": "execute_result"
    }
   ],
   "source": [
    "df_non = df.dropna()\n",
    "df_non"
   ]
  },
  {
   "cell_type": "code",
   "execution_count": null,
   "id": "526c91d4-97a2-48f8-ae7b-39617cafada3",
   "metadata": {},
   "outputs": [
    {
     "data": {
      "text/plain": [
       "20000"
      ]
     },
     "execution_count": 93,
     "metadata": {},
     "output_type": "execute_result"
    }
   ],
   "source": [
    "# df_test = df.loc[len(df['text']) > 450]\n",
    "df_t = df.head(500)\n",
    "list = []\n",
    "c = 0\n",
    "i = 0\n",
    "for index, row in df_non.iterrows():\n",
    "    d = {}\n",
    "    try:\n",
    "        text = row.text\n",
    "        test = text.split()\n",
    "        title = row.title\n",
    "        description = row.description\n",
    "        if len(test) >= 800:\n",
    "            c += 1   \n",
    "            d['title'] = title\n",
    "            d['text'] = text\n",
    "            d['description'] = description\n",
    "            list.append(d)\n",
    "            i += 1\n",
    "            if i == 20000:\n",
    "                break\n",
    "    except:\n",
    "        pass\n",
    "    \n",
    "len(list)"
   ]
  },
  {
   "cell_type": "code",
   "execution_count": null,
   "id": "58156ff9-6241-44cf-9d5f-5c3305b2c8d6",
   "metadata": {},
   "outputs": [],
   "source": [
    "# df_test = pd.DataFrame(list)\n",
    "df_test.to_csv('Datasets/Real_news_for_test.csv', index=False)"
   ]
  },
  {
   "cell_type": "code",
   "execution_count": null,
   "id": "3637c944-7499-4cb9-8191-e8debb523726",
   "metadata": {},
   "outputs": [
    {
     "data": {
      "text/html": [
       "<div>\n",
       "<style scoped>\n",
       "    .dataframe tbody tr th:only-of-type {\n",
       "        vertical-align: middle;\n",
       "    }\n",
       "\n",
       "    .dataframe tbody tr th {\n",
       "        vertical-align: top;\n",
       "    }\n",
       "\n",
       "    .dataframe thead th {\n",
       "        text-align: right;\n",
       "    }\n",
       "</style>\n",
       "<table border=\"1\" class=\"dataframe\">\n",
       "  <thead>\n",
       "    <tr style=\"text-align: right;\">\n",
       "      <th></th>\n",
       "      <th>title</th>\n",
       "      <th>description</th>\n",
       "      <th>text</th>\n",
       "      <th>link</th>\n",
       "    </tr>\n",
       "  </thead>\n",
       "  <tbody>\n",
       "    <tr>\n",
       "      <th>0</th>\n",
       "      <td>Russian man accused of Alexander Litvinenko ki...</td>\n",
       "      <td>Dmitry Kovtun, one of two men the UK says were...</td>\n",
       "      <td>One of the main suspects in the murder of the ...</td>\n",
       "      <td>https://www.bbc.co.uk/news/world-europe-61690519</td>\n",
       "    </tr>\n",
       "    <tr>\n",
       "      <th>1</th>\n",
       "      <td>Middlesbrough man let down by care as Covid hi...</td>\n",
       "      <td>New carers took him out for a walk when he sho...</td>\n",
       "      <td>A vulnerable cancer patient who died after con...</td>\n",
       "      <td>https://www.bbc.co.uk/news/uk-england-tees-616...</td>\n",
       "    </tr>\n",
       "    <tr>\n",
       "      <th>2</th>\n",
       "      <td>Queen's Honours: Bittersweet award for Covid n...</td>\n",
       "      <td>Maria Hewitt, who cared for Covid patients aft...</td>\n",
       "      <td>A medal from the Queen to recognise her work d...</td>\n",
       "      <td>https://www.bbc.co.uk/news/uk-scotland-61673162</td>\n",
       "    </tr>\n",
       "    <tr>\n",
       "      <th>3</th>\n",
       "      <td>Cancer patient in call for Evusheld Covid medi...</td>\n",
       "      <td>Scott Brigden wants to be able to take Evushel...</td>\n",
       "      <td>A cancer patient shielding from Covid has told...</td>\n",
       "      <td>https://www.bbc.co.uk/news/uk-england-humber-6...</td>\n",
       "    </tr>\n",
       "    <tr>\n",
       "      <th>4</th>\n",
       "      <td>Covid: Maskless Tube passengers owe Transport ...</td>\n",
       "      <td>Compulsory masks were reinstated amid rising c...</td>\n",
       "      <td>Passengers owe Transport for London (TfL) an e...</td>\n",
       "      <td>https://www.bbc.co.uk/news/uk-england-london-6...</td>\n",
       "    </tr>\n",
       "    <tr>\n",
       "      <th>...</th>\n",
       "      <td>...</td>\n",
       "      <td>...</td>\n",
       "      <td>...</td>\n",
       "      <td>...</td>\n",
       "    </tr>\n",
       "    <tr>\n",
       "      <th>20266</th>\n",
       "      <td>Polish PM defends judicial witch-hunt</td>\n",
       "      <td>Poland's judicial purge was meant to punish fo...</td>\n",
       "      <td>Polish PM defends judicial witch-hunt\\n\\n\\nPol...</td>\n",
       "      <td>NaN</td>\n",
       "    </tr>\n",
       "    <tr>\n",
       "      <th>20267</th>\n",
       "      <td>North Korea: time to put the 'E' in engagement</td>\n",
       "      <td>Brussels now has a chance to enhance the EU's ...</td>\n",
       "      <td>North Korea: time to put the 'E' in engagement...</td>\n",
       "      <td>NaN</td>\n",
       "    </tr>\n",
       "    <tr>\n",
       "      <th>20268</th>\n",
       "      <td>A guide to Dutch elections: how the system works</td>\n",
       "      <td>The Dutch electoral and party system makes it ...</td>\n",
       "      <td>A guide to Dutch elections: how the system wor...</td>\n",
       "      <td>NaN</td>\n",
       "    </tr>\n",
       "    <tr>\n",
       "      <th>20269</th>\n",
       "      <td>Italian crisis felt in Spain and wider EU</td>\n",
       "      <td>Collapse of government talks in Rome triggered...</td>\n",
       "      <td>Italian crisis felt in Spain and wider EU\\n\\n\\...</td>\n",
       "      <td>NaN</td>\n",
       "    </tr>\n",
       "    <tr>\n",
       "      <th>20270</th>\n",
       "      <td>The Stacey Evans speech protesters wouldn’t le...</td>\n",
       "      <td>The speech Stacey Evans tried to deliver to a ...</td>\n",
       "      <td>The Stacey Evans speech protesters wouldn’t le...</td>\n",
       "      <td>NaN</td>\n",
       "    </tr>\n",
       "  </tbody>\n",
       "</table>\n",
       "<p>20271 rows × 4 columns</p>\n",
       "</div>"
      ],
      "text/plain": [
       "                                                   title  \\\n",
       "0      Russian man accused of Alexander Litvinenko ki...   \n",
       "1      Middlesbrough man let down by care as Covid hi...   \n",
       "2      Queen's Honours: Bittersweet award for Covid n...   \n",
       "3      Cancer patient in call for Evusheld Covid medi...   \n",
       "4      Covid: Maskless Tube passengers owe Transport ...   \n",
       "...                                                  ...   \n",
       "20266              Polish PM defends judicial witch-hunt   \n",
       "20267     North Korea: time to put the 'E' in engagement   \n",
       "20268   A guide to Dutch elections: how the system works   \n",
       "20269          Italian crisis felt in Spain and wider EU   \n",
       "20270  The Stacey Evans speech protesters wouldn’t le...   \n",
       "\n",
       "                                             description  \\\n",
       "0      Dmitry Kovtun, one of two men the UK says were...   \n",
       "1      New carers took him out for a walk when he sho...   \n",
       "2      Maria Hewitt, who cared for Covid patients aft...   \n",
       "3      Scott Brigden wants to be able to take Evushel...   \n",
       "4      Compulsory masks were reinstated amid rising c...   \n",
       "...                                                  ...   \n",
       "20266  Poland's judicial purge was meant to punish fo...   \n",
       "20267  Brussels now has a chance to enhance the EU's ...   \n",
       "20268  The Dutch electoral and party system makes it ...   \n",
       "20269  Collapse of government talks in Rome triggered...   \n",
       "20270  The speech Stacey Evans tried to deliver to a ...   \n",
       "\n",
       "                                                    text  \\\n",
       "0      One of the main suspects in the murder of the ...   \n",
       "1      A vulnerable cancer patient who died after con...   \n",
       "2      A medal from the Queen to recognise her work d...   \n",
       "3      A cancer patient shielding from Covid has told...   \n",
       "4      Passengers owe Transport for London (TfL) an e...   \n",
       "...                                                  ...   \n",
       "20266  Polish PM defends judicial witch-hunt\\n\\n\\nPol...   \n",
       "20267  North Korea: time to put the 'E' in engagement...   \n",
       "20268  A guide to Dutch elections: how the system wor...   \n",
       "20269  Italian crisis felt in Spain and wider EU\\n\\n\\...   \n",
       "20270  The Stacey Evans speech protesters wouldn’t le...   \n",
       "\n",
       "                                                    link  \n",
       "0       https://www.bbc.co.uk/news/world-europe-61690519  \n",
       "1      https://www.bbc.co.uk/news/uk-england-tees-616...  \n",
       "2        https://www.bbc.co.uk/news/uk-scotland-61673162  \n",
       "3      https://www.bbc.co.uk/news/uk-england-humber-6...  \n",
       "4      https://www.bbc.co.uk/news/uk-england-london-6...  \n",
       "...                                                  ...  \n",
       "20266                                                NaN  \n",
       "20267                                                NaN  \n",
       "20268                                                NaN  \n",
       "20269                                                NaN  \n",
       "20270                                                NaN  \n",
       "\n",
       "[20271 rows x 4 columns]"
      ]
     },
     "execution_count": 121,
     "metadata": {},
     "output_type": "execute_result"
    }
   ],
   "source": [
    "df = pd.read_csv('Datasets/Real_news_for_test.csv')\n",
    "df"
   ]
  },
  {
   "cell_type": "code",
   "execution_count": null,
   "id": "546bef42-78fe-4713-9ac5-2d9db1c4349f",
   "metadata": {},
   "outputs": [
    {
     "ename": "AttributeError",
     "evalue": "'DataFrame' object has no attribute 'text'",
     "output_type": "error",
     "traceback": [
      "\u001b[0;31m---------------------------------------------------------------------------\u001b[0m",
      "\u001b[0;31mAttributeError\u001b[0m                            Traceback (most recent call last)",
      "Input \u001b[0;32mIn [302]\u001b[0m, in \u001b[0;36m<module>\u001b[0;34m\u001b[0m\n\u001b[1;32m      1\u001b[0m c \u001b[38;5;241m=\u001b[39m []\n\u001b[0;32m----> 2\u001b[0m \u001b[38;5;28;01mfor\u001b[39;00m i \u001b[38;5;129;01min\u001b[39;00m \u001b[43mdf\u001b[49m\u001b[38;5;241;43m.\u001b[39;49m\u001b[43mtext\u001b[49m:\n\u001b[1;32m      3\u001b[0m     \u001b[38;5;28;01mif\u001b[39;00m \u001b[38;5;28mstr\u001b[39m(\u001b[38;5;28mtype\u001b[39m(i)) \u001b[38;5;241m!=\u001b[39m \u001b[38;5;124m\"\u001b[39m\u001b[38;5;124m<class \u001b[39m\u001b[38;5;124m'\u001b[39m\u001b[38;5;124mfloat\u001b[39m\u001b[38;5;124m'\u001b[39m\u001b[38;5;124m>\u001b[39m\u001b[38;5;124m\"\u001b[39m:\n\u001b[1;32m      4\u001b[0m         c\u001b[38;5;241m.\u001b[39mappend(i)\n",
      "File \u001b[0;32m/opt/conda/lib/python3.8/site-packages/pandas/core/generic.py:5487\u001b[0m, in \u001b[0;36mNDFrame.__getattr__\u001b[0;34m(self, name)\u001b[0m\n\u001b[1;32m   5480\u001b[0m \u001b[38;5;28;01mif\u001b[39;00m (\n\u001b[1;32m   5481\u001b[0m     name \u001b[38;5;129;01mnot\u001b[39;00m \u001b[38;5;129;01min\u001b[39;00m \u001b[38;5;28mself\u001b[39m\u001b[38;5;241m.\u001b[39m_internal_names_set\n\u001b[1;32m   5482\u001b[0m     \u001b[38;5;129;01mand\u001b[39;00m name \u001b[38;5;129;01mnot\u001b[39;00m \u001b[38;5;129;01min\u001b[39;00m \u001b[38;5;28mself\u001b[39m\u001b[38;5;241m.\u001b[39m_metadata\n\u001b[1;32m   5483\u001b[0m     \u001b[38;5;129;01mand\u001b[39;00m name \u001b[38;5;129;01mnot\u001b[39;00m \u001b[38;5;129;01min\u001b[39;00m \u001b[38;5;28mself\u001b[39m\u001b[38;5;241m.\u001b[39m_accessors\n\u001b[1;32m   5484\u001b[0m     \u001b[38;5;129;01mand\u001b[39;00m \u001b[38;5;28mself\u001b[39m\u001b[38;5;241m.\u001b[39m_info_axis\u001b[38;5;241m.\u001b[39m_can_hold_identifiers_and_holds_name(name)\n\u001b[1;32m   5485\u001b[0m ):\n\u001b[1;32m   5486\u001b[0m     \u001b[38;5;28;01mreturn\u001b[39;00m \u001b[38;5;28mself\u001b[39m[name]\n\u001b[0;32m-> 5487\u001b[0m \u001b[38;5;28;01mreturn\u001b[39;00m \u001b[38;5;28;43mobject\u001b[39;49m\u001b[38;5;241;43m.\u001b[39;49m\u001b[38;5;21;43m__getattribute__\u001b[39;49m\u001b[43m(\u001b[49m\u001b[38;5;28;43mself\u001b[39;49m\u001b[43m,\u001b[49m\u001b[43m \u001b[49m\u001b[43mname\u001b[49m\u001b[43m)\u001b[49m\n",
      "\u001b[0;31mAttributeError\u001b[0m: 'DataFrame' object has no attribute 'text'"
     ]
    }
   ],
   "source": [
    "c = 0\n",
    "for i in df.text:\n",
    "    if str(type(i)) != \"<class 'float'>\":\n",
    "        c += 1\n",
    "    \n",
    "c"
   ]
  },
  {
   "cell_type": "code",
   "execution_count": null,
   "id": "ec557a55-0a38-4a3e-8000-0bc175ea3950",
   "metadata": {},
   "outputs": [],
   "source": []
  }
 ],
 "metadata": {
  "kernelspec": {
   "display_name": "Python 3 (ipykernel)",
   "language": "python",
   "name": "python3"
  },
  "language_info": {
   "codemirror_mode": {
    "name": "ipython",
    "version": 3
   },
   "file_extension": ".py",
   "mimetype": "text/x-python",
   "name": "python",
   "nbconvert_exporter": "python",
   "pygments_lexer": "ipython3",
   "version": "3.8.10"
  },
  "vscode": {
   "interpreter": {
    "hash": "31f2aee4e71d21fbe5cf8b01ff0e069b9275f58929596ceb00d14d90e3e16cd6"
   }
  }
 },
 "nbformat": 4,
 "nbformat_minor": 5
}
