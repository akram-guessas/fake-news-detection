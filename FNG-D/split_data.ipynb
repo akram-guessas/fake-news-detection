{
 "cells": [
  {
   "cell_type": "code",
   "execution_count": 2,
   "id": "be591a28-74cd-44e6-b091-f634f6b8c57f",
   "metadata": {},
   "outputs": [],
   "source": [
    "import pandas as pd\n",
    "import numpy as np\n",
    "from sklearn.model_selection import train_test_split"
   ]
  },
  {
   "cell_type": "code",
   "execution_count": 3,
   "id": "f8037971-e2cf-4b51-b4d0-e017a229819e",
   "metadata": {},
   "outputs": [],
   "source": [
    "df_Fake = pd.read_csv('Generated-data/generated_article.csv')\n",
    "df_Real = pd.read_csv('../Datasets/HuggingFaceDataset/cc_news/sample_data.csv')"
   ]
  },
  {
   "cell_type": "code",
   "execution_count": 10,
   "id": "e1532109-ec59-455e-8408-f92692aa8bed",
   "metadata": {},
   "outputs": [
    {
     "name": "stdout",
     "output_type": "stream",
     "text": [
      "(15678, 4)\n",
      "(15600, 5)\n"
     ]
    }
   ],
   "source": [
    "print(df_Fake.shape)\n",
    "print(df_Real.shape)"
   ]
  },
  {
   "cell_type": "code",
   "execution_count": 25,
   "id": "0ac3c38d-f7bc-4996-901c-6d0682c29bbc",
   "metadata": {},
   "outputs": [
    {
     "data": {
      "text/plain": [
       "Index(['index', 'title', 'text', 'label'], dtype='object')"
      ]
     },
     "execution_count": 25,
     "metadata": {},
     "output_type": "execute_result"
    }
   ],
   "source": [
    "df_Real.columns"
   ]
  },
  {
   "cell_type": "code",
   "execution_count": 21,
   "id": "87338b5d-d136-4551-8f0b-a4e386cfa695",
   "metadata": {},
   "outputs": [
    {
     "name": "stdout",
     "output_type": "stream",
     "text": [
      "(15678, 4)\n",
      "(15600, 4)\n"
     ]
    }
   ],
   "source": [
    "df_Real = df_Real.drop(columns=['text'])\n",
    "print(df_Fake.shape)\n",
    "print(df_Real.shape)"
   ]
  },
  {
   "cell_type": "code",
   "execution_count": 24,
   "id": "6a78b9d5-e05d-4bea-89b7-fc3858cab611",
   "metadata": {},
   "outputs": [
    {
     "data": {
      "text/html": [
       "<div>\n",
       "<style scoped>\n",
       "    .dataframe tbody tr th:only-of-type {\n",
       "        vertical-align: middle;\n",
       "    }\n",
       "\n",
       "    .dataframe tbody tr th {\n",
       "        vertical-align: top;\n",
       "    }\n",
       "\n",
       "    .dataframe thead th {\n",
       "        text-align: right;\n",
       "    }\n",
       "</style>\n",
       "<table border=\"1\" class=\"dataframe\">\n",
       "  <thead>\n",
       "    <tr style=\"text-align: right;\">\n",
       "      <th></th>\n",
       "      <th>index</th>\n",
       "      <th>title</th>\n",
       "      <th>text</th>\n",
       "      <th>label</th>\n",
       "    </tr>\n",
       "  </thead>\n",
       "  <tbody>\n",
       "    <tr>\n",
       "      <th>0</th>\n",
       "      <td>0</td>\n",
       "      <td>Croat nationalists honor general convicted of ...</td>\n",
       "      <td>BELGRADE, Serbia (AP) — Serbian nationalists o...</td>\n",
       "      <td>0</td>\n",
       "    </tr>\n",
       "    <tr>\n",
       "      <th>1</th>\n",
       "      <td>1</td>\n",
       "      <td>Welcome to Vegas: Billboards ask for tips on g...</td>\n",
       "      <td>in Las Vegas mass shootingLas Vegas gunman St...</td>\n",
       "      <td>0</td>\n",
       "    </tr>\n",
       "    <tr>\n",
       "      <th>2</th>\n",
       "      <td>2</td>\n",
       "      <td>Car Rolls Off Ferry in Australia</td>\n",
       "      <td>In the early hours of Saturday morning, a Brit...</td>\n",
       "      <td>0</td>\n",
       "    </tr>\n",
       "    <tr>\n",
       "      <th>3</th>\n",
       "      <td>3</td>\n",
       "      <td>Costly cabinet travel prompts senators to ask ...</td>\n",
       "      <td>The federal government has spent more than $1 ...</td>\n",
       "      <td>0</td>\n",
       "    </tr>\n",
       "    <tr>\n",
       "      <th>4</th>\n",
       "      <td>4</td>\n",
       "      <td>Stranded ducklings reunited with their mother</td>\n",
       "      <td>after being separated for more than a year.Th...</td>\n",
       "      <td>0</td>\n",
       "    </tr>\n",
       "    <tr>\n",
       "      <th>...</th>\n",
       "      <td>...</td>\n",
       "      <td>...</td>\n",
       "      <td>...</td>\n",
       "      <td>...</td>\n",
       "    </tr>\n",
       "    <tr>\n",
       "      <th>15673</th>\n",
       "      <td>15673</td>\n",
       "      <td>Around the world</td>\n",
       "      <td>The world #39;s biggest news agency is announc...</td>\n",
       "      <td>0</td>\n",
       "    </tr>\n",
       "    <tr>\n",
       "      <th>15674</th>\n",
       "      <td>15674</td>\n",
       "      <td>Void is filled with Clement</td>\n",
       "      <td>The void is filled with Clement Clement, the s...</td>\n",
       "      <td>0</td>\n",
       "    </tr>\n",
       "    <tr>\n",
       "      <th>15675</th>\n",
       "      <td>15675</td>\n",
       "      <td>Martinez leaves bitter</td>\n",
       "      <td>The Spanish coach, who has been a key part of ...</td>\n",
       "      <td>0</td>\n",
       "    </tr>\n",
       "    <tr>\n",
       "      <th>15676</th>\n",
       "      <td>15676</td>\n",
       "      <td>5 of arthritis patients in Singapore take Bext...</td>\n",
       "      <td>SAN FRANCISCO (Reuters) - Five of the five pat...</td>\n",
       "      <td>0</td>\n",
       "    </tr>\n",
       "    <tr>\n",
       "      <th>15677</th>\n",
       "      <td>15677</td>\n",
       "      <td>EBay gets into rentals</td>\n",
       "      <td>EBay has entered into a deal with a rental com...</td>\n",
       "      <td>0</td>\n",
       "    </tr>\n",
       "  </tbody>\n",
       "</table>\n",
       "<p>15678 rows × 4 columns</p>\n",
       "</div>"
      ],
      "text/plain": [
       "       index                                              title  \\\n",
       "0          0  Croat nationalists honor general convicted of ...   \n",
       "1          1  Welcome to Vegas: Billboards ask for tips on g...   \n",
       "2          2                   Car Rolls Off Ferry in Australia   \n",
       "3          3  Costly cabinet travel prompts senators to ask ...   \n",
       "4          4      Stranded ducklings reunited with their mother   \n",
       "...      ...                                                ...   \n",
       "15673  15673                                   Around the world   \n",
       "15674  15674                        Void is filled with Clement   \n",
       "15675  15675                             Martinez leaves bitter   \n",
       "15676  15676  5 of arthritis patients in Singapore take Bext...   \n",
       "15677  15677                             EBay gets into rentals   \n",
       "\n",
       "                                                    text  label  \n",
       "0      BELGRADE, Serbia (AP) — Serbian nationalists o...      0  \n",
       "1       in Las Vegas mass shootingLas Vegas gunman St...      0  \n",
       "2      In the early hours of Saturday morning, a Brit...      0  \n",
       "3      The federal government has spent more than $1 ...      0  \n",
       "4       after being separated for more than a year.Th...      0  \n",
       "...                                                  ...    ...  \n",
       "15673  The world #39;s biggest news agency is announc...      0  \n",
       "15674  The void is filled with Clement Clement, the s...      0  \n",
       "15675  The Spanish coach, who has been a key part of ...      0  \n",
       "15676  SAN FRANCISCO (Reuters) - Five of the five pat...      0  \n",
       "15677  EBay has entered into a deal with a rental com...      0  \n",
       "\n",
       "[15678 rows x 4 columns]"
      ]
     },
     "execution_count": 27,
     "metadata": {},
     "output_type": "execute_result"
    }
   ],
   "source": [
    "df_Real.rename(columns = {'description':'text'}, inplace = True)"
   ]
  },
  {
   "cell_type": "code",
   "execution_count": 28,
   "id": "058c8eb0-bec2-405a-a9fd-a81a71a94b4a",
   "metadata": {},
   "outputs": [],
   "source": [
    "df_Fake['label'] = 0\n",
    "df_Real['label'] = 1"
   ]
  },
  {
   "cell_type": "code",
   "execution_count": 29,
   "id": "9f31290c-41b5-4012-baf8-dd4ab2f3fe87",
   "metadata": {},
   "outputs": [
    {
     "name": "stdout",
     "output_type": "stream",
     "text": [
      "(15678, 4)\n",
      "(15600, 4)\n"
     ]
    }
   ],
   "source": [
    "print(df_Fake.shape)\n",
    "print(df_Real.shape)"
   ]
  },
  {
   "cell_type": "code",
   "execution_count": 30,
   "id": "93e119cd-095f-449b-8dc2-b970d76e3849",
   "metadata": {},
   "outputs": [
    {
     "data": {
      "text/plain": [
       "(31278, 4)"
      ]
     },
     "execution_count": 30,
     "metadata": {},
     "output_type": "execute_result"
    }
   ],
   "source": [
    "df_dataset = pd.merge(df_Fake,df_Real,how= 'outer')\n",
    "df_dataset.shape"
   ]
  },
  {
   "cell_type": "code",
   "execution_count": 33,
   "id": "fafbf89d-5d24-4822-bafc-e0db6c55cab7",
   "metadata": {},
   "outputs": [
    {
     "data": {
      "text/plain": [
       "((21894, 4), (4692, 4), (4692, 4))"
      ]
     },
     "execution_count": 33,
     "metadata": {},
     "output_type": "execute_result"
    }
   ],
   "source": [
    "df_train, df_test = train_test_split(\n",
    "  df_dataset,\n",
    "  test_size=0.3,\n",
    "  shuffle=True,\n",
    "  random_state=42\n",
    ")\n",
    "df_val, df_test = train_test_split(\n",
    "  df_test,\n",
    "  test_size=0.5,\n",
    "  shuffle=True,\n",
    "  random_state=42\n",
    ")\n",
    "df_train.shape , df_val.shape, df_test.shape"
   ]
  },
  {
   "cell_type": "code",
   "execution_count": 34,
   "id": "45ff26c3-6692-4519-a107-b39ea00c6dfb",
   "metadata": {},
   "outputs": [],
   "source": [
    "df_train.to_csv('Dataset/train.csv', index=False)"
   ]
  },
  {
   "cell_type": "code",
   "execution_count": 35,
   "id": "3c22bb8e-b97f-4445-90bf-82d882f9a008",
   "metadata": {},
   "outputs": [],
   "source": [
    "df_val.to_csv('Dataset/val.csv', index=False)"
   ]
  },
  {
   "cell_type": "code",
   "execution_count": 36,
   "id": "adb85444-4e70-4a15-b43a-4298e213fdb6",
   "metadata": {},
   "outputs": [],
   "source": [
    "df_test.to_csv('Dataset/test.csv', index=False)"
   ]
  }
 ],
 "metadata": {
  "kernelspec": {
   "display_name": "Python 3 (ipykernel)",
   "language": "python",
   "name": "python3"
  },
  "language_info": {
   "codemirror_mode": {
    "name": "ipython",
    "version": 3
   },
   "file_extension": ".py",
   "mimetype": "text/x-python",
   "name": "python",
   "nbconvert_exporter": "python",
   "pygments_lexer": "ipython3",
   "version": "3.8.12"
  },
  "widgets": {
   "application/vnd.jupyter.widget-state+json": {
    "state": {},
    "version_major": 2,
    "version_minor": 0
   }
  }
 },
 "nbformat": 4,
 "nbformat_minor": 5
}
