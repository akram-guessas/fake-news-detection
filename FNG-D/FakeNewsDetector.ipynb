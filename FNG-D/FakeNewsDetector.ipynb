{
 "cells": [
  {
   "cell_type": "markdown",
   "metadata": {
    "id": "Asm45_mIzgbO"
   },
   "source": [
    "# **Install Transformers Library**"
   ]
  },
  {
   "cell_type": "code",
   "execution_count": 1,
   "metadata": {
    "colab": {
     "base_uri": "https://localhost:8080/"
    },
    "id": "w2hjXehEP0s6",
    "outputId": "d8ff77b3-7c7f-46c5-c22c-a2835c98c736"
   },
   "outputs": [
    {
     "name": "stdout",
     "output_type": "stream",
     "text": [
      "Looking in indexes: https://pypi.org/simple, https://pypi.ngc.nvidia.com\n",
      "Requirement already satisfied: transformers in /opt/conda/lib/python3.8/site-packages (4.20.0)\n",
      "Requirement already satisfied: pyyaml>=5.1 in /opt/conda/lib/python3.8/site-packages (from transformers) (5.4.1)\n",
      "Requirement already satisfied: requests in /opt/conda/lib/python3.8/site-packages (from transformers) (2.26.0)\n",
      "Requirement already satisfied: filelock in /opt/conda/lib/python3.8/site-packages (from transformers) (3.4.2)\n",
      "Requirement already satisfied: tqdm>=4.27 in /opt/conda/lib/python3.8/site-packages (from transformers) (4.62.3)\n",
      "Requirement already satisfied: packaging>=20.0 in /opt/conda/lib/python3.8/site-packages (from transformers) (21.3)\n",
      "Requirement already satisfied: tokenizers!=0.11.3,<0.13,>=0.11.1 in /opt/conda/lib/python3.8/site-packages (from transformers) (0.12.1)\n",
      "Requirement already satisfied: regex!=2019.12.17 in /opt/conda/lib/python3.8/site-packages (from transformers) (2022.1.18)\n",
      "Requirement already satisfied: numpy>=1.17 in /opt/conda/lib/python3.8/site-packages (from transformers) (1.22.2)\n",
      "Requirement already satisfied: huggingface-hub<1.0,>=0.1.0 in /opt/conda/lib/python3.8/site-packages (from transformers) (0.7.0)\n",
      "Requirement already satisfied: typing-extensions>=3.7.4.3 in /opt/conda/lib/python3.8/site-packages (from huggingface-hub<1.0,>=0.1.0->transformers) (4.0.1)\n",
      "Requirement already satisfied: pyparsing!=3.0.5,>=2.0.2 in /opt/conda/lib/python3.8/site-packages (from packaging>=20.0->transformers) (3.0.7)\n",
      "Requirement already satisfied: charset-normalizer~=2.0.0 in /opt/conda/lib/python3.8/site-packages (from requests->transformers) (2.0.9)\n",
      "Requirement already satisfied: certifi>=2017.4.17 in /opt/conda/lib/python3.8/site-packages (from requests->transformers) (2021.10.8)\n",
      "Requirement already satisfied: idna<4,>=2.5 in /opt/conda/lib/python3.8/site-packages (from requests->transformers) (3.1)\n",
      "Requirement already satisfied: urllib3<1.27,>=1.21.1 in /opt/conda/lib/python3.8/site-packages (from requests->transformers) (1.26.7)\n",
      "\u001b[33mWARNING: Running pip as the 'root' user can result in broken permissions and conflicting behaviour with the system package manager. It is recommended to use a virtual environment instead: https://pip.pypa.io/warnings/venv\u001b[0m\n",
      "Looking in indexes: https://pypi.org/simple, https://pypi.ngc.nvidia.com\n",
      "Requirement already satisfied: seaborn in /opt/conda/lib/python3.8/site-packages (0.11.2)\n",
      "Requirement already satisfied: numpy>=1.15 in /opt/conda/lib/python3.8/site-packages (from seaborn) (1.22.2)\n",
      "Requirement already satisfied: scipy>=1.0 in /opt/conda/lib/python3.8/site-packages (from seaborn) (1.6.3)\n",
      "Requirement already satisfied: matplotlib>=2.2 in /opt/conda/lib/python3.8/site-packages (from seaborn) (3.5.1)\n",
      "Requirement already satisfied: pandas>=0.23 in /opt/conda/lib/python3.8/site-packages (from seaborn) (1.3.5)\n",
      "Requirement already satisfied: fonttools>=4.22.0 in /opt/conda/lib/python3.8/site-packages (from matplotlib>=2.2->seaborn) (4.29.1)\n",
      "Requirement already satisfied: pillow>=6.2.0 in /opt/conda/lib/python3.8/site-packages (from matplotlib>=2.2->seaborn) (9.0.0)\n",
      "Requirement already satisfied: cycler>=0.10 in /opt/conda/lib/python3.8/site-packages (from matplotlib>=2.2->seaborn) (0.11.0)\n",
      "Requirement already satisfied: kiwisolver>=1.0.1 in /opt/conda/lib/python3.8/site-packages (from matplotlib>=2.2->seaborn) (1.3.2)\n",
      "Requirement already satisfied: python-dateutil>=2.7 in /opt/conda/lib/python3.8/site-packages (from matplotlib>=2.2->seaborn) (2.8.2)\n",
      "Requirement already satisfied: pyparsing>=2.2.1 in /opt/conda/lib/python3.8/site-packages (from matplotlib>=2.2->seaborn) (3.0.7)\n",
      "Requirement already satisfied: packaging>=20.0 in /opt/conda/lib/python3.8/site-packages (from matplotlib>=2.2->seaborn) (21.3)\n",
      "Requirement already satisfied: pytz>=2017.3 in /opt/conda/lib/python3.8/site-packages (from pandas>=0.23->seaborn) (2021.3)\n",
      "Requirement already satisfied: six>=1.5 in /opt/conda/lib/python3.8/site-packages (from python-dateutil>=2.7->matplotlib>=2.2->seaborn) (1.16.0)\n",
      "\u001b[33mWARNING: Running pip as the 'root' user can result in broken permissions and conflicting behaviour with the system package manager. It is recommended to use a virtual environment instead: https://pip.pypa.io/warnings/venv\u001b[0m\n"
     ]
    }
   ],
   "source": [
    "!pip install transformers\n",
    "!pip install seaborn"
   ]
  },
  {
   "cell_type": "markdown",
   "metadata": {
    "id": "7Zel3ZgN0jvQ",
    "tags": []
   },
   "source": [
    "# Importing the libraries needed**"
   ]
  },
  {
   "cell_type": "code",
   "execution_count": 2,
   "metadata": {
    "id": "f-wsjMT9zrul"
   },
   "outputs": [],
   "source": [
    "import pandas as pd\n",
    "import numpy as np\n",
    "from sklearn.model_selection import train_test_split\n",
    "import seaborn as sns\n",
    "import transformers\n",
    "import json\n",
    "import torch \n",
    "from torch import nn\n",
    "from torch.utils.data import Dataset, DataLoader\n",
    "\n",
    "from transformers import (\n",
    "    BertForSequenceClassification, \n",
    "    AlbertForSequenceClassification, \n",
    "    XLNetForSequenceClassification, \n",
    "    RobertaForSequenceClassification, \n",
    "    AutoTokenizer\n",
    ")\n",
    "\n",
    "from transformers import RobertaModel, AdamW\n",
    "from transformers import get_linear_schedule_with_warmup\n",
    "import time\n",
    "from tqdm import tqdm\n",
    "from sklearn.metrics import (\n",
    "    roc_auc_score, \n",
    "    accuracy_score, \n",
    "    precision_score, \n",
    "    recall_score, \n",
    "    f1_score, \n",
    "    classification_report,\n",
    "    confusion_matrix\n",
    ")  \n",
    "from sys import platform\n",
    "import os\n",
    "import logging\n",
    "logging.basicConfig(level=logging.ERROR)"
   ]
  },
  {
   "cell_type": "markdown",
   "metadata": {},
   "source": [
    "# Hyperparameter tuning **"
   ]
  },
  {
   "cell_type": "code",
   "execution_count": 3,
   "metadata": {},
   "outputs": [],
   "source": [
    "# max_seq_len = 512\n",
    "# lr=1.25e-6\n",
    "# Batch size\n",
    "TRAIN_BATCH_SIZE = 16\n",
    "EVAL_BATCH_SIZE = 16\n",
    "PREDICT_BATCH_SIZE = 16\n",
    "# Learning Rate\n",
    "LEARNING_RATE = 1.25e-6 # 1e-6, 2e-5, 1e-4, 1e-3\n",
    "# Epochs\n",
    "NUM_TRAIN_EPOCHS = 3\n",
    "MAX_SEQ_LENGTH = 128\n",
    "# MAX_SEQ_LENGTH = 128"
   ]
  },
  {
   "cell_type": "markdown",
   "metadata": {},
   "source": [
    "# Encoding sentences **"
   ]
  },
  {
   "cell_type": "code",
   "execution_count": 4,
   "metadata": {
    "id": "Lmeq3SLCVd_A"
   },
   "outputs": [],
   "source": [
    "class NewsDataset(Dataset):\n",
    "    \"\"\"\n",
    "    Encoding sentences\n",
    "    \"\"\"\n",
    "    def __init__(self, bert_tokenizer, df, max_seq_len = MAX_SEQ_LENGTH):\n",
    "        super(NewsDataset, self).__init__()\n",
    "        self.bert_tokenizer = bert_tokenizer\n",
    "        self.max_seq_len = max_seq_len\n",
    "        self.input_ids, self.attention_mask, self.token_type_ids, self.labels = self.get_input(df)\n",
    "        \n",
    "    def __len__(self):\n",
    "        return len(self.labels)\n",
    "\n",
    "    def __getitem__(self, idx):\n",
    "        return self.input_ids[idx], self.attention_mask[idx], self.token_type_ids[idx], self.labels[idx]\n",
    "        \n",
    "    # Convert dataframe to tensor\n",
    "    def get_input(self, df):\n",
    "        text = df['text'].values\n",
    "        labels = df['label'].values\n",
    "        \n",
    "        # tokenizer\n",
    "        tokens_seq = list(map(self.bert_tokenizer.tokenize, text)) # list of shape [sentence_len, token_len]\n",
    "        \n",
    "        # Get fixed-length sequence and its mask\n",
    "        result = list(map(self.trunate_and_pad, tokens_seq))\n",
    "        \n",
    "        input_ids = [i[0] for i in result]\n",
    "        attention_mask = [i[1] for i in result]\n",
    "        token_type_ids = [i[2] for i in result]\n",
    "        \n",
    "        return (\n",
    "               torch.Tensor(input_ids).type(torch.long), \n",
    "               torch.Tensor(attention_mask).type(torch.long),\n",
    "               torch.Tensor(token_type_ids).type(torch.long), \n",
    "               torch.Tensor(labels).type(torch.long)\n",
    "               )\n",
    "    \n",
    "    def trunate_and_pad(self, tokens_seq):\n",
    "        # Concat '[CLS]' at the beginning\n",
    "        tokens_seq = ['[CLS]'] + tokens_seq     \n",
    "        # Truncate sequences of which the lengths exceed the max_seq_len\n",
    "        if len(tokens_seq) > self.max_seq_len:\n",
    "            tokens_seq = tokens_seq[0 : self.max_seq_len]           \n",
    "        # Generate padding\n",
    "        padding = [0] * (self.max_seq_len - len(tokens_seq))       \n",
    "        # Convert tokens_seq to token_ids\n",
    "        input_ids = self.bert_tokenizer.convert_tokens_to_ids(tokens_seq)\n",
    "        input_ids += padding   \n",
    "        # Create attention_mask\n",
    "        attention_mask = [1] * len(tokens_seq) + padding     \n",
    "        # Create token_type_ids\n",
    "        token_type_ids = [0] * (self.max_seq_len)\n",
    "        \n",
    "        assert len(input_ids) == self.max_seq_len\n",
    "        assert len(attention_mask) == self.max_seq_len\n",
    "        assert len(token_type_ids) == self.max_seq_len\n",
    "        \n",
    "        return input_ids, attention_mask, token_type_ids"
   ]
  },
  {
   "cell_type": "code",
   "execution_count": 5,
   "metadata": {},
   "outputs": [],
   "source": [
    "# bert_model = 'roberta-base'\n",
    "bert_model = 'roberta-base'"
   ]
  },
  {
   "cell_type": "markdown",
   "metadata": {},
   "source": [
    "# Download and save modle "
   ]
  },
  {
   "cell_type": "code",
   "execution_count": 6,
   "metadata": {},
   "outputs": [
    {
     "data": {
      "text/plain": [
       "\"\\nmodel = XLNetForSequenceClassification.from_pretrained('xlnet-large-cased', num_labels = 2)\\ntokenizer = AutoTokenizer.from_pretrained('xlnet-large-cased', do_lower_case=True)\\ntorch.save(model, 'Model/output/Xlnet/Xlnet_base/model-xlnet-large-cased.pth.tar')\\ntorch.save(tokenizer, 'Model/output/Xlnet/Xlnet_base/tokenizer-xlnet-large-cased.pth.tar')\\n\""
      ]
     },
     "execution_count": 6,
     "metadata": {},
     "output_type": "execute_result"
    }
   ],
   "source": [
    "\"\"\"\n",
    "model = XLNetForSequenceClassification.from_pretrained('xlnet-large-cased', num_labels = 2)\n",
    "tokenizer = AutoTokenizer.from_pretrained('xlnet-large-cased', do_lower_case=True)\n",
    "torch.save(model, 'Model/output/Xlnet/Xlnet_base/model-xlnet-large-cased.pth.tar')\n",
    "torch.save(tokenizer, 'Model/output/Xlnet/Xlnet_base/tokenizer-xlnet-large-cased.pth.tar')\n",
    "\"\"\""
   ]
  },
  {
   "cell_type": "markdown",
   "metadata": {},
   "source": [
    "# BERT Model **"
   ]
  },
  {
   "cell_type": "code",
   "execution_count": 22,
   "metadata": {},
   "outputs": [],
   "source": [
    "class BertModel(nn.Module):\n",
    "    def __init__(self, requires_grad = True):\n",
    "        super(BertModel, self).__init__()\n",
    "        # self.bert = BertForSequenceClassification.from_pretrained('textattack/bert-base-uncased-SST-2',num_labels = 2)\n",
    "        # self.tokenizer = AutoTokenizer.from_pretrained('textattack/bert-base-uncased-SST-2', do_lower_case=True)\n",
    "        self.bert = torch.load('Model/output/BERT/BERT_base/model-berta-base.pth.tar')\n",
    "        self.tokenizer = torch.load('Model/output/BERT/BERT_base/tokenizer-berta-base.pth.tar')\n",
    "        self.requires_grad = requires_grad\n",
    "        self.device = torch.device(\"cuda\")\n",
    "        for param in self.bert.parameters():\n",
    "            param.requires_grad = requires_grad  # Each parameter requires gradient\n",
    "\n",
    "    def forward(self, batch_seqs, batch_seq_masks, batch_seq_segments, labels):\n",
    "        loss, logits = self.bert(input_ids = batch_seqs, attention_mask = batch_seq_masks, \n",
    "                              token_type_ids=batch_seq_segments, labels = labels)[:2]\n",
    "        probabilities = nn.functional.softmax(logits, dim=-1)\n",
    "        return loss, logits, probabilities"
   ]
  },
  {
   "cell_type": "markdown",
   "metadata": {},
   "source": [
    "# Albert Model **"
   ]
  },
  {
   "cell_type": "code",
   "execution_count": 23,
   "metadata": {},
   "outputs": [],
   "source": [
    "class AlbertModel(nn.Module):\n",
    "    def __init__(self, requires_grad = True):\n",
    "        super(AlbertModel, self).__init__()\n",
    "        # self.albert = AlbertForSequenceClassification.from_pretrained('albert-xxlarge-v2', num_labels = 2)\n",
    "        # self.tokenizer = AutoTokenizer.from_pretrained('albert-xxlarge-v2', do_lower_case=True)\n",
    "        self.albert = torch.load('Model/output/Albert/Albert_base/model-albert-xxlarge-v2.pth.tar')\n",
    "        self.tokenizer = torch.load('Model/output/Albert/Albert_base/tokenizer-albert-xxlarge-v2.pth.tar')\n",
    "        self.requires_grad = requires_grad\n",
    "        self.device = torch.device(\"cuda\")\n",
    "        for param in self.albert.parameters():\n",
    "            param.requires_grad = True  # Each parameter requires gradient\n",
    "\n",
    "    def forward(self, batch_seqs, batch_seq_masks, batch_seq_segments, labels):\n",
    "        loss, logits = self.albert(input_ids = batch_seqs, attention_mask = batch_seq_masks, \n",
    "                              token_type_ids=batch_seq_segments, labels = labels)[:2]\n",
    "        probabilities = nn.functional.softmax(logits, dim=-1)\n",
    "        return loss, logits, probabilities"
   ]
  },
  {
   "cell_type": "markdown",
   "metadata": {},
   "source": [
    "# RoBERTa Model **"
   ]
  },
  {
   "cell_type": "code",
   "execution_count": 7,
   "metadata": {
    "id": "peu-R7XcKjME"
   },
   "outputs": [],
   "source": [
    "class RobertModel(nn.Module):\n",
    "    def __init__(self, requires_grad = True):\n",
    "        super(RobertModel, self).__init__()\n",
    "        # config = RobertaForSequenceClassification.from_pretrained( 'roberta-base', output_hidden_states=True, num_labels = 2)    \n",
    "        # self.bert = RobertaForSequenceClassification.from_pretrained(bert_model, output_hidden_states=True, num_labels = 2)\n",
    "        # self.tokenizer = AutoTokenizer.from_pretrained(bert_model, do_lower_case=True)\n",
    "        self.bert = torch.load('Model/output/Roberta/Roberta-base/model-roberta-base.pth')\n",
    "        self.tokenizer = torch.load('Model/output/Roberta/Roberta-base/tokenizer-roberta-base.pth')\n",
    "        self.requires_grad = requires_grad\n",
    "        self.device = torch.device(\"cuda\")\n",
    "        for param in self.bert.parameters():\n",
    "            param.requires_grad = requires_grad  # Each parameter requires gradient\n",
    "\n",
    "    def forward(self, batch_seqs, batch_seq_masks, batch_seq_segments, labels = None):\n",
    "\n",
    "        loss, logits = self.bert(input_ids = batch_seqs, attention_mask = batch_seq_masks, \n",
    "                                  token_type_ids=batch_seq_segments, labels = labels)[:2]\n",
    "        # print(logits)\n",
    "        probabilities = nn.functional.softmax(logits, dim=-1)\n",
    "        # print(probabilities)\n",
    "        return loss, logits, probabilities"
   ]
  },
  {
   "cell_type": "markdown",
   "metadata": {},
   "source": [
    "# Xlnet Model **"
   ]
  },
  {
   "cell_type": "code",
   "execution_count": 25,
   "metadata": {},
   "outputs": [],
   "source": [
    "class XlnetModel(nn.Module):\n",
    "    def __init__(self, requires_grad = True):\n",
    "        super(XlnetModel, self).__init__()\n",
    "        # self.xlnet = XLNetForSequenceClassification.from_pretrained('xlnet-large-cased', num_labels = 2)\n",
    "        # self.tokenizer = AutoTokenizer.from_pretrained('xlnet-large-cased', do_lower_case=True)\n",
    "        self.xlnet = torch.load('Model/output/Xlnet/Xlnet_base/model-xlnet-large-cased.pth.tar')\n",
    "        self.tokenizer = torch.load('Model/output/Xlnet/Xlnet_base/tokenizer-xlnet-large-cased.pth.tar')\n",
    "        self.requires_grad = requires_grad\n",
    "        self.device = torch.device(\"cuda\")\n",
    "        for param in self.xlnet.parameters():\n",
    "            param.requires_grad = requires_grad  # Each parameter requires gradient\n",
    "\n",
    "    def forward(self, batch_seqs, batch_seq_masks, batch_seq_segments, labels):\n",
    "        loss, logits = self.xlnet(input_ids = batch_seqs, attention_mask = batch_seq_masks, \n",
    "                              token_type_ids=batch_seq_segments, labels = labels)[:2]\n",
    "        probabilities = nn.functional.softmax(logits, dim=-1)\n",
    "        return loss, logits, probabilities"
   ]
  },
  {
   "cell_type": "code",
   "execution_count": 6,
   "metadata": {},
   "outputs": [],
   "source": [
    "bertmodel = BertModel(requires_grad = True)"
   ]
  },
  {
   "cell_type": "code",
   "execution_count": 8,
   "metadata": {},
   "outputs": [],
   "source": [
    "bertmodel = AlbertModel(requires_grad = True)"
   ]
  },
  {
   "cell_type": "code",
   "execution_count": 8,
   "metadata": {},
   "outputs": [],
   "source": [
    "bertmodel = RobertModel(requires_grad = True)"
   ]
  },
  {
   "cell_type": "code",
   "execution_count": 6,
   "metadata": {},
   "outputs": [],
   "source": [
    "bertmodel = XlnetModel(requires_grad = True)"
   ]
  },
  {
   "cell_type": "markdown",
   "metadata": {},
   "source": [
    "# Correct Predictions Function**"
   ]
  },
  {
   "cell_type": "code",
   "execution_count": 13,
   "metadata": {
    "id": "tnl2PiJzR7Dn"
   },
   "outputs": [],
   "source": [
    "def correct_predictions(output_probabilities, targets):\n",
    "    _, out_classes = output_probabilities.max(dim=1)\n",
    "    correct = (out_classes == targets).sum()\n",
    "    return correct.item()"
   ]
  },
  {
   "cell_type": "markdown",
   "metadata": {},
   "source": [
    "# Training Function**"
   ]
  },
  {
   "cell_type": "code",
   "execution_count": 14,
   "metadata": {
    "id": "NPVQZMFSSDmY"
   },
   "outputs": [],
   "source": [
    "def train(model, dataloader, optimizer, epoch_number, max_gradient_norm, scheduler):\n",
    "    # Switch the model to train mode.\n",
    "    model.train()\n",
    "    device = model.device\n",
    "    epoch_start = time.time()\n",
    "    batch_time_avg = 0.0\n",
    "    running_loss = 0.0\n",
    "    correct_preds = 0\n",
    "    accuracy = 0.0\n",
    "    loss_app = 0.0\n",
    "    tqdm_batch_iterator = tqdm(dataloader)\n",
    "    for batch_index, (batch_seqs, batch_seq_masks, batch_seq_segments, batch_labels) in enumerate(tqdm_batch_iterator):\n",
    "        batch_start = time.time()\n",
    "        # Move input and output data to the GPU if it is used.\n",
    "        seqs, masks, segments, labels = batch_seqs.to(device), batch_seq_masks.to(device), batch_seq_segments.to(device), batch_labels.to(device)\n",
    "        optimizer.zero_grad()\n",
    "        loss, logits, probabilities = model(seqs, masks, segments, labels)\n",
    "        loss.backward()\n",
    "        nn.utils.clip_grad_norm_(model.parameters(), max_gradient_norm)\n",
    "        optimizer.step()\n",
    "        scheduler.step()\n",
    "        batch_time_avg += time.time() - batch_start\n",
    "        running_loss += loss.item()\n",
    "        correct_preds += correct_predictions(probabilities, labels)\n",
    "        description = \"Avg. batch proc. time: {:.4f}s, loss: {:.4f}\"\\\n",
    "                      .format(batch_time_avg/(batch_index+1), running_loss/(batch_index+1))\n",
    "        tqdm_batch_iterator.set_description(description)\n",
    "    epoch_time = time.time() - epoch_start\n",
    "    epoch_loss = running_loss / len(dataloader)\n",
    "    epoch_accuracy = correct_preds / len(dataloader.dataset)\n",
    "    return epoch_time, epoch_loss, epoch_accuracy\n"
   ]
  },
  {
   "cell_type": "markdown",
   "metadata": {},
   "source": [
    "# Validation Function**"
   ]
  },
  {
   "cell_type": "code",
   "execution_count": 15,
   "metadata": {},
   "outputs": [],
   "source": [
    "def validate(model, dataloader):\n",
    "    # Switch to evaluate mode.\n",
    "    model.eval()\n",
    "    device = model.device\n",
    "    epoch_start = time.time()\n",
    "    running_loss = 0.0\n",
    "    running_accuracy = 0.0\n",
    "    all_prob = []\n",
    "    all_labels = []\n",
    "    # Deactivate autograd for evaluation.\n",
    "    with torch.no_grad():\n",
    "        for (batch_seqs, batch_seq_masks, batch_seq_segments, batch_labels) in dataloader:\n",
    "            # Move input and output data to the GPU if one is used.\n",
    "            seqs = batch_seqs.to(device)\n",
    "            masks = batch_seq_masks.to(device)\n",
    "            segments = batch_seq_segments.to(device)\n",
    "            labels = batch_labels.to(device)\n",
    "            loss, logits, probabilities = model(seqs, masks, segments, labels)\n",
    "            running_loss += loss.item()\n",
    "            running_accuracy += correct_predictions(probabilities, labels)\n",
    "            all_prob.extend(probabilities[:,1].cpu().numpy())\n",
    "            all_labels.extend(batch_labels)\n",
    "    epoch_time = time.time() - epoch_start\n",
    "    epoch_loss = running_loss / len(dataloader)\n",
    "    epoch_accuracy = running_accuracy / (len(dataloader.dataset))\n",
    "    return epoch_time, epoch_loss, epoch_accuracy, roc_auc_score(all_labels, all_prob), all_prob\n"
   ]
  },
  {
   "cell_type": "markdown",
   "metadata": {},
   "source": [
    "# Test Function**"
   ]
  },
  {
   "cell_type": "code",
   "execution_count": 16,
   "metadata": {
    "id": "feCPvyQ-RoSl"
   },
   "outputs": [],
   "source": [
    "def test(model, dataloader):\n",
    "    # Switch the model to eval mode.\n",
    "    model.eval()\n",
    "    device = model.device\n",
    "    time_start = time.time()\n",
    "    batch_time = 0.0\n",
    "    accuracy = 0.0\n",
    "    all_prob = []\n",
    "    all_labels = []\n",
    "    # Deactivate autograd for evaluation.\n",
    "    with torch.no_grad():\n",
    "        for (batch_seqs, batch_seq_masks, batch_seq_segments, batch_labels) in dataloader:\n",
    "            batch_start = time.time()\n",
    "            # Move input and output data to the GPU if one is used.\n",
    "            seqs, masks, segments, labels = batch_seqs.to(device), batch_seq_masks.to(device), batch_seq_segments.to(device), batch_labels.to(device)\n",
    "            _, _, probabilities = model(seqs, masks, segments, labels)\n",
    "            accuracy += correct_predictions(probabilities, labels)\n",
    "            batch_time += time.time() - batch_start\n",
    "            all_prob.extend(probabilities[:,1].cpu().numpy())\n",
    "            all_labels.extend(batch_labels)\n",
    "    batch_time /= len(dataloader)\n",
    "    total_time = time.time() - time_start\n",
    "    accuracy /= (len(dataloader.dataset))\n",
    "\n",
    "    return batch_time, total_time, accuracy, all_prob, all_labels"
   ]
  },
  {
   "cell_type": "code",
   "execution_count": 17,
   "metadata": {},
   "outputs": [],
   "source": [
    "# Training ,Validation and testing model**"
   ]
  },
  {
   "cell_type": "code",
   "execution_count": 18,
   "metadata": {},
   "outputs": [],
   "source": [
    "def model_train_validate_test(train_df, dev_df, test_df, target_dir, \n",
    "         max_seq_len=MAX_SEQ_LENGTH,\n",
    "         epochs=NUM_TRAIN_EPOCHS,\n",
    "         batch_size=TRAIN_BATCH_SIZE,\n",
    "         lr=LEARNING_RATE,\n",
    "         patience=1,\n",
    "         max_grad_norm=10.0,\n",
    "         if_save_model=True,\n",
    "         checkpoint=None):\n",
    "\n",
    "    tokenizer = bertmodel.tokenizer\n",
    "    \n",
    "    print(20 * \"=\", \" Preparing for training \", 20 * \"=\")\n",
    "    # Path to save the model, create a folder if not exist.\n",
    "    if not os.path.exists(target_dir):\n",
    "        os.makedirs(target_dir)\n",
    "        \n",
    "    # -------------------- Data loading --------------------------------------#\n",
    "    print(\"\\t* Loading training data...\")\n",
    "    train_data = NewsDataset(tokenizer,train_df, max_seq_len=max_seq_len)\n",
    "    train_loader = DataLoader(train_data, shuffle=True, batch_size=batch_size)\n",
    "\n",
    "    print(\"\\t* Loading validation data...\")\n",
    "    dev_data = NewsDataset(tokenizer, dev_df, max_seq_len=max_seq_len)\n",
    "    dev_loader = DataLoader(dev_data, shuffle=True, batch_size=batch_size)\n",
    "    \n",
    "    print(\"\\t* Loading test data...\")\n",
    "    test_data = NewsDataset(tokenizer, test_df, max_seq_len=max_seq_len) \n",
    "    test_loader = DataLoader(test_data, shuffle=False, batch_size=batch_size)\n",
    "\n",
    "    \n",
    "\n",
    "    \n",
    "   \n",
    "    # -------------------- Model definition ------------------- --------------#\n",
    "    \n",
    "    print(\"\\t* Building model...\")\n",
    "    device = torch.device(\"cuda\")\n",
    "    model = bertmodel.to(device)\n",
    "    \n",
    "    # -------------------- Preparation for training  -------------------------#\n",
    "    \n",
    "    param_optimizer = list(model.named_parameters())\n",
    "    no_decay = ['bias', 'LayerNorm.bias', 'LayerNorm.weight']\n",
    "    optimizer_grouped_parameters = [\n",
    "            {\n",
    "                    'params':[p for n, p in param_optimizer if not any(nd in n for nd in no_decay)],\n",
    "                    'weight_decay':0.01\n",
    "            },\n",
    "            {\n",
    "                    'params':[p for n, p in param_optimizer if any(nd in n for nd in no_decay)],\n",
    "                    'weight_decay':0.0\n",
    "            }\n",
    "    ]\n",
    "    optimizer = AdamW(optimizer_grouped_parameters, lr=lr)\n",
    "    total_steps = len(train_data) * epochs\n",
    "\n",
    "    # Create the learning rate scheduler.\n",
    "    scheduler = get_linear_schedule_with_warmup(optimizer, \n",
    "                                                num_warmup_steps = 0, # Default value in run_glue.py\n",
    "                                                num_training_steps = total_steps)\n",
    "    \n",
    "    best_score = 0.0\n",
    "    start_epoch = 1\n",
    "    # Data for loss curves plot\n",
    "    epochs_count = []\n",
    "    train_losses = []\n",
    "    train_accuracies = []\n",
    "    valid_losses = []\n",
    "    valid_accuracies = []\n",
    "    valid_aucs = []\n",
    "    epoch_times = []\n",
    "    # Continuing training from a checkpoint if one was given as argument\n",
    "    if checkpoint:\n",
    "        checkpoint = torch.load(checkpoint)\n",
    "        start_epoch = checkpoint[\"epoch\"] + 1\n",
    "        best_score = checkpoint[\"best_score\"]\n",
    "        print(\"\\t* Training will continue on existing model from epoch {}...\".format(start_epoch))\n",
    "        model.load_state_dict(checkpoint[\"model\"])\n",
    "        optimizer.load_state_dict(checkpoint[\"optimizer\"])\n",
    "        epochs_count = checkpoint[\"epochs_count\"]\n",
    "        train_losses = checkpoint[\"train_losses\"]\n",
    "        train_accuracy = checkpoint[\"train_accuracy\"]\n",
    "        valid_losses = checkpoint[\"valid_losses\"]\n",
    "        valid_accuracy = checkpoint[\"valid_accuracy\"]\n",
    "        valid_auc = checkpoint[\"valid_auc\"]\n",
    "        epoch_times = checkpoint[\"epoch_times\"]\n",
    "     # Compute loss and accuracy before starting (or resuming) training.\n",
    "    _, valid_loss, valid_accuracy, auc, _ = validate(model, dev_loader)\n",
    "    train_losses.append(valid_loss)\n",
    "    train_accuracies.append(valid_accuracy) \n",
    "    #######################################\n",
    "    valid_losses.append(valid_loss)\n",
    "    valid_accuracies.append(valid_accuracy)\n",
    "    valid_aucs.append(auc)\n",
    "    print(\"\\n* Validation loss before training: {:.4f}, accuracy: {:.4f}%, auc: {:.4f}\".format(valid_loss, (valid_accuracy*100), auc))\n",
    "    \n",
    "    # -------------------- Training epochs -----------------------------------#\n",
    "    \n",
    "    print(\"\\n\", 20 * \"=\", \"Training bert model on device: {}\".format(device), 20 * \"=\")\n",
    "    patience_counter = 0\n",
    "    for epoch in range(start_epoch, epochs + 1):\n",
    "        epochs_count.append(epoch)\n",
    "\n",
    "        print(\"* Training epoch {}:\".format(epoch))\n",
    "        epoch_time, epoch_loss, epoch_accuracy = train(model, train_loader, optimizer, epoch, max_grad_norm, scheduler)\n",
    "        train_losses.append(epoch_loss)\n",
    "        train_accuracies.append(epoch_accuracy)  \n",
    "        epoch_times.append(epoch_time)\n",
    "        print(\"-> Training time: {:.4f}s, loss = {:.4f}, accuracy: {:.4f}%\".format(epoch_time, epoch_loss, (epoch_accuracy*100)))\n",
    "        \n",
    "        print(\"* Validation for epoch {}:\".format(epoch))\n",
    "        epoch_time, epoch_loss, epoch_accuracy , epoch_auc, _ = validate(model, dev_loader)\n",
    "        valid_losses.append(epoch_loss)\n",
    "        valid_accuracies.append(epoch_accuracy)\n",
    "        valid_aucs.append(epoch_auc)\n",
    "        print(\"-> Valid. time: {:.4f}s, loss: {:.4f}, accuracy: {:.4f}%, auc: {:.4f}\\n\"\n",
    "              .format(epoch_time, epoch_loss, (epoch_accuracy*100), epoch_auc))\n",
    "    \n",
    "        # Early stopping on validation accuracy.\n",
    "        if epoch_accuracy < best_score:\n",
    "            patience_counter += 1\n",
    "        else:\n",
    "            best_score = epoch_accuracy\n",
    "            patience_counter = 0\n",
    "            if (if_save_model):\n",
    "                # torch.save(model.state_dict(), os.path.join(target_dir, \"model_none.pth\"))\n",
    "                torch.save({\"epoch\": epoch, \n",
    "                       \"model\": model.state_dict(),\n",
    "                       \"optimizer\": optimizer.state_dict(),\n",
    "                       \"tokenizer\":tokenizer,\n",
    "                       \"best_score\": best_score,\n",
    "                       \"epochs_count\": epochs_count,\n",
    "                       \"train_losses\": train_losses,\n",
    "                       \"train_accuracy\": train_accuracies,\n",
    "                       \"valid_losses\": valid_losses,\n",
    "                       \"valid_accuracy\": valid_accuracies,\n",
    "                       \"valid_auc\": valid_aucs,\n",
    "                       \"epoch_times\": epoch_times,\n",
    "                       },\n",
    "                       os.path.join(target_dir, \"model_albert.pth.tar\"))\n",
    "    \n",
    "                print(\"save model succesfully!\\n\")\n",
    "            \n",
    "            # run model on test set and save the prediction result to csv\n",
    "            print(\"* Test for epoch {}:\".format(epoch))\n",
    "            _, _, test_accuracy, _, all_prob = validate(model, test_loader)\n",
    "            print(\"Test accuracy: {:.4f}%\\n\".format(test_accuracy))\n",
    "            test_prediction = pd.DataFrame({'prob_1':all_prob})\n",
    "            test_prediction['prob_0'] = 1-test_prediction['prob_1']\n",
    "            test_prediction['prediction'] = test_prediction.apply(lambda x: 0 if (x['prob_0'] > x['prob_1']) else 1, axis=1)\n",
    "            test_prediction = test_prediction[['prob_0', 'prob_1', 'prediction']]\n",
    "            test_prediction.to_csv(os.path.join(target_dir,\"test_prediction_model3.csv\"), index=False)\n",
    "            \n",
    "        if patience_counter >= patience:\n",
    "            print(\"-> Early stopping: patience limit reached, stopping...\")\n",
    "            break"
   ]
  },
  {
   "cell_type": "markdown",
   "metadata": {},
   "source": [
    "# main**"
   ]
  },
  {
   "cell_type": "code",
   "execution_count": 15,
   "metadata": {},
   "outputs": [
    {
     "name": "stdout",
     "output_type": "stream",
     "text": [
      "Trining Data info: (24353, 4)\n",
      "Validation Data info: (8117, 4)\n",
      "Testing Data info: (1, 5)\n",
      "====================  Preparing for training  ====================\n",
      "\t* Loading training data...\n",
      "\t* Loading validation data...\n"
     ]
    },
    {
     "name": "stderr",
     "output_type": "stream",
     "text": [
      "Token indices sequence length is longer than the specified maximum sequence length for this model (774 > 512). Running this sequence through the model will result in indexing errors\n"
     ]
    },
    {
     "name": "stdout",
     "output_type": "stream",
     "text": [
      "\t* Loading test data...\n",
      "\t* Building model...\n"
     ]
    },
    {
     "name": "stderr",
     "output_type": "stream",
     "text": [
      "/opt/conda/lib/python3.8/site-packages/transformers/optimization.py:306: FutureWarning: This implementation of AdamW is deprecated and will be removed in a future version. Use the PyTorch implementation torch.optim.AdamW instead, or set `no_deprecation_warning=True` to disable this warning\n",
      "  warnings.warn(\n"
     ]
    },
    {
     "name": "stdout",
     "output_type": "stream",
     "text": [
      "\n",
      "* Validation loss before training: 1.2464, accuracy: 45.4232%, auc: 0.5096\n",
      "\n",
      " ==================== Training bert model on device: cuda ====================\n",
      "* Training epoch 1:\n"
     ]
    },
    {
     "name": "stderr",
     "output_type": "stream",
     "text": [
      "Avg. batch proc. time: 2.3311s, loss: 0.9491:   2%|▏         | 26/1523 [02:26<2:20:36,  5.64s/it]\n"
     ]
    },
    {
     "ename": "KeyboardInterrupt",
     "evalue": "",
     "output_type": "error",
     "traceback": [
      "\u001b[0;31m---------------------------------------------------------------------------\u001b[0m",
      "\u001b[0;31mKeyboardInterrupt\u001b[0m                         Traceback (most recent call last)",
      "Input \u001b[0;32mIn [15]\u001b[0m, in \u001b[0;36m<module>\u001b[0;34m\u001b[0m\n\u001b[1;32m      8\u001b[0m \u001b[38;5;28mprint\u001b[39m(\u001b[38;5;124mf\u001b[39m\u001b[38;5;124m\"\u001b[39m\u001b[38;5;124mTesting Data info: \u001b[39m\u001b[38;5;132;01m{\u001b[39;00mtest_df\u001b[38;5;241m.\u001b[39mshape\u001b[38;5;132;01m}\u001b[39;00m\u001b[38;5;124m\"\u001b[39m)\n\u001b[1;32m      9\u001b[0m target_dir \u001b[38;5;241m=\u001b[39m \u001b[38;5;124m\"\u001b[39m\u001b[38;5;124mModel/output/Albert\u001b[39m\u001b[38;5;124m\"\u001b[39m\n\u001b[0;32m---> 10\u001b[0m \u001b[43mmodel_train_validate_test\u001b[49m\u001b[43m(\u001b[49m\u001b[43mtrain_df\u001b[49m\u001b[43m,\u001b[49m\u001b[43m \u001b[49m\u001b[43mval_df\u001b[49m\u001b[43m,\u001b[49m\u001b[43m \u001b[49m\u001b[43mtest_df\u001b[49m\u001b[43m,\u001b[49m\u001b[43m \u001b[49m\u001b[43mtarget_dir\u001b[49m\u001b[43m)\u001b[49m\n",
      "Input \u001b[0;32mIn [14]\u001b[0m, in \u001b[0;36mmodel_train_validate_test\u001b[0;34m(train_df, dev_df, test_df, target_dir, max_seq_len, epochs, batch_size, lr, patience, max_grad_norm, if_save_model, checkpoint)\u001b[0m\n\u001b[1;32m    146\u001b[0m epochs_count\u001b[38;5;241m.\u001b[39mappend(epoch)\n\u001b[1;32m    148\u001b[0m \u001b[38;5;28mprint\u001b[39m(\u001b[38;5;124m\"\u001b[39m\u001b[38;5;124m* Training epoch \u001b[39m\u001b[38;5;132;01m{}\u001b[39;00m\u001b[38;5;124m:\u001b[39m\u001b[38;5;124m\"\u001b[39m\u001b[38;5;241m.\u001b[39mformat(epoch))\n\u001b[0;32m--> 149\u001b[0m epoch_time, epoch_loss, epoch_accuracy \u001b[38;5;241m=\u001b[39m \u001b[43mtrain\u001b[49m\u001b[43m(\u001b[49m\u001b[43mmodel\u001b[49m\u001b[43m,\u001b[49m\u001b[43m \u001b[49m\u001b[43mtrain_loader\u001b[49m\u001b[43m,\u001b[49m\u001b[43m \u001b[49m\u001b[43moptimizer\u001b[49m\u001b[43m,\u001b[49m\u001b[43m \u001b[49m\u001b[43mepoch\u001b[49m\u001b[43m,\u001b[49m\u001b[43m \u001b[49m\u001b[43mmax_grad_norm\u001b[49m\u001b[43m,\u001b[49m\u001b[43m \u001b[49m\u001b[43mscheduler\u001b[49m\u001b[43m)\u001b[49m\n\u001b[1;32m    150\u001b[0m train_losses\u001b[38;5;241m.\u001b[39mappend(epoch_loss)\n\u001b[1;32m    151\u001b[0m train_accuracies\u001b[38;5;241m.\u001b[39mappend(epoch_accuracy)  \n",
      "Input \u001b[0;32mIn [10]\u001b[0m, in \u001b[0;36mtrain\u001b[0;34m(model, dataloader, optimizer, epoch_number, max_gradient_norm, scheduler)\u001b[0m\n\u001b[1;32m     35\u001b[0m scheduler\u001b[38;5;241m.\u001b[39mstep()\n\u001b[1;32m     36\u001b[0m batch_time_avg \u001b[38;5;241m+\u001b[39m\u001b[38;5;241m=\u001b[39m time\u001b[38;5;241m.\u001b[39mtime() \u001b[38;5;241m-\u001b[39m batch_start\n\u001b[0;32m---> 37\u001b[0m running_loss \u001b[38;5;241m+\u001b[39m\u001b[38;5;241m=\u001b[39m \u001b[43mloss\u001b[49m\u001b[38;5;241;43m.\u001b[39;49m\u001b[43mitem\u001b[49m\u001b[43m(\u001b[49m\u001b[43m)\u001b[49m\n\u001b[1;32m     38\u001b[0m correct_preds \u001b[38;5;241m+\u001b[39m\u001b[38;5;241m=\u001b[39m correct_predictions(probabilities, labels)\n\u001b[1;32m     39\u001b[0m description \u001b[38;5;241m=\u001b[39m \u001b[38;5;124m\"\u001b[39m\u001b[38;5;124mAvg. batch proc. time: \u001b[39m\u001b[38;5;132;01m{:.4f}\u001b[39;00m\u001b[38;5;124ms, loss: \u001b[39m\u001b[38;5;132;01m{:.4f}\u001b[39;00m\u001b[38;5;124m\"\u001b[39m\\\n\u001b[1;32m     40\u001b[0m               \u001b[38;5;241m.\u001b[39mformat(batch_time_avg\u001b[38;5;241m/\u001b[39m(batch_index\u001b[38;5;241m+\u001b[39m\u001b[38;5;241m1\u001b[39m), running_loss\u001b[38;5;241m/\u001b[39m(batch_index\u001b[38;5;241m+\u001b[39m\u001b[38;5;241m1\u001b[39m))\n",
      "\u001b[0;31mKeyboardInterrupt\u001b[0m: "
     ]
    }
   ],
   "source": [
    "if __name__ == \"__main__\":\n",
    "    data_path = \"../Datasets/HuggingFaceDataset/cc_news/\"\n",
    "    train_df = pd.read_csv(os.path.join(data_path,\"train.csv\"))\n",
    "    print(f\"Trining Data info: {train_df.shape}\")\n",
    "    val_df = pd.read_csv(os.path.join(data_path,\"val.csv\"))\n",
    "    print(f\"Validation Data info: {val_df.shape}\")\n",
    "    test_df = pd.read_csv(os.path.join(data_path,\"test.csv\")).head(1)\n",
    "    print(f\"Testing Data info: {test_df.shape}\")\n",
    "    target_dir = \"Model/\"\n",
    "    model_train_validate_test(train_df, val_df, test_df, target_dir)"
   ]
  },
  {
   "cell_type": "markdown",
   "metadata": {},
   "source": [
    "# Test Model**"
   ]
  },
  {
   "cell_type": "code",
   "execution_count": 19,
   "metadata": {},
   "outputs": [],
   "source": [
    "def model_load_test(test_df, target_dir,\n",
    "                    test_prediction_dir,\n",
    "                    test_prediction_name,\n",
    "                    max_seq_len=MAX_SEQ_LENGTH, batch_size=PREDICT_BATCH_SIZE):\n",
    "    \n",
    "    bertmodel = RobertModel(requires_grad = True)\n",
    "    tokenizer = bertmodel.tokenizer\n",
    "    device = torch.device(\"cuda\")\n",
    "    \n",
    "    print(20 * \"=\", \" Preparing for testing \", 20 * \"=\")\n",
    "    if platform == \"linux\" or platform == \"linux2\":\n",
    "        checkpoint = torch.load(os.path.join(target_dir, \"roberta-model2.pth.tar\"))\n",
    "    else:\n",
    "        checkpoint = torch.load(os.path.join(target_dir, \"roberta-model2.pth.tar\"), map_location=device)\n",
    "        \n",
    "    print(\"\\t* Loading test data...\")    \n",
    "    test_data = NewsDataset(tokenizer,test_df, max_seq_len = max_seq_len) \n",
    "    test_loader = DataLoader(test_data, shuffle=False, batch_size=batch_size)\n",
    "\n",
    "    # Retrieving model parameters from checkpoint.\n",
    "    print(\"\\t* Building model...\")\n",
    "    model = bertmodel.to(device)\n",
    "    model.load_state_dict(checkpoint[\"model\"])\n",
    "    print(20 * \"=\", \" Testing BERT model on device: {} \".format(device), 20 * \"=\")\n",
    "    \n",
    "    batch_time, total_time, accuracy, all_prob, all_labels = test(model, test_loader)\n",
    "    print(\"\\n-> Average batch processing time: {:.4f}s, total test time: {:.4f}s, accuracy: {:.4f}%\\n\".format(batch_time, total_time, (accuracy*100)))\n",
    "    \n",
    "    test_prediction = pd.DataFrame({'prob_1':all_prob})\n",
    "    test_prediction['prob_0'] = 1-test_prediction['prob_1']\n",
    "    test_prediction['prediction'] = test_prediction.apply(lambda x: 0 if (x['prob_0'] > x['prob_1']) else 1, axis=1)\n",
    "    test_prediction['label'] = [i.item() for i in all_labels]\n",
    "    test_prediction = test_prediction[['prob_0', 'prob_1', 'prediction','label']]\n",
    "    \n",
    "    if not os.path.exists(test_prediction_dir):\n",
    "        os.makedirs(test_prediction_dir)\n",
    "    test_prediction.to_csv(os.path.join(test_prediction_dir, test_prediction_name), index=False)\n",
    "\n",
    "    y_actu = all_labels\n",
    "    y_pred = test_prediction['prediction'].to_list()\n",
    "    cf_matrix = confusion_matrix(y_actu, y_pred)\n",
    "    class_rep = classification_report(y_actu, y_pred,labels=[0,1],output_dict=True)\n",
    "    return cf_matrix, class_rep"
   ]
  },
  {
   "cell_type": "markdown",
   "metadata": {},
   "source": [
    "# Testing main**"
   ]
  },
  {
   "cell_type": "code",
   "execution_count": 20,
   "metadata": {},
   "outputs": [
    {
     "name": "stdout",
     "output_type": "stream",
     "text": [
      "====================  Preparing for testing  ====================\n"
     ]
    },
    {
     "name": "stderr",
     "output_type": "stream",
     "text": [
      "Token indices sequence length is longer than the specified maximum sequence length for this model (892 > 512). Running this sequence through the model will result in indexing errors\n"
     ]
    },
    {
     "name": "stdout",
     "output_type": "stream",
     "text": [
      "\t* Loading test data...\n",
      "\t* Building model...\n",
      "====================  Testing BERT model on device: cuda  ====================\n",
      "\n",
      "-> Average batch processing time: 0.3947s, total test time: 200.9943s, accuracy: 98.1767%\n",
      "\n"
     ]
    }
   ],
   "source": [
    "if __name__ == \"__main__\":\n",
    "    import pandas as pd\n",
    "    test_df = pd.read_csv('../Datasets/HuggingFaceDataset/GonzaloA-fake_news/Dataset(02)/test.csv')\n",
    "    target_dir = 'Model/output/Roberta/'\n",
    "    test_prediction_dir = 'Model/output/Roberta/test_pred'\n",
    "    test_prediction_name = 'test_prediction_model02.csv' \n",
    "    MAX_SEQ_LENGTH = 512\n",
    "    cf_matrix, class_rep = model_load_test(test_df, target_dir,test_prediction_dir,test_prediction_name,max_seq_len=MAX_SEQ_LENGTH, batch_size=PREDICT_BATCH_SIZE)"
   ]
  },
  {
   "cell_type": "code",
   "execution_count": 21,
   "metadata": {},
   "outputs": [
    {
     "data": {
      "text/plain": [
       "<AxesSubplot:>"
      ]
     },
     "execution_count": 21,
     "metadata": {},
     "output_type": "execute_result"
    },
    {
     "data": {
      "image/png": "[encoded data removed]",
      "text/plain": [
       "<Figure size 432x288 with 2 Axes>"
      ]
     },
     "metadata": {
      "needs_background": "light"
     },
     "output_type": "display_data"
    }
   ],
   "source": [
    "sns.heatmap(cf_matrix, annot=True)"
   ]
  },
  {
   "cell_type": "markdown",
   "metadata": {},
   "source": [
    "# Classification report**"
   ]
  },
  {
   "cell_type": "code",
   "execution_count": 18,
   "metadata": {},
   "outputs": [
    {
     "data": {
      "text/plain": [
       "<AxesSubplot:>"
      ]
     },
     "execution_count": 18,
     "metadata": {},
     "output_type": "execute_result"
    },
    {
     "data": {
      "image/png": "[encoded data removed]",
      "text/plain": [
       "<Figure size 432x288 with 2 Axes>"
      ]
     },
     "metadata": {
      "needs_background": "light"
     },
     "output_type": "display_data"
    }
   ],
   "source": [
    "# .iloc[:-1, :] to exclude support\n",
    "crp_plot = sns.heatmap(pd.DataFrame(class_rep).iloc[:-1, :].T, annot=True)\n",
    "crp_plot\n",
    "crp_plot.figure.savefig(\"model1_class_rep.png\")"
   ]
  },
  {
   "cell_type": "markdown",
   "metadata": {},
   "source": [
    "# Confusion matrix**"
   ]
  },
  {
   "cell_type": "code",
   "execution_count": 157,
   "metadata": {
    "scrolled": true,
    "tags": []
   },
   "outputs": [
    {
     "data": {
      "image/png": "[encoded data removed]",
      "text/plain": [
       "<Figure size 432x288 with 2 Axes>"
      ]
     },
     "metadata": {
      "needs_background": "light"
     },
     "output_type": "display_data"
    }
   ],
   "source": [
    "cfm_plot = sns.heatmap(cf_matrix, annot=True)\n",
    "cfm_plot.figure.savefig(\"model1_cfm.png\")"
   ]
  }
 ],
 "metadata": {
  "accelerator": "GPU",
  "colab": {
   "collapsed_sections": [],
   "name": "XLM-Roberta_for_textClasification.ipynb",
   "provenance": []
  },
  "kernelspec": {
   "display_name": "Python 3 (ipykernel)",
   "language": "python",
   "name": "python3"
  },
  "language_info": {
   "codemirror_mode": {
    "name": "ipython",
    "version": 3
   },
   "file_extension": ".py",
   "mimetype": "text/x-python",
   "name": "python",
   "nbconvert_exporter": "python",
   "pygments_lexer": "ipython3",
   "version": "3.8.12"
  },
  "widgets": {
   "application/vnd.jupyter.widget-state+json": {
    "state": {},
    "version_major": 2,
    "version_minor": 0
   }
  }
 },
 "nbformat": 4,
 "nbformat_minor": 4
}
